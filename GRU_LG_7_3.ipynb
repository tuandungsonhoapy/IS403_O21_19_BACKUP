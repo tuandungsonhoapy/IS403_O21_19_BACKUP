{
  "nbformat": 4,
  "nbformat_minor": 0,
  "metadata": {
    "colab": {
      "provenance": []
    },
    "kernelspec": {
      "name": "python3",
      "display_name": "Python 3"
    },
    "language_info": {
      "name": "python"
    }
  },
  "cells": [
    {
      "cell_type": "code",
      "execution_count": 13,
      "metadata": {
        "colab": {
          "base_uri": "https://localhost:8080/"
        },
        "id": "WCwMw2UPEmj4",
        "outputId": "20a8f613-ff2d-49f9-ab85-d3993731dbbf"
      },
      "outputs": [
        {
          "output_type": "stream",
          "name": "stdout",
          "text": [
            "Drive already mounted at /content/drive; to attempt to forcibly remount, call drive.mount(\"/content/drive\", force_remount=True).\n"
          ]
        }
      ],
      "source": [
        " from google.colab import drive\n",
        "drive.mount('/content/drive')\n",
        "import numpy as np\n",
        "import pandas as pd\n",
        "import matplotlib.pyplot as plt\n",
        "from sklearn.preprocessing import MinMaxScaler\n",
        "from keras.models import Sequential\n",
        "from keras.layers import Dense, GRU"
      ]
    },
    {
      "cell_type": "code",
      "source": [
        "df = pd.read_csv('/content/LG.csv')\n",
        "df_reversed = df.loc[::-1].reset_index(drop=True)\n",
        "df1=df.reset_index()['Close']"
      ],
      "metadata": {
        "id": "QzOdIrBXEy_j"
      },
      "execution_count": 4,
      "outputs": []
    },
    {
      "cell_type": "code",
      "source": [
        "df1"
      ],
      "metadata": {
        "colab": {
          "base_uri": "https://localhost:8080/"
        },
        "id": "AITlO7Vj4zvQ",
        "outputId": "49bf8e64-f9b7-49ac-c685-0393dbabd93f"
      },
      "execution_count": 8,
      "outputs": [
        {
          "output_type": "execute_result",
          "data": {
            "text/plain": [
              "array([[0.38106881],\n",
              "       [0.36500175],\n",
              "       [0.37408313],\n",
              "       ...,\n",
              "       [0.22738386],\n",
              "       [0.20572826],\n",
              "       [0.20502969]])"
            ]
          },
          "metadata": {},
          "execution_count": 8
        }
      ]
    },
    {
      "cell_type": "code",
      "source": [
        "scaler=MinMaxScaler(feature_range=(0,1))\n",
        "df1=scaler.fit_transform(np.array(df1).reshape(-1,1))"
      ],
      "metadata": {
        "id": "xbx1GTAoFm1S"
      },
      "execution_count": 5,
      "outputs": []
    },
    {
      "cell_type": "code",
      "source": [
        "# 4. Chia train test\n",
        "train_size = int(0.7 * len(df1))\n",
        "test_size = int(0.3 * len(df1))\n",
        "\n",
        "train_data = df1[:train_size]\n",
        "test_data = df1[train_size:]"
      ],
      "metadata": {
        "id": "FYxQp80LFpez"
      },
      "execution_count": 24,
      "outputs": []
    },
    {
      "cell_type": "code",
      "source": [
        "# 5. Hàm Create Dataset\n",
        "import numpy\n",
        "# convert an array of values into a dataset matrix\n",
        "def create_dataset(dataset, time_step=1):\n",
        "\tdataX, dataY = [], []\n",
        "\tfor i in range(len(dataset)-time_step-1):\n",
        "\t\ta = dataset[i:(i+time_step), 0]   ###i=0, X=0,1,2,3-----99   Y=100\n",
        "\t\tdataX.append(a)\n",
        "\t\tdataY.append(dataset[i + time_step, 0])\n",
        "\treturn numpy.array(dataX), numpy.array(dataY)"
      ],
      "metadata": {
        "id": "9F_jnjb6Fr2o"
      },
      "execution_count": 30,
      "outputs": []
    },
    {
      "cell_type": "code",
      "source": [
        "#6. Reshape into X=t,t+1,t+2..t+99 and Y=t+100\n",
        "\n",
        "time_step = 100\n",
        "X_train, y_train = create_dataset(train_data, time_step)\n",
        "X_test, ytest = create_dataset(test_data, time_step)"
      ],
      "metadata": {
        "id": "AZtWRmNVFuXR"
      },
      "execution_count": 31,
      "outputs": []
    },
    {
      "cell_type": "code",
      "source": [
        "# 7. Reshape input to be [samples, time steps, features] which is required for LSTM\n",
        "X_train =X_train.reshape(X_train.shape[0],X_train.shape[1] , 1)\n",
        "X_test = X_test.reshape(X_test.shape[0],X_test.shape[1] , 1)"
      ],
      "metadata": {
        "id": "0yep4S86FwWG"
      },
      "execution_count": 32,
      "outputs": []
    },
    {
      "cell_type": "code",
      "source": [
        "model = Sequential()\n",
        "model.add(GRU(64, input_shape=(time_step, 1)))\n",
        "model.add(Dense(1))\n",
        "model.compile(optimizer='adam', loss='mean_squared_error')"
      ],
      "metadata": {
        "id": "4Cj0bDxHFygH"
      },
      "execution_count": 33,
      "outputs": []
    },
    {
      "cell_type": "code",
      "source": [
        "# 9. Fit mô hình với dữ liệu train\n",
        "model.fit(X_train,y_train,validation_data=(X_test,ytest),epochs=100,batch_size=64,verbose=1)"
      ],
      "metadata": {
        "colab": {
          "base_uri": "https://localhost:8080/"
        },
        "id": "_XG0XbtZF05Q",
        "outputId": "a9a749be-0565-406a-f4bc-18ee481e0a84"
      },
      "execution_count": 34,
      "outputs": [
        {
          "output_type": "stream",
          "name": "stdout",
          "text": [
            "Epoch 1/100\n",
            "15/15 [==============================] - 3s 86ms/step - loss: 0.0492 - val_loss: 0.0375\n",
            "Epoch 2/100\n",
            "15/15 [==============================] - 1s 56ms/step - loss: 0.0078 - val_loss: 0.0058\n",
            "Epoch 3/100\n",
            "15/15 [==============================] - 1s 81ms/step - loss: 0.0039 - val_loss: 0.0124\n",
            "Epoch 4/100\n",
            "15/15 [==============================] - 1s 93ms/step - loss: 0.0025 - val_loss: 0.0065\n",
            "Epoch 5/100\n",
            "15/15 [==============================] - 1s 91ms/step - loss: 0.0019 - val_loss: 0.0057\n",
            "Epoch 6/100\n",
            "15/15 [==============================] - 1s 93ms/step - loss: 0.0015 - val_loss: 0.0034\n",
            "Epoch 7/100\n",
            "15/15 [==============================] - 1s 55ms/step - loss: 0.0012 - val_loss: 0.0021\n",
            "Epoch 8/100\n",
            "15/15 [==============================] - 1s 56ms/step - loss: 9.5634e-04 - val_loss: 0.0013\n",
            "Epoch 9/100\n",
            "15/15 [==============================] - 1s 57ms/step - loss: 8.1994e-04 - val_loss: 6.9324e-04\n",
            "Epoch 10/100\n",
            "15/15 [==============================] - 1s 56ms/step - loss: 7.5251e-04 - val_loss: 4.3537e-04\n",
            "Epoch 11/100\n",
            "15/15 [==============================] - 1s 56ms/step - loss: 6.9704e-04 - val_loss: 2.7403e-04\n",
            "Epoch 12/100\n",
            "15/15 [==============================] - 1s 57ms/step - loss: 6.7720e-04 - val_loss: 2.2166e-04\n",
            "Epoch 13/100\n",
            "15/15 [==============================] - 1s 54ms/step - loss: 6.6275e-04 - val_loss: 2.1420e-04\n",
            "Epoch 14/100\n",
            "15/15 [==============================] - 1s 58ms/step - loss: 6.5319e-04 - val_loss: 2.0449e-04\n",
            "Epoch 15/100\n",
            "15/15 [==============================] - 1s 57ms/step - loss: 6.4275e-04 - val_loss: 1.7253e-04\n",
            "Epoch 16/100\n",
            "15/15 [==============================] - 1s 58ms/step - loss: 6.2407e-04 - val_loss: 1.4395e-04\n",
            "Epoch 17/100\n",
            "15/15 [==============================] - 1s 57ms/step - loss: 6.2368e-04 - val_loss: 1.4496e-04\n",
            "Epoch 18/100\n",
            "15/15 [==============================] - 1s 62ms/step - loss: 6.0855e-04 - val_loss: 1.7923e-04\n",
            "Epoch 19/100\n",
            "15/15 [==============================] - 1s 90ms/step - loss: 6.0030e-04 - val_loss: 1.5173e-04\n",
            "Epoch 20/100\n",
            "15/15 [==============================] - 1s 89ms/step - loss: 5.9142e-04 - val_loss: 1.5244e-04\n",
            "Epoch 21/100\n",
            "15/15 [==============================] - 1s 90ms/step - loss: 5.8447e-04 - val_loss: 1.5806e-04\n",
            "Epoch 22/100\n",
            "15/15 [==============================] - 1s 88ms/step - loss: 5.8580e-04 - val_loss: 1.7608e-04\n",
            "Epoch 23/100\n",
            "15/15 [==============================] - 1s 56ms/step - loss: 5.7229e-04 - val_loss: 1.4119e-04\n",
            "Epoch 24/100\n",
            "15/15 [==============================] - 1s 56ms/step - loss: 5.6472e-04 - val_loss: 1.5024e-04\n",
            "Epoch 25/100\n",
            "15/15 [==============================] - 1s 57ms/step - loss: 5.6136e-04 - val_loss: 1.6002e-04\n",
            "Epoch 26/100\n",
            "15/15 [==============================] - 1s 57ms/step - loss: 5.5348e-04 - val_loss: 1.3534e-04\n",
            "Epoch 27/100\n",
            "15/15 [==============================] - 1s 55ms/step - loss: 5.5992e-04 - val_loss: 1.5088e-04\n",
            "Epoch 28/100\n",
            "15/15 [==============================] - 1s 56ms/step - loss: 5.4905e-04 - val_loss: 1.7154e-04\n",
            "Epoch 29/100\n",
            "15/15 [==============================] - 1s 56ms/step - loss: 5.4130e-04 - val_loss: 1.2344e-04\n",
            "Epoch 30/100\n",
            "15/15 [==============================] - 1s 57ms/step - loss: 5.4455e-04 - val_loss: 1.2041e-04\n",
            "Epoch 31/100\n",
            "15/15 [==============================] - 1s 57ms/step - loss: 5.6732e-04 - val_loss: 1.5134e-04\n",
            "Epoch 32/100\n",
            "15/15 [==============================] - 1s 56ms/step - loss: 5.4355e-04 - val_loss: 1.5063e-04\n",
            "Epoch 33/100\n",
            "15/15 [==============================] - 1s 57ms/step - loss: 5.3707e-04 - val_loss: 1.8777e-04\n",
            "Epoch 34/100\n",
            "15/15 [==============================] - 1s 65ms/step - loss: 5.3108e-04 - val_loss: 1.4756e-04\n",
            "Epoch 35/100\n",
            "15/15 [==============================] - 1s 90ms/step - loss: 5.1764e-04 - val_loss: 1.3400e-04\n",
            "Epoch 36/100\n",
            "15/15 [==============================] - 1s 90ms/step - loss: 5.1965e-04 - val_loss: 1.3776e-04\n",
            "Epoch 37/100\n",
            "15/15 [==============================] - 1s 92ms/step - loss: 5.1217e-04 - val_loss: 1.4058e-04\n",
            "Epoch 38/100\n",
            "15/15 [==============================] - 1s 75ms/step - loss: 5.1074e-04 - val_loss: 1.3158e-04\n",
            "Epoch 39/100\n",
            "15/15 [==============================] - 1s 55ms/step - loss: 5.0939e-04 - val_loss: 1.3238e-04\n",
            "Epoch 40/100\n",
            "15/15 [==============================] - 1s 61ms/step - loss: 5.0525e-04 - val_loss: 1.2994e-04\n",
            "Epoch 41/100\n",
            "15/15 [==============================] - 1s 56ms/step - loss: 5.0382e-04 - val_loss: 1.2570e-04\n",
            "Epoch 42/100\n",
            "15/15 [==============================] - 1s 57ms/step - loss: 5.0231e-04 - val_loss: 1.3800e-04\n",
            "Epoch 43/100\n",
            "15/15 [==============================] - 1s 56ms/step - loss: 5.0350e-04 - val_loss: 1.3659e-04\n",
            "Epoch 44/100\n",
            "15/15 [==============================] - 1s 56ms/step - loss: 5.2108e-04 - val_loss: 1.0822e-04\n",
            "Epoch 45/100\n",
            "15/15 [==============================] - 1s 57ms/step - loss: 5.2742e-04 - val_loss: 1.0838e-04\n",
            "Epoch 46/100\n",
            "15/15 [==============================] - 1s 57ms/step - loss: 4.9267e-04 - val_loss: 1.2649e-04\n",
            "Epoch 47/100\n",
            "15/15 [==============================] - 1s 58ms/step - loss: 4.8681e-04 - val_loss: 1.1653e-04\n",
            "Epoch 48/100\n",
            "15/15 [==============================] - 1s 57ms/step - loss: 4.9217e-04 - val_loss: 1.1135e-04\n",
            "Epoch 49/100\n",
            "15/15 [==============================] - 1s 56ms/step - loss: 5.0315e-04 - val_loss: 1.0652e-04\n",
            "Epoch 50/100\n",
            "15/15 [==============================] - 1s 84ms/step - loss: 4.8608e-04 - val_loss: 1.1577e-04\n",
            "Epoch 51/100\n",
            "15/15 [==============================] - 1s 90ms/step - loss: 4.8438e-04 - val_loss: 1.2592e-04\n",
            "Epoch 52/100\n",
            "15/15 [==============================] - 1s 88ms/step - loss: 4.8191e-04 - val_loss: 1.0888e-04\n",
            "Epoch 53/100\n",
            "15/15 [==============================] - 1s 94ms/step - loss: 4.7916e-04 - val_loss: 1.0922e-04\n",
            "Epoch 54/100\n",
            "15/15 [==============================] - 1s 56ms/step - loss: 4.7791e-04 - val_loss: 1.0081e-04\n",
            "Epoch 55/100\n",
            "15/15 [==============================] - 1s 56ms/step - loss: 5.1015e-04 - val_loss: 1.0033e-04\n",
            "Epoch 56/100\n",
            "15/15 [==============================] - 1s 57ms/step - loss: 5.0517e-04 - val_loss: 1.4389e-04\n",
            "Epoch 57/100\n",
            "15/15 [==============================] - 1s 58ms/step - loss: 4.8341e-04 - val_loss: 1.1579e-04\n",
            "Epoch 58/100\n",
            "15/15 [==============================] - 1s 56ms/step - loss: 4.6926e-04 - val_loss: 1.2050e-04\n",
            "Epoch 59/100\n",
            "15/15 [==============================] - 1s 57ms/step - loss: 4.6955e-04 - val_loss: 1.1048e-04\n",
            "Epoch 60/100\n",
            "15/15 [==============================] - 1s 56ms/step - loss: 4.6791e-04 - val_loss: 1.0684e-04\n",
            "Epoch 61/100\n",
            "15/15 [==============================] - 1s 58ms/step - loss: 4.7790e-04 - val_loss: 1.0216e-04\n",
            "Epoch 62/100\n",
            "15/15 [==============================] - 1s 57ms/step - loss: 4.6329e-04 - val_loss: 1.1475e-04\n",
            "Epoch 63/100\n",
            "15/15 [==============================] - 1s 57ms/step - loss: 4.6566e-04 - val_loss: 1.0191e-04\n",
            "Epoch 64/100\n",
            "15/15 [==============================] - 1s 56ms/step - loss: 4.7160e-04 - val_loss: 1.1588e-04\n",
            "Epoch 65/100\n",
            "15/15 [==============================] - 1s 70ms/step - loss: 4.9453e-04 - val_loss: 9.6205e-05\n",
            "Epoch 66/100\n",
            "15/15 [==============================] - 1s 91ms/step - loss: 4.8102e-04 - val_loss: 9.5631e-05\n",
            "Epoch 67/100\n",
            "15/15 [==============================] - 1s 90ms/step - loss: 4.6833e-04 - val_loss: 9.6735e-05\n",
            "Epoch 68/100\n",
            "15/15 [==============================] - 1s 96ms/step - loss: 4.6494e-04 - val_loss: 1.3017e-04\n",
            "Epoch 69/100\n",
            "15/15 [==============================] - 1s 62ms/step - loss: 5.0302e-04 - val_loss: 1.1236e-04\n",
            "Epoch 70/100\n",
            "15/15 [==============================] - 1s 59ms/step - loss: 4.7263e-04 - val_loss: 1.0138e-04\n",
            "Epoch 71/100\n",
            "15/15 [==============================] - 1s 57ms/step - loss: 4.5515e-04 - val_loss: 1.0648e-04\n",
            "Epoch 72/100\n",
            "15/15 [==============================] - 1s 57ms/step - loss: 4.6080e-04 - val_loss: 1.0104e-04\n",
            "Epoch 73/100\n",
            "15/15 [==============================] - 1s 57ms/step - loss: 4.5503e-04 - val_loss: 9.3103e-05\n",
            "Epoch 74/100\n",
            "15/15 [==============================] - 1s 57ms/step - loss: 4.6672e-04 - val_loss: 1.0143e-04\n",
            "Epoch 75/100\n",
            "15/15 [==============================] - 1s 55ms/step - loss: 4.5727e-04 - val_loss: 9.7651e-05\n",
            "Epoch 76/100\n",
            "15/15 [==============================] - 1s 58ms/step - loss: 4.4837e-04 - val_loss: 9.8405e-05\n",
            "Epoch 77/100\n",
            "15/15 [==============================] - 2s 124ms/step - loss: 4.5187e-04 - val_loss: 9.3683e-05\n",
            "Epoch 78/100\n",
            "15/15 [==============================] - 2s 120ms/step - loss: 4.7711e-04 - val_loss: 9.4696e-05\n",
            "Epoch 79/100\n",
            "15/15 [==============================] - 3s 222ms/step - loss: 4.5229e-04 - val_loss: 1.0238e-04\n",
            "Epoch 80/100\n",
            "15/15 [==============================] - 1s 96ms/step - loss: 4.5138e-04 - val_loss: 9.5858e-05\n",
            "Epoch 81/100\n",
            "15/15 [==============================] - 1s 61ms/step - loss: 4.4851e-04 - val_loss: 9.1302e-05\n",
            "Epoch 82/100\n",
            "15/15 [==============================] - 1s 57ms/step - loss: 4.4942e-04 - val_loss: 9.8550e-05\n",
            "Epoch 83/100\n",
            "15/15 [==============================] - 1s 56ms/step - loss: 4.4702e-04 - val_loss: 9.0440e-05\n",
            "Epoch 84/100\n",
            "15/15 [==============================] - 1s 57ms/step - loss: 4.5056e-04 - val_loss: 9.0607e-05\n",
            "Epoch 85/100\n",
            "15/15 [==============================] - 1s 56ms/step - loss: 4.5285e-04 - val_loss: 9.9361e-05\n",
            "Epoch 86/100\n",
            "15/15 [==============================] - 1s 58ms/step - loss: 4.4567e-04 - val_loss: 1.0111e-04\n",
            "Epoch 87/100\n",
            "15/15 [==============================] - 1s 58ms/step - loss: 4.4299e-04 - val_loss: 8.9235e-05\n",
            "Epoch 88/100\n",
            "15/15 [==============================] - 1s 58ms/step - loss: 4.5158e-04 - val_loss: 1.5385e-04\n",
            "Epoch 89/100\n",
            "15/15 [==============================] - 1s 56ms/step - loss: 4.5880e-04 - val_loss: 1.0892e-04\n",
            "Epoch 90/100\n",
            "15/15 [==============================] - 1s 78ms/step - loss: 4.4148e-04 - val_loss: 9.3306e-05\n",
            "Epoch 91/100\n",
            "15/15 [==============================] - 2s 143ms/step - loss: 4.3753e-04 - val_loss: 8.8090e-05\n",
            "Epoch 92/100\n",
            "15/15 [==============================] - 3s 170ms/step - loss: 4.6031e-04 - val_loss: 1.0966e-04\n",
            "Epoch 93/100\n",
            "15/15 [==============================] - 2s 137ms/step - loss: 4.4548e-04 - val_loss: 9.0230e-05\n",
            "Epoch 94/100\n",
            "15/15 [==============================] - 1s 63ms/step - loss: 4.5821e-04 - val_loss: 9.0155e-05\n",
            "Epoch 95/100\n",
            "15/15 [==============================] - 1s 59ms/step - loss: 4.3667e-04 - val_loss: 8.9837e-05\n",
            "Epoch 96/100\n",
            "15/15 [==============================] - 1s 59ms/step - loss: 4.4371e-04 - val_loss: 8.8975e-05\n",
            "Epoch 97/100\n",
            "15/15 [==============================] - 1s 56ms/step - loss: 4.3627e-04 - val_loss: 9.1599e-05\n",
            "Epoch 98/100\n",
            "15/15 [==============================] - 1s 55ms/step - loss: 4.4701e-04 - val_loss: 9.8488e-05\n",
            "Epoch 99/100\n",
            "15/15 [==============================] - 1s 56ms/step - loss: 4.4297e-04 - val_loss: 9.0275e-05\n",
            "Epoch 100/100\n",
            "15/15 [==============================] - 1s 58ms/step - loss: 4.5347e-04 - val_loss: 8.6112e-05\n"
          ]
        },
        {
          "output_type": "execute_result",
          "data": {
            "text/plain": [
              "<keras.src.callbacks.History at 0x7e50c4204520>"
            ]
          },
          "metadata": {},
          "execution_count": 34
        }
      ]
    },
    {
      "cell_type": "code",
      "source": [
        "# 10. Dự báo dữ liệu test, val\n",
        "train_predict=model.predict(X_train)\n",
        "y_pred=model.predict(X_test)"
      ],
      "metadata": {
        "colab": {
          "base_uri": "https://localhost:8080/"
        },
        "id": "DtLdxpVdHJlK",
        "outputId": "2a4f8112-b054-4403-9cd9-84e86168fa2e"
      },
      "execution_count": 35,
      "outputs": [
        {
          "output_type": "stream",
          "name": "stdout",
          "text": [
            "30/30 [==============================] - 1s 12ms/step\n",
            "11/11 [==============================] - 0s 12ms/step\n"
          ]
        }
      ]
    },
    {
      "cell_type": "code",
      "source": [
        "# 11. Chuẩn hóa dữ liệu y_pred, y_pred_val\n",
        "train_predict=scaler.inverse_transform(train_predict)\n",
        "y_pred=scaler.inverse_transform(y_pred)"
      ],
      "metadata": {
        "id": "dMXxgyE5HNVT"
      },
      "execution_count": 36,
      "outputs": []
    },
    {
      "cell_type": "code",
      "source": [
        "# 12. Đánh giá độ chính xác thuật toán bằng RMSE\n",
        "test_rmse = np.sqrt(np.mean((y_pred - ytest)**2))\n",
        "print('Testing RMSE:', test_rmse)"
      ],
      "metadata": {
        "colab": {
          "base_uri": "https://localhost:8080/"
        },
        "id": "NtNvmLbxHPIZ",
        "outputId": "568a01a1-a88d-4fd9-bfbb-07ab99fb5471"
      },
      "execution_count": 37,
      "outputs": [
        {
          "output_type": "stream",
          "name": "stdout",
          "text": [
            "Testing RMSE: 66979.75644044249\n"
          ]
        }
      ]
    },
    {
      "cell_type": "markdown",
      "source": [
        "# Dự đoán cho 30 ngày tiếp theo"
      ],
      "metadata": {
        "id": "dVR_n--eFM08"
      }
    },
    {
      "cell_type": "code",
      "source": [
        "import numpy as np\n",
        "\n",
        "x_input = test_data[60:].reshape(1, -1)\n",
        "x_input.shape\n",
        "\n",
        "temp_input = list(x_input)\n",
        "temp_input = temp_input[0].tolist()\n",
        "from numpy import array\n",
        "\n",
        "lst_output = []\n",
        "n_steps = 100\n",
        "i = 0\n",
        "while i < 30:\n",
        "    if len(temp_input) > 100:\n",
        "        # Lấy 100 bước thời gian gần nhất từ temp_input\n",
        "        x_input = np.array(temp_input[-100:])\n",
        "        x_input = x_input.reshape((1, 100, 1))\n",
        "        # Dự đoán giá trị tiếp theo\n",
        "        yhat = model.predict(x_input, verbose=0)\n",
        "        # Thêm giá trị dự đoán vào temp_input\n",
        "        temp_input.extend(yhat[0].tolist())\n",
        "        lst_output.extend(yhat.tolist())\n",
        "        # Tiếp tục lặp lại\n",
        "        i += 1\n",
        "    else:\n",
        "        # Nếu temp_input chưa đủ dữ liệu, sử dụng nó như một mẫu đầu vào\n",
        "        x_input = np.array(temp_input)\n",
        "        x_input = x_input.reshape((1, len(temp_input), 1))\n",
        "        # Dự đoán giá trị tiếp theo\n",
        "        yhat = model.predict(x_input, verbose=0)\n",
        "        # Thêm giá trị dự đoán vào temp_input\n",
        "        temp_input.extend(yhat[0].tolist())\n",
        "        lst_output.extend(yhat.tolist())\n",
        "        i += 1"
      ],
      "metadata": {
        "id": "3H3UJlLpHQvO"
      },
      "execution_count": 39,
      "outputs": []
    },
    {
      "cell_type": "code",
      "source": [
        "# 14.Vẽ hình\n",
        "\n",
        "# Plotting\n",
        "train_data_index = pd.RangeIndex(start=0, stop=train_size, step=1)\n",
        "plt.plot(train_data_index, scaler.inverse_transform(train_data))\n",
        "\n",
        "test_data_index = pd.RangeIndex(start=train_size, stop=train_size + len(test_data), step=1)\n",
        "plt.plot(test_data_index, scaler.inverse_transform(test_data))\n",
        "\n",
        "# Adjusting y_pred to have correct shape and length\n",
        "test_data_index_pred = pd.RangeIndex(start=train_size + n_steps, stop=train_size + n_steps + len(y_pred), step=1)\n",
        "plt.plot(test_data_index_pred, y_pred)\n",
        "\n",
        "# Adjusting lst_output to have correct shape and length\n",
        "prediect_data_index = pd.RangeIndex(start=len(df1), stop=len(df1) + len(lst_output), step=1)\n",
        "plt.plot(prediect_data_index, scaler.inverse_transform(lst_output))\n",
        "\n",
        "plt.legend(['Train', 'Test', 'Predict', 'Predict30days'])\n",
        "plt.show()\n"
      ],
      "metadata": {
        "colab": {
          "base_uri": "https://localhost:8080/",
          "height": 430
        },
        "id": "ykhJJcSGHY2R",
        "outputId": "8f75794a-2bc8-4c8e-a815-ac91e063de6e"
      },
      "execution_count": 40,
      "outputs": [
        {
          "output_type": "display_data",
          "data": {
            "text/plain": [
              "<Figure size 640x480 with 1 Axes>"
            ],
            "image/png": "[encoded data removed]"
          },
          "metadata": {}
        }
      ]
    }
  ]
}