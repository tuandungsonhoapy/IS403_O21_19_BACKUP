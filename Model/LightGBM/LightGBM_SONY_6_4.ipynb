{
  "nbformat": 4,
  "nbformat_minor": 0,
  "metadata": {
    "colab": {
      "provenance": []
    },
    "kernelspec": {
      "name": "python3",
      "display_name": "Python 3"
    },
    "language_info": {
      "name": "python"
    }
  },
  "cells": [
    {
      "cell_type": "code",
      "execution_count": 1,
      "metadata": {
        "id": "WfNuabwGO_0g"
      },
      "outputs": [],
      "source": [
        "import numpy as np\n",
        "import pandas as pd\n",
        "from sklearn.model_selection import train_test_split\n",
        "from sklearn.preprocessing import MinMaxScaler\n",
        "import tensorflow as tf\n",
        "from tensorflow.keras.models import Sequential\n",
        "from tensorflow.keras.layers import LSTM, Dense\n",
        "import lightgbm as lgb\n",
        "from sklearn.metrics import mean_squared_error"
      ]
    },
    {
      "cell_type": "code",
      "source": [
        "df = pd.read_csv('/content/SONY.csv')\n",
        "df_reversed = df.loc[::-1].reset_index(drop=True)\n",
        "df1=df.reset_index()['Close']\n",
        "features = df_reversed[['Open', 'High', 'Low', 'Close']].values"
      ],
      "metadata": {
        "id": "ZBAkGTnmTJuv"
      },
      "execution_count": 2,
      "outputs": []
    },
    {
      "cell_type": "code",
      "source": [
        "df_reversed"
      ],
      "metadata": {
        "colab": {
          "base_uri": "https://localhost:8080/",
          "height": 423
        },
        "id": "ORlib5j8XsTH",
        "outputId": "1b51e22d-18a9-46b3-d51f-616e024cb023"
      },
      "execution_count": 3,
      "outputs": [
        {
          "output_type": "execute_result",
          "data": {
            "text/plain": [
              "           Date  Close   Open   High    Low\n",
              "0     5/24/2024  80.29  80.18  80.78  80.15\n",
              "1     5/23/2024  80.80  81.92  81.92  80.71\n",
              "2     5/22/2024  81.26  81.73  81.81  81.18\n",
              "3     5/21/2024  82.00  82.81  82.81  81.97\n",
              "4     5/20/2024  83.59  83.75  84.00  83.50\n",
              "...         ...    ...    ...    ...    ...\n",
              "1314   3/7/2019  46.40  47.00  47.00  46.14\n",
              "1315   3/6/2019  47.53  47.68  47.81  47.52\n",
              "1316   3/5/2019  47.66  47.75  47.90  47.53\n",
              "1317   3/4/2019  47.62  47.78  47.87  47.23\n",
              "1318   3/1/2019  47.89  47.82  48.06  47.69\n",
              "\n",
              "[1319 rows x 5 columns]"
            ],
            "text/html": [
              "\n",
              "  <div id=\"df-86ab9d93-ac5d-4b6d-a8a4-0bcb52689e46\" class=\"colab-df-container\">\n",
              "    <div>\n",
              "<style scoped>\n",
              "    .dataframe tbody tr th:only-of-type {\n",
              "        vertical-align: middle;\n",
              "    }\n",
              "\n",
              "    .dataframe tbody tr th {\n",
              "        vertical-align: top;\n",
              "    }\n",
              "\n",
              "    .dataframe thead th {\n",
              "        text-align: right;\n",
              "    }\n",
              "</style>\n",
              "<table border=\"1\" class=\"dataframe\">\n",
              "  <thead>\n",
              "    <tr style=\"text-align: right;\">\n",
              "      <th></th>\n",
              "      <th>Date</th>\n",
              "      <th>Close</th>\n",
              "      <th>Open</th>\n",
              "      <th>High</th>\n",
              "      <th>Low</th>\n",
              "    </tr>\n",
              "  </thead>\n",
              "  <tbody>\n",
              "    <tr>\n",
              "      <th>0</th>\n",
              "      <td>5/24/2024</td>\n",
              "      <td>80.29</td>\n",
              "      <td>80.18</td>\n",
              "      <td>80.78</td>\n",
              "      <td>80.15</td>\n",
              "    </tr>\n",
              "    <tr>\n",
              "      <th>1</th>\n",
              "      <td>5/23/2024</td>\n",
              "      <td>80.80</td>\n",
              "      <td>81.92</td>\n",
              "      <td>81.92</td>\n",
              "      <td>80.71</td>\n",
              "    </tr>\n",
              "    <tr>\n",
              "      <th>2</th>\n",
              "      <td>5/22/2024</td>\n",
              "      <td>81.26</td>\n",
              "      <td>81.73</td>\n",
              "      <td>81.81</td>\n",
              "      <td>81.18</td>\n",
              "    </tr>\n",
              "    <tr>\n",
              "      <th>3</th>\n",
              "      <td>5/21/2024</td>\n",
              "      <td>82.00</td>\n",
              "      <td>82.81</td>\n",
              "      <td>82.81</td>\n",
              "      <td>81.97</td>\n",
              "    </tr>\n",
              "    <tr>\n",
              "      <th>4</th>\n",
              "      <td>5/20/2024</td>\n",
              "      <td>83.59</td>\n",
              "      <td>83.75</td>\n",
              "      <td>84.00</td>\n",
              "      <td>83.50</td>\n",
              "    </tr>\n",
              "    <tr>\n",
              "      <th>...</th>\n",
              "      <td>...</td>\n",
              "      <td>...</td>\n",
              "      <td>...</td>\n",
              "      <td>...</td>\n",
              "      <td>...</td>\n",
              "    </tr>\n",
              "    <tr>\n",
              "      <th>1314</th>\n",
              "      <td>3/7/2019</td>\n",
              "      <td>46.40</td>\n",
              "      <td>47.00</td>\n",
              "      <td>47.00</td>\n",
              "      <td>46.14</td>\n",
              "    </tr>\n",
              "    <tr>\n",
              "      <th>1315</th>\n",
              "      <td>3/6/2019</td>\n",
              "      <td>47.53</td>\n",
              "      <td>47.68</td>\n",
              "      <td>47.81</td>\n",
              "      <td>47.52</td>\n",
              "    </tr>\n",
              "    <tr>\n",
              "      <th>1316</th>\n",
              "      <td>3/5/2019</td>\n",
              "      <td>47.66</td>\n",
              "      <td>47.75</td>\n",
              "      <td>47.90</td>\n",
              "      <td>47.53</td>\n",
              "    </tr>\n",
              "    <tr>\n",
              "      <th>1317</th>\n",
              "      <td>3/4/2019</td>\n",
              "      <td>47.62</td>\n",
              "      <td>47.78</td>\n",
              "      <td>47.87</td>\n",
              "      <td>47.23</td>\n",
              "    </tr>\n",
              "    <tr>\n",
              "      <th>1318</th>\n",
              "      <td>3/1/2019</td>\n",
              "      <td>47.89</td>\n",
              "      <td>47.82</td>\n",
              "      <td>48.06</td>\n",
              "      <td>47.69</td>\n",
              "    </tr>\n",
              "  </tbody>\n",
              "</table>\n",
              "<p>1319 rows × 5 columns</p>\n",
              "</div>\n",
              "    <div class=\"colab-df-buttons\">\n",
              "\n",
              "  <div class=\"colab-df-container\">\n",
              "    <button class=\"colab-df-convert\" onclick=\"convertToInteractive('df-86ab9d93-ac5d-4b6d-a8a4-0bcb52689e46')\"\n",
              "            title=\"Convert this dataframe to an interactive table.\"\n",
              "            style=\"display:none;\">\n",
              "\n",
              "  <svg xmlns=\"http://www.w3.org/2000/svg\" height=\"24px\" viewBox=\"0 -960 960 960\">\n",
              "    <path d=\"M120-120v-720h720v720H120Zm60-500h600v-160H180v160Zm220 220h160v-160H400v160Zm0 220h160v-160H400v160ZM180-400h160v-160H180v160Zm440 0h160v-160H620v160ZM180-180h160v-160H180v160Zm440 0h160v-160H620v160Z\"/>\n",
              "  </svg>\n",
              "    </button>\n",
              "\n",
              "  <style>\n",
              "    .colab-df-container {\n",
              "      display:flex;\n",
              "      gap: 12px;\n",
              "    }\n",
              "\n",
              "    .colab-df-convert {\n",
              "      background-color: #E8F0FE;\n",
              "      border: none;\n",
              "      border-radius: 50%;\n",
              "      cursor: pointer;\n",
              "      display: none;\n",
              "      fill: #1967D2;\n",
              "      height: 32px;\n",
              "      padding: 0 0 0 0;\n",
              "      width: 32px;\n",
              "    }\n",
              "\n",
              "    .colab-df-convert:hover {\n",
              "      background-color: #E2EBFA;\n",
              "      box-shadow: 0px 1px 2px rgba(60, 64, 67, 0.3), 0px 1px 3px 1px rgba(60, 64, 67, 0.15);\n",
              "      fill: #174EA6;\n",
              "    }\n",
              "\n",
              "    .colab-df-buttons div {\n",
              "      margin-bottom: 4px;\n",
              "    }\n",
              "\n",
              "    [theme=dark] .colab-df-convert {\n",
              "      background-color: #3B4455;\n",
              "      fill: #D2E3FC;\n",
              "    }\n",
              "\n",
              "    [theme=dark] .colab-df-convert:hover {\n",
              "      background-color: #434B5C;\n",
              "      box-shadow: 0px 1px 3px 1px rgba(0, 0, 0, 0.15);\n",
              "      filter: drop-shadow(0px 1px 2px rgba(0, 0, 0, 0.3));\n",
              "      fill: #FFFFFF;\n",
              "    }\n",
              "  </style>\n",
              "\n",
              "    <script>\n",
              "      const buttonEl =\n",
              "        document.querySelector('#df-86ab9d93-ac5d-4b6d-a8a4-0bcb52689e46 button.colab-df-convert');\n",
              "      buttonEl.style.display =\n",
              "        google.colab.kernel.accessAllowed ? 'block' : 'none';\n",
              "\n",
              "      async function convertToInteractive(key) {\n",
              "        const element = document.querySelector('#df-86ab9d93-ac5d-4b6d-a8a4-0bcb52689e46');\n",
              "        const dataTable =\n",
              "          await google.colab.kernel.invokeFunction('convertToInteractive',\n",
              "                                                    [key], {});\n",
              "        if (!dataTable) return;\n",
              "\n",
              "        const docLinkHtml = 'Like what you see? Visit the ' +\n",
              "          '<a target=\"_blank\" href=https://colab.research.google.com/notebooks/data_table.ipynb>data table notebook</a>'\n",
              "          + ' to learn more about interactive tables.';\n",
              "        element.innerHTML = '';\n",
              "        dataTable['output_type'] = 'display_data';\n",
              "        await google.colab.output.renderOutput(dataTable, element);\n",
              "        const docLink = document.createElement('div');\n",
              "        docLink.innerHTML = docLinkHtml;\n",
              "        element.appendChild(docLink);\n",
              "      }\n",
              "    </script>\n",
              "  </div>\n",
              "\n",
              "\n",
              "<div id=\"df-4fd19b39-6f56-41ee-8d1c-096c1e5a8f1b\">\n",
              "  <button class=\"colab-df-quickchart\" onclick=\"quickchart('df-4fd19b39-6f56-41ee-8d1c-096c1e5a8f1b')\"\n",
              "            title=\"Suggest charts\"\n",
              "            style=\"display:none;\">\n",
              "\n",
              "<svg xmlns=\"http://www.w3.org/2000/svg\" height=\"24px\"viewBox=\"0 0 24 24\"\n",
              "     width=\"24px\">\n",
              "    <g>\n",
              "        <path d=\"M19 3H5c-1.1 0-2 .9-2 2v14c0 1.1.9 2 2 2h14c1.1 0 2-.9 2-2V5c0-1.1-.9-2-2-2zM9 17H7v-7h2v7zm4 0h-2V7h2v10zm4 0h-2v-4h2v4z\"/>\n",
              "    </g>\n",
              "</svg>\n",
              "  </button>\n",
              "\n",
              "<style>\n",
              "  .colab-df-quickchart {\n",
              "      --bg-color: #E8F0FE;\n",
              "      --fill-color: #1967D2;\n",
              "      --hover-bg-color: #E2EBFA;\n",
              "      --hover-fill-color: #174EA6;\n",
              "      --disabled-fill-color: #AAA;\n",
              "      --disabled-bg-color: #DDD;\n",
              "  }\n",
              "\n",
              "  [theme=dark] .colab-df-quickchart {\n",
              "      --bg-color: #3B4455;\n",
              "      --fill-color: #D2E3FC;\n",
              "      --hover-bg-color: #434B5C;\n",
              "      --hover-fill-color: #FFFFFF;\n",
              "      --disabled-bg-color: #3B4455;\n",
              "      --disabled-fill-color: #666;\n",
              "  }\n",
              "\n",
              "  .colab-df-quickchart {\n",
              "    background-color: var(--bg-color);\n",
              "    border: none;\n",
              "    border-radius: 50%;\n",
              "    cursor: pointer;\n",
              "    display: none;\n",
              "    fill: var(--fill-color);\n",
              "    height: 32px;\n",
              "    padding: 0;\n",
              "    width: 32px;\n",
              "  }\n",
              "\n",
              "  .colab-df-quickchart:hover {\n",
              "    background-color: var(--hover-bg-color);\n",
              "    box-shadow: 0 1px 2px rgba(60, 64, 67, 0.3), 0 1px 3px 1px rgba(60, 64, 67, 0.15);\n",
              "    fill: var(--button-hover-fill-color);\n",
              "  }\n",
              "\n",
              "  .colab-df-quickchart-complete:disabled,\n",
              "  .colab-df-quickchart-complete:disabled:hover {\n",
              "    background-color: var(--disabled-bg-color);\n",
              "    fill: var(--disabled-fill-color);\n",
              "    box-shadow: none;\n",
              "  }\n",
              "\n",
              "  .colab-df-spinner {\n",
              "    border: 2px solid var(--fill-color);\n",
              "    border-color: transparent;\n",
              "    border-bottom-color: var(--fill-color);\n",
              "    animation:\n",
              "      spin 1s steps(1) infinite;\n",
              "  }\n",
              "\n",
              "  @keyframes spin {\n",
              "    0% {\n",
              "      border-color: transparent;\n",
              "      border-bottom-color: var(--fill-color);\n",
              "      border-left-color: var(--fill-color);\n",
              "    }\n",
              "    20% {\n",
              "      border-color: transparent;\n",
              "      border-left-color: var(--fill-color);\n",
              "      border-top-color: var(--fill-color);\n",
              "    }\n",
              "    30% {\n",
              "      border-color: transparent;\n",
              "      border-left-color: var(--fill-color);\n",
              "      border-top-color: var(--fill-color);\n",
              "      border-right-color: var(--fill-color);\n",
              "    }\n",
              "    40% {\n",
              "      border-color: transparent;\n",
              "      border-right-color: var(--fill-color);\n",
              "      border-top-color: var(--fill-color);\n",
              "    }\n",
              "    60% {\n",
              "      border-color: transparent;\n",
              "      border-right-color: var(--fill-color);\n",
              "    }\n",
              "    80% {\n",
              "      border-color: transparent;\n",
              "      border-right-color: var(--fill-color);\n",
              "      border-bottom-color: var(--fill-color);\n",
              "    }\n",
              "    90% {\n",
              "      border-color: transparent;\n",
              "      border-bottom-color: var(--fill-color);\n",
              "    }\n",
              "  }\n",
              "</style>\n",
              "\n",
              "  <script>\n",
              "    async function quickchart(key) {\n",
              "      const quickchartButtonEl =\n",
              "        document.querySelector('#' + key + ' button');\n",
              "      quickchartButtonEl.disabled = true;  // To prevent multiple clicks.\n",
              "      quickchartButtonEl.classList.add('colab-df-spinner');\n",
              "      try {\n",
              "        const charts = await google.colab.kernel.invokeFunction(\n",
              "            'suggestCharts', [key], {});\n",
              "      } catch (error) {\n",
              "        console.error('Error during call to suggestCharts:', error);\n",
              "      }\n",
              "      quickchartButtonEl.classList.remove('colab-df-spinner');\n",
              "      quickchartButtonEl.classList.add('colab-df-quickchart-complete');\n",
              "    }\n",
              "    (() => {\n",
              "      let quickchartButtonEl =\n",
              "        document.querySelector('#df-4fd19b39-6f56-41ee-8d1c-096c1e5a8f1b button');\n",
              "      quickchartButtonEl.style.display =\n",
              "        google.colab.kernel.accessAllowed ? 'block' : 'none';\n",
              "    })();\n",
              "  </script>\n",
              "</div>\n",
              "    </div>\n",
              "  </div>\n"
            ],
            "application/vnd.google.colaboratory.intrinsic+json": {
              "type": "dataframe",
              "variable_name": "df_reversed",
              "summary": "{\n  \"name\": \"df_reversed\",\n  \"rows\": 1319,\n  \"fields\": [\n    {\n      \"column\": \"Date\",\n      \"properties\": {\n        \"dtype\": \"object\",\n        \"num_unique_values\": 1319,\n        \"samples\": [\n          \"9/15/2021\",\n          \"3/30/2020\",\n          \"12/20/2021\"\n        ],\n        \"semantic_type\": \"\",\n        \"description\": \"\"\n      }\n    },\n    {\n      \"column\": \"Close\",\n      \"properties\": {\n        \"dtype\": \"number\",\n        \"std\": 19.098391168115874,\n        \"min\": 42.03,\n        \"max\": 128.59,\n        \"num_unique_values\": 1197,\n        \"samples\": [\n          63.95,\n          77.42,\n          94.69\n        ],\n        \"semantic_type\": \"\",\n        \"description\": \"\"\n      }\n    },\n    {\n      \"column\": \"Open\",\n      \"properties\": {\n        \"dtype\": \"number\",\n        \"std\": 19.136636910603034,\n        \"min\": 42.05,\n        \"max\": 133.56,\n        \"num_unique_values\": 1177,\n        \"samples\": [\n          91.66,\n          94.59,\n          96.9\n        ],\n        \"semantic_type\": \"\",\n        \"description\": \"\"\n      }\n    },\n    {\n      \"column\": \"High\",\n      \"properties\": {\n        \"dtype\": \"number\",\n        \"std\": 19.247063704631177,\n        \"min\": 42.36,\n        \"max\": 133.75,\n        \"num_unique_values\": 1192,\n        \"samples\": [\n          65.89,\n          95.04,\n          91.38\n        ],\n        \"semantic_type\": \"\",\n        \"description\": \"\"\n      }\n    },\n    {\n      \"column\": \"Low\",\n      \"properties\": {\n        \"dtype\": \"number\",\n        \"std\": 18.971779377354654,\n        \"min\": 41.91,\n        \"max\": 128.31,\n        \"num_unique_values\": 1199,\n        \"samples\": [\n          42.63,\n          79.22,\n          91.34\n        ],\n        \"semantic_type\": \"\",\n        \"description\": \"\"\n      }\n    }\n  ]\n}"
            }
          },
          "metadata": {},
          "execution_count": 3
        }
      ]
    },
    {
      "cell_type": "code",
      "source": [
        "df1"
      ],
      "metadata": {
        "colab": {
          "base_uri": "https://localhost:8080/"
        },
        "id": "ZY8eiDyXTLza",
        "outputId": "64a36b40-100d-4fec-88dd-c1c8ce3f3673"
      },
      "execution_count": 4,
      "outputs": [
        {
          "output_type": "execute_result",
          "data": {
            "text/plain": [
              "0       47.89\n",
              "1       47.62\n",
              "2       47.66\n",
              "3       47.53\n",
              "4       46.40\n",
              "        ...  \n",
              "1314    83.59\n",
              "1315    82.00\n",
              "1316    81.26\n",
              "1317    80.80\n",
              "1318    80.29\n",
              "Name: Close, Length: 1319, dtype: float64"
            ]
          },
          "metadata": {},
          "execution_count": 4
        }
      ]
    },
    {
      "cell_type": "code",
      "source": [
        "scaler=MinMaxScaler(feature_range=(0,1))\n",
        "df1=scaler.fit_transform(np.array(df1).reshape(-1,1))"
      ],
      "metadata": {
        "id": "VbrQFtyZTOny"
      },
      "execution_count": 5,
      "outputs": []
    },
    {
      "cell_type": "code",
      "source": [
        "# 4. Chia train test\n",
        "train_size = int(0.6 * len(df1))\n",
        "test_size = int(0.4 * len(df1))\n",
        "\n",
        "train_data = df1[:train_size]\n",
        "test_data = df1[train_size:]"
      ],
      "metadata": {
        "id": "DahPndU3TRbT"
      },
      "execution_count": 7,
      "outputs": []
    },
    {
      "cell_type": "code",
      "source": [
        "# 5. Hàm Create Dataset\n",
        "import numpy\n",
        "# convert an array of values into a dataset matrix\n",
        "def create_dataset(dataset, time_step=1):\n",
        "\tdataX, dataY = [], []\n",
        "\tfor i in range(len(dataset)-time_step-1):\n",
        "\t\ta = dataset[i:(i+time_step), 0]   ###i=0, X=0,1,2,3-----99   Y=100\n",
        "\t\tdataX.append(a)\n",
        "\t\tdataY.append(dataset[i + time_step, 0])\n",
        "\treturn numpy.array(dataX), numpy.array(dataY)"
      ],
      "metadata": {
        "id": "fvmSA7qXVs3-"
      },
      "execution_count": 8,
      "outputs": []
    },
    {
      "cell_type": "code",
      "source": [
        "#6. Reshape into X=t,t+1,t+2..t+99 and Y=t+100\n",
        "\n",
        "time_step = 100\n",
        "X_train, y_train = create_dataset(train_data, time_step)\n",
        "X_test, ytest = create_dataset(test_data, time_step)"
      ],
      "metadata": {
        "id": "fScdPb0yV6J-"
      },
      "execution_count": 9,
      "outputs": []
    },
    {
      "cell_type": "code",
      "source": [
        "# 7. Reshape input to be [samples, time steps, features] which is required for LSTM\n",
        "X_train =X_train.reshape(X_train.shape[0],X_train.shape[1] , 1)\n",
        "X_test = X_test.reshape(X_test.shape[0],X_test.shape[1] , 1)"
      ],
      "metadata": {
        "id": "55r8MGfeWK2G"
      },
      "execution_count": 10,
      "outputs": []
    },
    {
      "cell_type": "code",
      "source": [
        "# Xây dựng mô hình RNN\n",
        "rnn_model = Sequential()\n",
        "rnn_model.add(LSTM(64, input_shape=(X_train.shape[1], X_train.shape[2])))\n",
        "rnn_model.add(Dense(32, activation='relu'))\n",
        "rnn_model.add(Dense(1))\n"
      ],
      "metadata": {
        "id": "h1Tj5BzFWRc_"
      },
      "execution_count": 11,
      "outputs": []
    },
    {
      "cell_type": "code",
      "source": [
        "# Biên dịch mô hình\n",
        "rnn_model.compile(optimizer='adam', loss='mse')"
      ],
      "metadata": {
        "id": "wqxQzzWlWhgr"
      },
      "execution_count": 12,
      "outputs": []
    },
    {
      "cell_type": "code",
      "source": [
        "# Huấn luyện mô hình RNN\n",
        "rnn_model.fit(X_train, y_train, epochs=10, batch_size=32, validation_split=0.2)\n"
      ],
      "metadata": {
        "colab": {
          "base_uri": "https://localhost:8080/"
        },
        "id": "i_hScTemWkR2",
        "outputId": "4541b182-9704-4e19-b20f-4dbcf2237cd6"
      },
      "execution_count": 13,
      "outputs": [
        {
          "output_type": "stream",
          "name": "stdout",
          "text": [
            "Epoch 1/10\n",
            "18/18 [==============================] - 4s 76ms/step - loss: 0.0482 - val_loss: 0.0305\n",
            "Epoch 2/10\n",
            "18/18 [==============================] - 1s 43ms/step - loss: 0.0041 - val_loss: 0.0077\n",
            "Epoch 3/10\n",
            "18/18 [==============================] - 1s 44ms/step - loss: 0.0015 - val_loss: 0.0031\n",
            "Epoch 4/10\n",
            "18/18 [==============================] - 1s 64ms/step - loss: 0.0011 - val_loss: 0.0023\n",
            "Epoch 5/10\n",
            "18/18 [==============================] - 1s 72ms/step - loss: 0.0011 - val_loss: 0.0023\n",
            "Epoch 6/10\n",
            "18/18 [==============================] - 1s 75ms/step - loss: 9.3424e-04 - val_loss: 0.0025\n",
            "Epoch 7/10\n",
            "18/18 [==============================] - 1s 50ms/step - loss: 9.1841e-04 - val_loss: 0.0023\n",
            "Epoch 8/10\n",
            "18/18 [==============================] - 1s 43ms/step - loss: 9.0782e-04 - val_loss: 0.0020\n",
            "Epoch 9/10\n",
            "18/18 [==============================] - 1s 44ms/step - loss: 9.4839e-04 - val_loss: 0.0019\n",
            "Epoch 10/10\n",
            "18/18 [==============================] - 1s 43ms/step - loss: 8.9236e-04 - val_loss: 0.0019\n"
          ]
        },
        {
          "output_type": "execute_result",
          "data": {
            "text/plain": [
              "<keras.src.callbacks.History at 0x7db0a3522230>"
            ]
          },
          "metadata": {},
          "execution_count": 13
        }
      ]
    },
    {
      "cell_type": "code",
      "source": [
        "# Trích xuất các đặc trưng từ tầng cuối cùng của RNN\n",
        "train_features_rnn = rnn_model.predict(X_train)\n",
        "test_features_rnn = rnn_model.predict(X_test)"
      ],
      "metadata": {
        "colab": {
          "base_uri": "https://localhost:8080/"
        },
        "id": "DaSUf1SIXdd8",
        "outputId": "bec42ff3-0d07-4831-c3b4-7203f24c8caf"
      },
      "execution_count": 14,
      "outputs": [
        {
          "output_type": "stream",
          "name": "stdout",
          "text": [
            "22/22 [==============================] - 1s 14ms/step\n",
            "14/14 [==============================] - 0s 15ms/step\n"
          ]
        }
      ]
    },
    {
      "cell_type": "code",
      "source": [
        "# Kết hợp các đặc trưng từ RNN với các đặc trưng khác (ở đây chỉ dùng các đặc trưng từ RNN)\n",
        "X_train_combined = train_features_rnn\n",
        "X_test_combined = test_features_rnn\n"
      ],
      "metadata": {
        "id": "Dbj6eZwFYJRz"
      },
      "execution_count": 15,
      "outputs": []
    },
    {
      "cell_type": "code",
      "source": [
        "# Tạo dataset cho LightGBM\n",
        "train_data = lgb.Dataset(X_train_combined, label=y_train)\n",
        "test_data = lgb.Dataset(X_test_combined, label=ytest, reference=train_data)\n"
      ],
      "metadata": {
        "id": "cUPFaIBgYNfs"
      },
      "execution_count": 16,
      "outputs": []
    },
    {
      "cell_type": "code",
      "source": [
        "# Thiết lập các tham số cho LightGBM\n",
        "params = {\n",
        "    'objective': 'regression',\n",
        "    'metric': 'rmse',\n",
        "    'boosting_type': 'gbdt',\n",
        "    'num_leaves': 31,\n",
        "    'learning_rate': 0.05,\n",
        "    'feature_fraction': 0.9\n",
        "}"
      ],
      "metadata": {
        "id": "FRfYcbr4YXIl"
      },
      "execution_count": 18,
      "outputs": []
    },
    {
      "cell_type": "code",
      "source": [
        "# Huấn luyện mô hình LightGBM với early stopping\n",
        "evals_result = {}\n",
        "lgb_model = lgb.train(\n",
        "    params,\n",
        "    train_data,\n",
        "    num_boost_round=100,\n",
        "    valid_sets=[train_data, test_data],\n",
        "    valid_names=['train', 'valid'],\n",
        "    callbacks=[lgb.early_stopping(stopping_rounds=10), lgb.record_evaluation(evals_result)]\n",
        ")\n",
        "\n",
        "# Dự đoán và đánh giá\n",
        "y_pred = lgb_model.predict(X_test_combined, num_iteration=lgb_model.best_iteration)\n",
        "mse = mean_squared_error(ytest, y_pred)\n",
        "print(f'Mean Squared Error: {mse}')"
      ],
      "metadata": {
        "colab": {
          "base_uri": "https://localhost:8080/"
        },
        "id": "1sxatfq1YZeN",
        "outputId": "02896a78-ceab-4509-b12b-a9da5f444254"
      },
      "execution_count": 19,
      "outputs": [
        {
          "output_type": "stream",
          "name": "stdout",
          "text": [
            "[LightGBM] [Info] Auto-choosing col-wise multi-threading, the overhead of testing was 0.000164 seconds.\n",
            "You can set `force_col_wise=true` to remove the overhead.\n",
            "[LightGBM] [Info] Total Bins 231\n",
            "[LightGBM] [Info] Number of data points in the train set: 690, number of used features: 1\n",
            "[LightGBM] [Info] Start training from score 0.525206\n",
            "[LightGBM] [Warning] No further splits with positive gain, best gain: -inf\n",
            "Training until validation scores don't improve for 10 rounds\n",
            "[LightGBM] [Warning] No further splits with positive gain, best gain: -inf\n",
            "[LightGBM] [Warning] No further splits with positive gain, best gain: -inf\n",
            "[LightGBM] [Warning] No further splits with positive gain, best gain: -inf\n",
            "[LightGBM] [Warning] No further splits with positive gain, best gain: -inf\n",
            "[LightGBM] [Warning] No further splits with positive gain, best gain: -inf\n",
            "[LightGBM] [Warning] No further splits with positive gain, best gain: -inf\n",
            "[LightGBM] [Warning] No further splits with positive gain, best gain: -inf\n",
            "[LightGBM] [Warning] No further splits with positive gain, best gain: -inf\n",
            "[LightGBM] [Warning] No further splits with positive gain, best gain: -inf\n",
            "[LightGBM] [Warning] No further splits with positive gain, best gain: -inf\n",
            "[LightGBM] [Warning] No further splits with positive gain, best gain: -inf\n",
            "[LightGBM] [Warning] No further splits with positive gain, best gain: -inf\n",
            "[LightGBM] [Warning] No further splits with positive gain, best gain: -inf\n",
            "[LightGBM] [Warning] No further splits with positive gain, best gain: -inf\n",
            "[LightGBM] [Warning] No further splits with positive gain, best gain: -inf\n",
            "[LightGBM] [Warning] No further splits with positive gain, best gain: -inf\n",
            "[LightGBM] [Warning] No further splits with positive gain, best gain: -inf\n",
            "[LightGBM] [Warning] No further splits with positive gain, best gain: -inf\n",
            "[LightGBM] [Warning] No further splits with positive gain, best gain: -inf\n",
            "[LightGBM] [Warning] No further splits with positive gain, best gain: -inf\n",
            "[LightGBM] [Warning] No further splits with positive gain, best gain: -inf\n",
            "[LightGBM] [Warning] No further splits with positive gain, best gain: -inf\n",
            "[LightGBM] [Warning] No further splits with positive gain, best gain: -inf\n",
            "[LightGBM] [Warning] No further splits with positive gain, best gain: -inf\n",
            "[LightGBM] [Warning] No further splits with positive gain, best gain: -inf\n",
            "[LightGBM] [Warning] No further splits with positive gain, best gain: -inf\n",
            "[LightGBM] [Warning] No further splits with positive gain, best gain: -inf\n",
            "[LightGBM] [Warning] No further splits with positive gain, best gain: -inf\n",
            "[LightGBM] [Warning] No further splits with positive gain, best gain: -inf\n",
            "[LightGBM] [Warning] No further splits with positive gain, best gain: -inf\n",
            "[LightGBM] [Warning] No further splits with positive gain, best gain: -inf\n",
            "[LightGBM] [Warning] No further splits with positive gain, best gain: -inf\n",
            "[LightGBM] [Warning] No further splits with positive gain, best gain: -inf\n",
            "[LightGBM] [Warning] No further splits with positive gain, best gain: -inf\n",
            "[LightGBM] [Warning] No further splits with positive gain, best gain: -inf\n",
            "[LightGBM] [Warning] No further splits with positive gain, best gain: -inf\n",
            "[LightGBM] [Warning] No further splits with positive gain, best gain: -inf\n",
            "[LightGBM] [Warning] No further splits with positive gain, best gain: -inf\n",
            "[LightGBM] [Warning] No further splits with positive gain, best gain: -inf\n",
            "[LightGBM] [Warning] No further splits with positive gain, best gain: -inf\n",
            "[LightGBM] [Warning] No further splits with positive gain, best gain: -inf\n",
            "[LightGBM] [Warning] No further splits with positive gain, best gain: -inf\n",
            "[LightGBM] [Warning] No further splits with positive gain, best gain: -inf\n",
            "[LightGBM] [Warning] No further splits with positive gain, best gain: -inf\n",
            "[LightGBM] [Warning] No further splits with positive gain, best gain: -inf\n",
            "[LightGBM] [Warning] No further splits with positive gain, best gain: -inf\n",
            "[LightGBM] [Warning] No further splits with positive gain, best gain: -inf\n",
            "[LightGBM] [Warning] No further splits with positive gain, best gain: -inf\n",
            "[LightGBM] [Warning] No further splits with positive gain, best gain: -inf\n",
            "[LightGBM] [Warning] No further splits with positive gain, best gain: -inf\n",
            "[LightGBM] [Warning] No further splits with positive gain, best gain: -inf\n",
            "[LightGBM] [Warning] No further splits with positive gain, best gain: -inf\n",
            "[LightGBM] [Warning] No further splits with positive gain, best gain: -inf\n",
            "[LightGBM] [Warning] No further splits with positive gain, best gain: -inf\n",
            "[LightGBM] [Warning] No further splits with positive gain, best gain: -inf\n",
            "[LightGBM] [Warning] No further splits with positive gain, best gain: -inf\n",
            "[LightGBM] [Warning] No further splits with positive gain, best gain: -inf\n",
            "[LightGBM] [Warning] No further splits with positive gain, best gain: -inf\n",
            "[LightGBM] [Warning] No further splits with positive gain, best gain: -inf\n",
            "[LightGBM] [Warning] No further splits with positive gain, best gain: -inf\n",
            "[LightGBM] [Warning] No further splits with positive gain, best gain: -inf\n",
            "[LightGBM] [Warning] No further splits with positive gain, best gain: -inf\n",
            "[LightGBM] [Warning] No further splits with positive gain, best gain: -inf\n",
            "[LightGBM] [Warning] No further splits with positive gain, best gain: -inf\n",
            "[LightGBM] [Warning] No further splits with positive gain, best gain: -inf\n",
            "[LightGBM] [Warning] No further splits with positive gain, best gain: -inf\n",
            "[LightGBM] [Warning] No further splits with positive gain, best gain: -inf\n",
            "[LightGBM] [Warning] No further splits with positive gain, best gain: -inf\n",
            "[LightGBM] [Warning] No further splits with positive gain, best gain: -inf\n",
            "[LightGBM] [Warning] No further splits with positive gain, best gain: -inf\n",
            "[LightGBM] [Warning] No further splits with positive gain, best gain: -inf\n",
            "[LightGBM] [Warning] No further splits with positive gain, best gain: -inf\n",
            "[LightGBM] [Warning] No further splits with positive gain, best gain: -inf\n",
            "[LightGBM] [Warning] No further splits with positive gain, best gain: -inf\n",
            "[LightGBM] [Warning] No further splits with positive gain, best gain: -inf\n",
            "[LightGBM] [Warning] No further splits with positive gain, best gain: -inf\n",
            "Early stopping, best iteration is:\n",
            "[67]\ttrain's rmse: 0.0313429\tvalid's rmse: 0.0314222\n",
            "Mean Squared Error: 0.0009873571403353943\n"
          ]
        }
      ]
    },
    {
      "cell_type": "code",
      "source": [
        "# 10. Hàm dự đoán 30 ngày tiếp theo\n",
        "def predict_next_30_days(rnn_model, lgb_model, initial_data, time_step=100):\n",
        "    predictions = []\n",
        "    current_sequence = initial_data[-time_step:]  # Lấy chuỗi dữ liệu cuối cùng làm dữ liệu khởi đầu\n",
        "\n",
        "    for _ in range(30):\n",
        "        # Reshape data for prediction\n",
        "        current_sequence_reshaped = np.expand_dims(current_sequence, axis=0)\n",
        "\n",
        "        # Predict features using RNN\n",
        "        rnn_features = rnn_model.predict(current_sequence_reshaped)\n",
        "\n",
        "        # Predict the next day's closing price using LightGBM\n",
        "        next_close = lgb_model.predict(rnn_features)\n",
        "\n",
        "        # Append the prediction\n",
        "        predictions.append(next_close[0])\n",
        "\n",
        "        # Update the sequence with the new prediction\n",
        "        next_day = np.array([[next_close[0]]])\n",
        "        current_sequence = np.vstack((current_sequence[1:], next_day))\n",
        "\n",
        "    return predictions\n",
        "\n",
        "# Chuẩn bị dữ liệu ban đầu cho dự đoán 30 ngày tiếp theo\n",
        "initial_data = features[-time_step:].reshape(-1, 1)\n",
        "\n",
        "# Dự đoán 30 ngày tiếp theo\n",
        "next_30_days_predictions = predict_next_30_days(rnn_model, lgb_model, initial_data)\n",
        "print(\"Dự đoán giá đóng cửa cho 30 ngày tiếp theo:\", next_30_days_predictions)"
      ],
      "metadata": {
        "colab": {
          "base_uri": "https://localhost:8080/"
        },
        "id": "Stgknid0Y_Ku",
        "outputId": "82d5c84b-0317-4089-dd4c-5696f626dfd6"
      },
      "execution_count": 20,
      "outputs": [
        {
          "output_type": "stream",
          "name": "stdout",
          "text": [
            "1/1 [==============================] - 0s 26ms/step\n",
            "1/1 [==============================] - 0s 23ms/step\n",
            "1/1 [==============================] - 0s 27ms/step\n",
            "1/1 [==============================] - 0s 26ms/step\n",
            "1/1 [==============================] - 0s 23ms/step\n",
            "1/1 [==============================] - 0s 23ms/step\n",
            "1/1 [==============================] - 0s 24ms/step\n",
            "1/1 [==============================] - 0s 23ms/step\n",
            "1/1 [==============================] - 0s 22ms/step\n",
            "1/1 [==============================] - 0s 23ms/step\n",
            "1/1 [==============================] - 0s 25ms/step\n",
            "1/1 [==============================] - 0s 22ms/step\n",
            "1/1 [==============================] - 0s 22ms/step\n",
            "1/1 [==============================] - 0s 23ms/step\n",
            "1/1 [==============================] - 0s 24ms/step\n",
            "1/1 [==============================] - 0s 24ms/step\n",
            "1/1 [==============================] - 0s 23ms/step\n",
            "1/1 [==============================] - 0s 24ms/step\n",
            "1/1 [==============================] - 0s 27ms/step\n",
            "1/1 [==============================] - 0s 25ms/step\n",
            "1/1 [==============================] - 0s 26ms/step\n",
            "1/1 [==============================] - 0s 28ms/step\n",
            "1/1 [==============================] - 0s 24ms/step\n",
            "1/1 [==============================] - 0s 23ms/step\n",
            "1/1 [==============================] - 0s 23ms/step\n",
            "1/1 [==============================] - 0s 23ms/step\n",
            "1/1 [==============================] - 0s 24ms/step\n",
            "1/1 [==============================] - 0s 25ms/step\n",
            "1/1 [==============================] - 0s 23ms/step\n",
            "1/1 [==============================] - 0s 26ms/step\n",
            "Dự đoán giá đóng cửa cho 30 ngày tiếp theo: [0.9313769608587985, 0.9313769608587985, 0.9313769608587985, 0.9313769608587985, 0.9313769608587985, 0.9313769608587985, 0.9313769608587985, 0.9313769608587985, 0.9313769608587985, 0.9313769608587985, 0.9313769608587985, 0.9313769608587985, 0.9313769608587985, 0.9313769608587985, 0.9313769608587985, 0.9313769608587985, 0.9313769608587985, 0.9313769608587985, 0.9313769608587985, 0.9313769608587985, 0.9313769608587985, 0.9313769608587985, 0.9313769608587985, 0.9313769608587985, 0.9313769608587985, 0.9313769608587985, 0.9313769608587985, 0.9313769608587985, 0.9313769608587985, 0.9139515054684297]\n"
          ]
        }
      ]
    },
    {
      "cell_type": "code",
      "source": [
        "import matplotlib.pyplot as plt\n",
        "\n",
        "# 14. Vẽ hình\n",
        "\n",
        "# Plotting train data\n",
        "train_data_index = pd.RangeIndex(start=0, stop=len(train_features_rnn), step=1)\n",
        "plt.plot(train_data_index, scaler.inverse_transform(train_features_rnn), label='Train')\n",
        "\n",
        "# Plotting test data\n",
        "test_data_index = pd.RangeIndex(start=len(train_features_rnn), stop=len(train_features_rnn) + len(test_features_rnn), step=1)\n",
        "plt.plot(test_data_index, scaler.inverse_transform(test_features_rnn), label='Test')\n",
        "\n",
        "# Adjusting y_pred to have correct shape and length\n",
        "test_data_index_pred = pd.RangeIndex(start=len(train_features_rnn), stop=len(train_features_rnn) + len(y_pred), step=1)\n",
        "plt.plot(test_data_index_pred, scaler.inverse_transform(np.array(y_pred).reshape(-1, 1)), label='Predict')\n",
        "\n",
        "# Adjusting next_30_days_predictions to have correct shape and length\n",
        "predict_data_index = pd.RangeIndex(start=len(df), stop=len(df) + len(next_30_days_predictions), step=1)\n",
        "plt.plot(predict_data_index, scaler.inverse_transform(np.array(next_30_days_predictions).reshape(-1, 1)), label='Predict30days')\n",
        "\n",
        "plt.legend(['Train', 'Test', 'Predict', 'Predict30days'])\n",
        "plt.show()\n",
        "\n",
        "\n"
      ],
      "metadata": {
        "colab": {
          "base_uri": "https://localhost:8080/",
          "height": 430
        },
        "id": "auUAdUFgR-D2",
        "outputId": "12e42927-8ed9-4550-9136-fbfc4810688d"
      },
      "execution_count": 21,
      "outputs": [
        {
          "output_type": "display_data",
          "data": {
            "text/plain": [
              "<Figure size 640x480 with 1 Axes>"
            ],
            "image/png": "[encoded data removed]"
          },
          "metadata": {}
        }
      ]
    },
    {
      "cell_type": "markdown",
      "source": [
        "# Dự báo 60 ngày tiếp theo"
      ],
      "metadata": {
        "id": "yFzVkNS1aIxd"
      }
    },
    {
      "cell_type": "code",
      "source": [
        "def predict_next_days(rnn_model, lgb_model, initial_data, time_step=100, days_to_predict=60):\n",
        "    predictions = []\n",
        "    current_sequence = initial_data[-time_step:]  # Lấy chuỗi dữ liệu cuối cùng làm dữ liệu khởi đầu\n",
        "\n",
        "    for _ in range(days_to_predict):\n",
        "        # Reshape data for prediction\n",
        "        current_sequence_reshaped = np.expand_dims(current_sequence, axis=0)\n",
        "\n",
        "        # Predict features using RNN\n",
        "        rnn_features = rnn_model.predict(current_sequence_reshaped)\n",
        "\n",
        "        # Predict the next day's closing price using LightGBM\n",
        "        next_close = lgb_model.predict(rnn_features)\n",
        "\n",
        "        # Append the prediction\n",
        "        predictions.append(next_close[0])\n",
        "\n",
        "        # Update the sequence with the new prediction\n",
        "        next_day = np.array([[next_close[0]]])\n",
        "        current_sequence = np.vstack((current_sequence[1:], next_day))\n",
        "\n",
        "    return predictions\n",
        "\n",
        "# Chuẩn bị dữ liệu ban đầu cho dự đoán 60 ngày tiếp theo\n",
        "initial_data = features[-time_step:].reshape(-1, 1)\n",
        "\n",
        "# Dự đoán 60 ngày tiếp theo\n",
        "days_to_predict = 60\n",
        "next_60_days_predictions = predict_next_days(rnn_model, lgb_model, initial_data, time_step, days_to_predict)\n",
        "print(\"Dự đoán giá đóng cửa cho 60 ngày tiếp theo:\", next_60_days_predictions)\n",
        "\n"
      ],
      "metadata": {
        "colab": {
          "base_uri": "https://localhost:8080/"
        },
        "id": "KbHY4rXyaHMy",
        "outputId": "d3eaf1d8-bd48-4314-f21f-bd365071db18"
      },
      "execution_count": 22,
      "outputs": [
        {
          "output_type": "stream",
          "name": "stdout",
          "text": [
            "1/1 [==============================] - 0s 39ms/step\n",
            "1/1 [==============================] - 0s 38ms/step\n",
            "1/1 [==============================] - 0s 40ms/step\n",
            "1/1 [==============================] - 0s 27ms/step\n",
            "1/1 [==============================] - 0s 25ms/step\n",
            "1/1 [==============================] - 0s 23ms/step\n",
            "1/1 [==============================] - 0s 24ms/step\n",
            "1/1 [==============================] - 0s 25ms/step\n",
            "1/1 [==============================] - 0s 25ms/step\n",
            "1/1 [==============================] - 0s 25ms/step\n",
            "1/1 [==============================] - 0s 27ms/step\n",
            "1/1 [==============================] - 0s 24ms/step\n",
            "1/1 [==============================] - 0s 25ms/step\n",
            "1/1 [==============================] - 0s 24ms/step\n",
            "1/1 [==============================] - 0s 24ms/step\n",
            "1/1 [==============================] - 0s 23ms/step\n",
            "1/1 [==============================] - 0s 28ms/step\n",
            "1/1 [==============================] - 0s 23ms/step\n",
            "1/1 [==============================] - 0s 25ms/step\n",
            "1/1 [==============================] - 0s 23ms/step\n",
            "1/1 [==============================] - 0s 22ms/step\n",
            "1/1 [==============================] - 0s 30ms/step\n",
            "1/1 [==============================] - 0s 23ms/step\n",
            "1/1 [==============================] - 0s 27ms/step\n",
            "1/1 [==============================] - 0s 23ms/step\n",
            "1/1 [==============================] - 0s 23ms/step\n",
            "1/1 [==============================] - 0s 24ms/step\n",
            "1/1 [==============================] - 0s 23ms/step\n",
            "1/1 [==============================] - 0s 23ms/step\n",
            "1/1 [==============================] - 0s 23ms/step\n",
            "1/1 [==============================] - 0s 23ms/step\n",
            "1/1 [==============================] - 0s 26ms/step\n",
            "1/1 [==============================] - 0s 26ms/step\n",
            "1/1 [==============================] - 0s 24ms/step\n",
            "1/1 [==============================] - 0s 25ms/step\n",
            "1/1 [==============================] - 0s 24ms/step\n",
            "1/1 [==============================] - 0s 24ms/step\n",
            "1/1 [==============================] - 0s 22ms/step\n",
            "1/1 [==============================] - 0s 24ms/step\n",
            "1/1 [==============================] - 0s 30ms/step\n",
            "1/1 [==============================] - 0s 23ms/step\n",
            "1/1 [==============================] - 0s 40ms/step\n",
            "1/1 [==============================] - 0s 26ms/step\n",
            "1/1 [==============================] - 0s 26ms/step\n",
            "1/1 [==============================] - 0s 25ms/step\n",
            "1/1 [==============================] - 0s 31ms/step\n",
            "1/1 [==============================] - 0s 27ms/step\n",
            "1/1 [==============================] - 0s 35ms/step\n",
            "1/1 [==============================] - 0s 24ms/step\n",
            "1/1 [==============================] - 0s 26ms/step\n",
            "1/1 [==============================] - 0s 25ms/step\n",
            "1/1 [==============================] - 0s 26ms/step\n",
            "1/1 [==============================] - 0s 24ms/step\n",
            "1/1 [==============================] - 0s 40ms/step\n",
            "1/1 [==============================] - 0s 25ms/step\n",
            "1/1 [==============================] - 0s 25ms/step\n",
            "1/1 [==============================] - 0s 25ms/step\n",
            "1/1 [==============================] - 0s 26ms/step\n",
            "1/1 [==============================] - 0s 24ms/step\n",
            "1/1 [==============================] - 0s 25ms/step\n",
            "Dự đoán giá đóng cửa cho 60 ngày tiếp theo: [0.9313769608587985, 0.9313769608587985, 0.9313769608587985, 0.9313769608587985, 0.9313769608587985, 0.9313769608587985, 0.9313769608587985, 0.9313769608587985, 0.9313769608587985, 0.9313769608587985, 0.9313769608587985, 0.9313769608587985, 0.9313769608587985, 0.9313769608587985, 0.9313769608587985, 0.9313769608587985, 0.9313769608587985, 0.9313769608587985, 0.9313769608587985, 0.9313769608587985, 0.9313769608587985, 0.9313769608587985, 0.9313769608587985, 0.9313769608587985, 0.9313769608587985, 0.9313769608587985, 0.9313769608587985, 0.9313769608587985, 0.9313769608587985, 0.9139515054684297, 0.9134664215683699, 0.8962123723198798, 0.8962123723198798, 0.8801765859307679, 0.8801765859307679, 0.8801765859307679, 0.8801765859307679, 0.8779966795718255, 0.8779966795718255, 0.8779966795718255, 0.8779966795718255, 0.8779966795718255, 0.8779966795718255, 0.8779966795718255, 0.8779966795718255, 0.8779966795718255, 0.8779966795718255, 0.8779966795718255, 0.8779966795718255, 0.8779966795718255, 0.8779966795718255, 0.8779966795718255, 0.8779966795718255, 0.8779966795718255, 0.8779966795718255, 0.8779966795718255, 0.8779966795718255, 0.8779966795718255, 0.8779966795718255, 0.8779966795718255]\n"
          ]
        }
      ]
    },
    {
      "cell_type": "code",
      "source": [
        "import matplotlib.pyplot as plt\n",
        "\n",
        "# Chuyển đổi lại train_data và test_data từ LightGBM Dataset sang mảng numpy\n",
        "train_data_array = train_features_rnn\n",
        "test_data_array = test_features_rnn\n",
        "\n",
        "# Vẽ đồ thị\n",
        "train_data_index = pd.RangeIndex(start=0, stop=len(train_data_array), step=1)\n",
        "plt.plot(train_data_index, scaler.inverse_transform(train_data_array), label='Train')\n",
        "\n",
        "test_data_index = pd.RangeIndex(start=len(train_data_array), stop=len(train_data_array) + len(test_data_array), step=1)\n",
        "plt.plot(test_data_index, scaler.inverse_transform(test_data_array), label='Test')\n",
        "\n",
        "# Điều chỉnh y_pred để có đúng hình dạng và chiều dài\n",
        "test_data_index_pred = pd.RangeIndex(start=len(train_data_array), stop=len(train_data_array) + len(y_pred), step=1)\n",
        "plt.plot(test_data_index_pred, scaler.inverse_transform(np.array(y_pred).reshape(-1, 1)), label='Predict')\n",
        "\n",
        "# Điều chỉnh next_60_days_predictions để có đúng hình dạng và chiều dài\n",
        "predict_data_index = pd.RangeIndex(start=len(df_reversed), stop=len(df_reversed) + len(next_60_days_predictions), step=1)\n",
        "plt.plot(predict_data_index, scaler.inverse_transform(np.array(next_60_days_predictions).reshape(-1, 1)), label='Predict60days')\n",
        "\n",
        "plt.legend(['Train', 'Test', 'Predict', 'Predict60days'])\n",
        "plt.show()\n",
        "\n"
      ],
      "metadata": {
        "colab": {
          "base_uri": "https://localhost:8080/",
          "height": 430
        },
        "id": "nZFR-LSubIOO",
        "outputId": "e142adbb-5294-41f5-c910-8a6a329a8ca1"
      },
      "execution_count": 23,
      "outputs": [
        {
          "output_type": "display_data",
          "data": {
            "text/plain": [
              "<Figure size 640x480 with 1 Axes>"
            ],
            "image/png": "[encoded data removed]"
          },
          "metadata": {}
        }
      ]
    },
    {
      "cell_type": "markdown",
      "source": [
        "# Dự báo trong 90 ngày tiếp theo"
      ],
      "metadata": {
        "id": "e6jY0meMVATc"
      }
    },
    {
      "cell_type": "code",
      "source": [
        "def predict_next_days(rnn_model, lgb_model, initial_data, time_step=100, days_to_predict=90):\n",
        "    predictions = []\n",
        "    current_sequence = initial_data[-time_step:]  # Lấy chuỗi dữ liệu cuối cùng làm dữ liệu khởi đầu\n",
        "\n",
        "    for _ in range(days_to_predict):\n",
        "        # Reshape data for prediction\n",
        "        current_sequence_reshaped = np.expand_dims(current_sequence, axis=0)\n",
        "\n",
        "        # Predict features using RNN\n",
        "        rnn_features = rnn_model.predict(current_sequence_reshaped)\n",
        "\n",
        "        # Predict the next day's closing price using LightGBM\n",
        "        next_close = lgb_model.predict(rnn_features)\n",
        "\n",
        "        # Append the prediction\n",
        "        predictions.append(next_close[0])\n",
        "\n",
        "        # Update the sequence with the new prediction\n",
        "        next_day = np.array([[next_close[0]]])\n",
        "        current_sequence = np.vstack((current_sequence[1:], next_day))\n",
        "\n",
        "    return predictions\n",
        "\n",
        "# Chuẩn bị dữ liệu ban đầu cho dự đoán 90 ngày tiếp theo\n",
        "initial_data = features[-time_step:].reshape(-1, 1)\n",
        "\n",
        "# Dự đoán 90 ngày tiếp theo\n",
        "days_to_predict = 90\n",
        "next_90_days_predictions = predict_next_days(rnn_model, lgb_model, initial_data, time_step, days_to_predict)\n",
        "print(\"Dự đoán giá đóng cửa cho 90 ngày tiếp theo:\", next_90_days_predictions)\n",
        "\n"
      ],
      "metadata": {
        "colab": {
          "base_uri": "https://localhost:8080/"
        },
        "id": "MF4il59M-F5h",
        "outputId": "e1b0280f-d07e-4333-8ff4-97b330c9e91b"
      },
      "execution_count": 24,
      "outputs": [
        {
          "output_type": "stream",
          "name": "stdout",
          "text": [
            "1/1 [==============================] - 0s 42ms/step\n",
            "1/1 [==============================] - 0s 39ms/step\n",
            "1/1 [==============================] - 0s 35ms/step\n",
            "1/1 [==============================] - 0s 39ms/step\n",
            "1/1 [==============================] - 0s 37ms/step\n",
            "1/1 [==============================] - 0s 47ms/step\n",
            "1/1 [==============================] - 0s 37ms/step\n",
            "1/1 [==============================] - 0s 45ms/step\n",
            "1/1 [==============================] - 0s 40ms/step\n",
            "1/1 [==============================] - 0s 42ms/step\n",
            "1/1 [==============================] - 0s 40ms/step\n",
            "1/1 [==============================] - 0s 44ms/step\n",
            "1/1 [==============================] - 0s 44ms/step\n",
            "1/1 [==============================] - 0s 49ms/step\n",
            "1/1 [==============================] - 0s 42ms/step\n",
            "1/1 [==============================] - 0s 41ms/step\n",
            "1/1 [==============================] - 0s 27ms/step\n",
            "1/1 [==============================] - 0s 25ms/step\n",
            "1/1 [==============================] - 0s 28ms/step\n",
            "1/1 [==============================] - 0s 28ms/step\n",
            "1/1 [==============================] - 0s 26ms/step\n",
            "1/1 [==============================] - 0s 24ms/step\n",
            "1/1 [==============================] - 0s 25ms/step\n",
            "1/1 [==============================] - 0s 29ms/step\n",
            "1/1 [==============================] - 0s 23ms/step\n",
            "1/1 [==============================] - 0s 26ms/step\n",
            "1/1 [==============================] - 0s 24ms/step\n",
            "1/1 [==============================] - 0s 22ms/step\n",
            "1/1 [==============================] - 0s 23ms/step\n",
            "1/1 [==============================] - 0s 23ms/step\n",
            "1/1 [==============================] - 0s 23ms/step\n",
            "1/1 [==============================] - 0s 24ms/step\n",
            "1/1 [==============================] - 0s 24ms/step\n",
            "1/1 [==============================] - 0s 25ms/step\n",
            "1/1 [==============================] - 0s 23ms/step\n",
            "1/1 [==============================] - 0s 23ms/step\n",
            "1/1 [==============================] - 0s 23ms/step\n",
            "1/1 [==============================] - 0s 26ms/step\n",
            "1/1 [==============================] - 0s 23ms/step\n",
            "1/1 [==============================] - 0s 23ms/step\n",
            "1/1 [==============================] - 0s 25ms/step\n",
            "1/1 [==============================] - 0s 25ms/step\n",
            "1/1 [==============================] - 0s 23ms/step\n",
            "1/1 [==============================] - 0s 24ms/step\n",
            "1/1 [==============================] - 0s 25ms/step\n",
            "1/1 [==============================] - 0s 23ms/step\n",
            "1/1 [==============================] - 0s 24ms/step\n",
            "1/1 [==============================] - 0s 29ms/step\n",
            "1/1 [==============================] - 0s 26ms/step\n",
            "1/1 [==============================] - 0s 23ms/step\n",
            "1/1 [==============================] - 0s 29ms/step\n",
            "1/1 [==============================] - 0s 24ms/step\n",
            "1/1 [==============================] - 0s 23ms/step\n",
            "1/1 [==============================] - 0s 26ms/step\n",
            "1/1 [==============================] - 0s 24ms/step\n",
            "1/1 [==============================] - 0s 23ms/step\n",
            "1/1 [==============================] - 0s 25ms/step\n",
            "1/1 [==============================] - 0s 23ms/step\n",
            "1/1 [==============================] - 0s 25ms/step\n",
            "1/1 [==============================] - 0s 24ms/step\n",
            "1/1 [==============================] - 0s 23ms/step\n",
            "1/1 [==============================] - 0s 23ms/step\n",
            "1/1 [==============================] - 0s 26ms/step\n",
            "1/1 [==============================] - 0s 26ms/step\n",
            "1/1 [==============================] - 0s 23ms/step\n",
            "1/1 [==============================] - 0s 23ms/step\n",
            "1/1 [==============================] - 0s 22ms/step\n",
            "1/1 [==============================] - 0s 24ms/step\n",
            "1/1 [==============================] - 0s 24ms/step\n",
            "1/1 [==============================] - 0s 25ms/step\n",
            "1/1 [==============================] - 0s 24ms/step\n",
            "1/1 [==============================] - 0s 24ms/step\n",
            "1/1 [==============================] - 0s 24ms/step\n",
            "1/1 [==============================] - 0s 24ms/step\n",
            "1/1 [==============================] - 0s 28ms/step\n",
            "1/1 [==============================] - 0s 26ms/step\n",
            "1/1 [==============================] - 0s 23ms/step\n",
            "1/1 [==============================] - 0s 24ms/step\n",
            "1/1 [==============================] - 0s 24ms/step\n",
            "1/1 [==============================] - 0s 23ms/step\n",
            "1/1 [==============================] - 0s 24ms/step\n",
            "1/1 [==============================] - 0s 24ms/step\n",
            "1/1 [==============================] - 0s 23ms/step\n",
            "1/1 [==============================] - 0s 23ms/step\n",
            "1/1 [==============================] - 0s 23ms/step\n",
            "1/1 [==============================] - 0s 27ms/step\n",
            "1/1 [==============================] - 0s 30ms/step\n",
            "1/1 [==============================] - 0s 23ms/step\n",
            "1/1 [==============================] - 0s 23ms/step\n",
            "1/1 [==============================] - 0s 23ms/step\n",
            "Dự đoán giá đóng cửa cho 90 ngày tiếp theo: [0.9313769608587985, 0.9313769608587985, 0.9313769608587985, 0.9313769608587985, 0.9313769608587985, 0.9313769608587985, 0.9313769608587985, 0.9313769608587985, 0.9313769608587985, 0.9313769608587985, 0.9313769608587985, 0.9313769608587985, 0.9313769608587985, 0.9313769608587985, 0.9313769608587985, 0.9313769608587985, 0.9313769608587985, 0.9313769608587985, 0.9313769608587985, 0.9313769608587985, 0.9313769608587985, 0.9313769608587985, 0.9313769608587985, 0.9313769608587985, 0.9313769608587985, 0.9313769608587985, 0.9313769608587985, 0.9313769608587985, 0.9313769608587985, 0.9139515054684297, 0.9134664215683699, 0.8962123723198798, 0.8962123723198798, 0.8801765859307679, 0.8801765859307679, 0.8801765859307679, 0.8801765859307679, 0.8779966795718255, 0.8779966795718255, 0.8779966795718255, 0.8779966795718255, 0.8779966795718255, 0.8779966795718255, 0.8779966795718255, 0.8779966795718255, 0.8779966795718255, 0.8779966795718255, 0.8779966795718255, 0.8779966795718255, 0.8779966795718255, 0.8779966795718255, 0.8779966795718255, 0.8779966795718255, 0.8779966795718255, 0.8779966795718255, 0.8779966795718255, 0.8779966795718255, 0.8779966795718255, 0.8779966795718255, 0.8779966795718255, 0.8779966795718255, 0.8779966795718255, 0.8779966795718255, 0.8779966795718255, 0.8779966795718255, 0.8779966795718255, 0.8779966795718255, 0.8779966795718255, 0.8779966795718255, 0.8779966795718255, 0.8779966795718255, 0.8779966795718255, 0.8779966795718255, 0.8779966795718255, 0.8779966795718255, 0.8779966795718255, 0.8779966795718255, 0.8779966795718255, 0.8779966795718255, 0.8779966795718255, 0.8779966795718255, 0.8779966795718255, 0.8779966795718255, 0.8779966795718255, 0.8779966795718255, 0.8779966795718255, 0.8779966795718255, 0.8779966795718255, 0.8779966795718255, 0.8779966795718255]\n"
          ]
        }
      ]
    },
    {
      "cell_type": "code",
      "source": [
        "import matplotlib.pyplot as plt\n",
        "\n",
        "# Chuyển đổi lại train_data và test_data từ LightGBM Dataset sang mảng numpy\n",
        "train_data_array = X_train[:, -1].reshape(-1, 1)\n",
        "test_data_array = X_test[:, -1].reshape(-1, 1)\n",
        "\n",
        "# Vẽ đồ thị\n",
        "train_data_index = pd.RangeIndex(start=0, stop=len(train_data_array), step=1)\n",
        "plt.plot(train_data_index, scaler.inverse_transform(train_data_array), label='Train')\n",
        "\n",
        "test_data_index = pd.RangeIndex(start=len(train_data_array), stop=len(train_data_array) + len(test_data_array), step=1)\n",
        "plt.plot(test_data_index, scaler.inverse_transform(test_data_array), label='Test')\n",
        "\n",
        "# Điều chỉnh y_pred để có đúng hình dạng và chiều dài\n",
        "test_data_index_pred = pd.RangeIndex(start=len(train_data_array), stop=len(train_data_array) + len(y_pred), step=1)\n",
        "plt.plot(test_data_index_pred, scaler.inverse_transform(np.array(y_pred).reshape(-1, 1)), label='Predict')\n",
        "\n",
        "# Điều chỉnh next_90_days_predictions để có đúng hình dạng và chiều dài\n",
        "predict_data_index = pd.RangeIndex(start=len(df_reversed), stop=len(df_reversed) + len(next_90_days_predictions), step=1)\n",
        "plt.plot(predict_data_index, scaler.inverse_transform(np.array(next_90_days_predictions).reshape(-1, 1)), label='Predict90days')\n",
        "\n",
        "plt.legend(['Train', 'Test', 'Predict', 'Predict90days'])\n",
        "plt.show()\n"
      ],
      "metadata": {
        "colab": {
          "base_uri": "https://localhost:8080/",
          "height": 430
        },
        "id": "VeQ2ElFG-Izb",
        "outputId": "b4afc8c9-2cb6-41fc-ed55-866e0a6393ec"
      },
      "execution_count": 25,
      "outputs": [
        {
          "output_type": "display_data",
          "data": {
            "text/plain": [
              "<Figure size 640x480 with 1 Axes>"
            ],
            "image/png": "[encoded data removed]"
          },
          "metadata": {}
        }
      ]
    }
  ]
}