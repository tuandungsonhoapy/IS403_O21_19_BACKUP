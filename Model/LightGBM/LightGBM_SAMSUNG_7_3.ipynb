{
  "nbformat": 4,
  "nbformat_minor": 0,
  "metadata": {
    "colab": {
      "provenance": []
    },
    "kernelspec": {
      "name": "python3",
      "display_name": "Python 3"
    },
    "language_info": {
      "name": "python"
    }
  },
  "cells": [
    {
      "cell_type": "code",
      "execution_count": 1,
      "metadata": {
        "id": "WfNuabwGO_0g"
      },
      "outputs": [],
      "source": [
        "import numpy as np\n",
        "import pandas as pd\n",
        "from sklearn.model_selection import train_test_split\n",
        "from sklearn.preprocessing import MinMaxScaler\n",
        "import tensorflow as tf\n",
        "from tensorflow.keras.models import Sequential\n",
        "from tensorflow.keras.layers import LSTM, Dense\n",
        "import lightgbm as lgb\n",
        "from sklearn.metrics import mean_squared_error"
      ]
    },
    {
      "cell_type": "code",
      "source": [
        "df = pd.read_csv('/content/SAMSUNG.csv')\n",
        "df_reversed = df.loc[::-1].reset_index(drop=True)\n",
        "df1=df.reset_index()['Close']\n",
        "features = df_reversed[['Open', 'High', 'Low', 'Close']].values"
      ],
      "metadata": {
        "id": "ZBAkGTnmTJuv"
      },
      "execution_count": 2,
      "outputs": []
    },
    {
      "cell_type": "code",
      "source": [
        "df_reversed"
      ],
      "metadata": {
        "colab": {
          "base_uri": "https://localhost:8080/",
          "height": 423
        },
        "id": "ORlib5j8XsTH",
        "outputId": "e712e420-a860-488a-dda0-e60e954fcd7c"
      },
      "execution_count": 3,
      "outputs": [
        {
          "output_type": "execute_result",
          "data": {
            "text/plain": [
              "           Date  Close   Open   High    Low\n",
              "0     5/27/2024  77200  75300  78100  74000\n",
              "1     5/24/2024  75900  76800  77000  75800\n",
              "2     5/23/2024  78300  77700  79100  77100\n",
              "3     5/22/2024  77700  78100  78700  77300\n",
              "4     5/21/2024  78400  78500  79000  78200\n",
              "...         ...    ...    ...    ...    ...\n",
              "1542   3/8/2019  43800  44450  44800  43800\n",
              "1543   3/7/2019  44450  43400  44950  43400\n",
              "1544   3/6/2019  44000  44000  44300  43700\n",
              "1545   3/5/2019  44250  44600  45100  44150\n",
              "1546   3/4/2019  44850  46000  46100  44800\n",
              "\n",
              "[1547 rows x 5 columns]"
            ],
            "text/html": [
              "\n",
              "  <div id=\"df-edffa62f-155d-48b3-bde5-02122797c46e\" class=\"colab-df-container\">\n",
              "    <div>\n",
              "<style scoped>\n",
              "    .dataframe tbody tr th:only-of-type {\n",
              "        vertical-align: middle;\n",
              "    }\n",
              "\n",
              "    .dataframe tbody tr th {\n",
              "        vertical-align: top;\n",
              "    }\n",
              "\n",
              "    .dataframe thead th {\n",
              "        text-align: right;\n",
              "    }\n",
              "</style>\n",
              "<table border=\"1\" class=\"dataframe\">\n",
              "  <thead>\n",
              "    <tr style=\"text-align: right;\">\n",
              "      <th></th>\n",
              "      <th>Date</th>\n",
              "      <th>Close</th>\n",
              "      <th>Open</th>\n",
              "      <th>High</th>\n",
              "      <th>Low</th>\n",
              "    </tr>\n",
              "  </thead>\n",
              "  <tbody>\n",
              "    <tr>\n",
              "      <th>0</th>\n",
              "      <td>5/27/2024</td>\n",
              "      <td>77200</td>\n",
              "      <td>75300</td>\n",
              "      <td>78100</td>\n",
              "      <td>74000</td>\n",
              "    </tr>\n",
              "    <tr>\n",
              "      <th>1</th>\n",
              "      <td>5/24/2024</td>\n",
              "      <td>75900</td>\n",
              "      <td>76800</td>\n",
              "      <td>77000</td>\n",
              "      <td>75800</td>\n",
              "    </tr>\n",
              "    <tr>\n",
              "      <th>2</th>\n",
              "      <td>5/23/2024</td>\n",
              "      <td>78300</td>\n",
              "      <td>77700</td>\n",
              "      <td>79100</td>\n",
              "      <td>77100</td>\n",
              "    </tr>\n",
              "    <tr>\n",
              "      <th>3</th>\n",
              "      <td>5/22/2024</td>\n",
              "      <td>77700</td>\n",
              "      <td>78100</td>\n",
              "      <td>78700</td>\n",
              "      <td>77300</td>\n",
              "    </tr>\n",
              "    <tr>\n",
              "      <th>4</th>\n",
              "      <td>5/21/2024</td>\n",
              "      <td>78400</td>\n",
              "      <td>78500</td>\n",
              "      <td>79000</td>\n",
              "      <td>78200</td>\n",
              "    </tr>\n",
              "    <tr>\n",
              "      <th>...</th>\n",
              "      <td>...</td>\n",
              "      <td>...</td>\n",
              "      <td>...</td>\n",
              "      <td>...</td>\n",
              "      <td>...</td>\n",
              "    </tr>\n",
              "    <tr>\n",
              "      <th>1542</th>\n",
              "      <td>3/8/2019</td>\n",
              "      <td>43800</td>\n",
              "      <td>44450</td>\n",
              "      <td>44800</td>\n",
              "      <td>43800</td>\n",
              "    </tr>\n",
              "    <tr>\n",
              "      <th>1543</th>\n",
              "      <td>3/7/2019</td>\n",
              "      <td>44450</td>\n",
              "      <td>43400</td>\n",
              "      <td>44950</td>\n",
              "      <td>43400</td>\n",
              "    </tr>\n",
              "    <tr>\n",
              "      <th>1544</th>\n",
              "      <td>3/6/2019</td>\n",
              "      <td>44000</td>\n",
              "      <td>44000</td>\n",
              "      <td>44300</td>\n",
              "      <td>43700</td>\n",
              "    </tr>\n",
              "    <tr>\n",
              "      <th>1545</th>\n",
              "      <td>3/5/2019</td>\n",
              "      <td>44250</td>\n",
              "      <td>44600</td>\n",
              "      <td>45100</td>\n",
              "      <td>44150</td>\n",
              "    </tr>\n",
              "    <tr>\n",
              "      <th>1546</th>\n",
              "      <td>3/4/2019</td>\n",
              "      <td>44850</td>\n",
              "      <td>46000</td>\n",
              "      <td>46100</td>\n",
              "      <td>44800</td>\n",
              "    </tr>\n",
              "  </tbody>\n",
              "</table>\n",
              "<p>1547 rows × 5 columns</p>\n",
              "</div>\n",
              "    <div class=\"colab-df-buttons\">\n",
              "\n",
              "  <div class=\"colab-df-container\">\n",
              "    <button class=\"colab-df-convert\" onclick=\"convertToInteractive('df-edffa62f-155d-48b3-bde5-02122797c46e')\"\n",
              "            title=\"Convert this dataframe to an interactive table.\"\n",
              "            style=\"display:none;\">\n",
              "\n",
              "  <svg xmlns=\"http://www.w3.org/2000/svg\" height=\"24px\" viewBox=\"0 -960 960 960\">\n",
              "    <path d=\"M120-120v-720h720v720H120Zm60-500h600v-160H180v160Zm220 220h160v-160H400v160Zm0 220h160v-160H400v160ZM180-400h160v-160H180v160Zm440 0h160v-160H620v160ZM180-180h160v-160H180v160Zm440 0h160v-160H620v160Z\"/>\n",
              "  </svg>\n",
              "    </button>\n",
              "\n",
              "  <style>\n",
              "    .colab-df-container {\n",
              "      display:flex;\n",
              "      gap: 12px;\n",
              "    }\n",
              "\n",
              "    .colab-df-convert {\n",
              "      background-color: #E8F0FE;\n",
              "      border: none;\n",
              "      border-radius: 50%;\n",
              "      cursor: pointer;\n",
              "      display: none;\n",
              "      fill: #1967D2;\n",
              "      height: 32px;\n",
              "      padding: 0 0 0 0;\n",
              "      width: 32px;\n",
              "    }\n",
              "\n",
              "    .colab-df-convert:hover {\n",
              "      background-color: #E2EBFA;\n",
              "      box-shadow: 0px 1px 2px rgba(60, 64, 67, 0.3), 0px 1px 3px 1px rgba(60, 64, 67, 0.15);\n",
              "      fill: #174EA6;\n",
              "    }\n",
              "\n",
              "    .colab-df-buttons div {\n",
              "      margin-bottom: 4px;\n",
              "    }\n",
              "\n",
              "    [theme=dark] .colab-df-convert {\n",
              "      background-color: #3B4455;\n",
              "      fill: #D2E3FC;\n",
              "    }\n",
              "\n",
              "    [theme=dark] .colab-df-convert:hover {\n",
              "      background-color: #434B5C;\n",
              "      box-shadow: 0px 1px 3px 1px rgba(0, 0, 0, 0.15);\n",
              "      filter: drop-shadow(0px 1px 2px rgba(0, 0, 0, 0.3));\n",
              "      fill: #FFFFFF;\n",
              "    }\n",
              "  </style>\n",
              "\n",
              "    <script>\n",
              "      const buttonEl =\n",
              "        document.querySelector('#df-edffa62f-155d-48b3-bde5-02122797c46e button.colab-df-convert');\n",
              "      buttonEl.style.display =\n",
              "        google.colab.kernel.accessAllowed ? 'block' : 'none';\n",
              "\n",
              "      async function convertToInteractive(key) {\n",
              "        const element = document.querySelector('#df-edffa62f-155d-48b3-bde5-02122797c46e');\n",
              "        const dataTable =\n",
              "          await google.colab.kernel.invokeFunction('convertToInteractive',\n",
              "                                                    [key], {});\n",
              "        if (!dataTable) return;\n",
              "\n",
              "        const docLinkHtml = 'Like what you see? Visit the ' +\n",
              "          '<a target=\"_blank\" href=https://colab.research.google.com/notebooks/data_table.ipynb>data table notebook</a>'\n",
              "          + ' to learn more about interactive tables.';\n",
              "        element.innerHTML = '';\n",
              "        dataTable['output_type'] = 'display_data';\n",
              "        await google.colab.output.renderOutput(dataTable, element);\n",
              "        const docLink = document.createElement('div');\n",
              "        docLink.innerHTML = docLinkHtml;\n",
              "        element.appendChild(docLink);\n",
              "      }\n",
              "    </script>\n",
              "  </div>\n",
              "\n",
              "\n",
              "<div id=\"df-7ca5f720-49da-44b6-8187-e63124fbb8ac\">\n",
              "  <button class=\"colab-df-quickchart\" onclick=\"quickchart('df-7ca5f720-49da-44b6-8187-e63124fbb8ac')\"\n",
              "            title=\"Suggest charts\"\n",
              "            style=\"display:none;\">\n",
              "\n",
              "<svg xmlns=\"http://www.w3.org/2000/svg\" height=\"24px\"viewBox=\"0 0 24 24\"\n",
              "     width=\"24px\">\n",
              "    <g>\n",
              "        <path d=\"M19 3H5c-1.1 0-2 .9-2 2v14c0 1.1.9 2 2 2h14c1.1 0 2-.9 2-2V5c0-1.1-.9-2-2-2zM9 17H7v-7h2v7zm4 0h-2V7h2v10zm4 0h-2v-4h2v4z\"/>\n",
              "    </g>\n",
              "</svg>\n",
              "  </button>\n",
              "\n",
              "<style>\n",
              "  .colab-df-quickchart {\n",
              "      --bg-color: #E8F0FE;\n",
              "      --fill-color: #1967D2;\n",
              "      --hover-bg-color: #E2EBFA;\n",
              "      --hover-fill-color: #174EA6;\n",
              "      --disabled-fill-color: #AAA;\n",
              "      --disabled-bg-color: #DDD;\n",
              "  }\n",
              "\n",
              "  [theme=dark] .colab-df-quickchart {\n",
              "      --bg-color: #3B4455;\n",
              "      --fill-color: #D2E3FC;\n",
              "      --hover-bg-color: #434B5C;\n",
              "      --hover-fill-color: #FFFFFF;\n",
              "      --disabled-bg-color: #3B4455;\n",
              "      --disabled-fill-color: #666;\n",
              "  }\n",
              "\n",
              "  .colab-df-quickchart {\n",
              "    background-color: var(--bg-color);\n",
              "    border: none;\n",
              "    border-radius: 50%;\n",
              "    cursor: pointer;\n",
              "    display: none;\n",
              "    fill: var(--fill-color);\n",
              "    height: 32px;\n",
              "    padding: 0;\n",
              "    width: 32px;\n",
              "  }\n",
              "\n",
              "  .colab-df-quickchart:hover {\n",
              "    background-color: var(--hover-bg-color);\n",
              "    box-shadow: 0 1px 2px rgba(60, 64, 67, 0.3), 0 1px 3px 1px rgba(60, 64, 67, 0.15);\n",
              "    fill: var(--button-hover-fill-color);\n",
              "  }\n",
              "\n",
              "  .colab-df-quickchart-complete:disabled,\n",
              "  .colab-df-quickchart-complete:disabled:hover {\n",
              "    background-color: var(--disabled-bg-color);\n",
              "    fill: var(--disabled-fill-color);\n",
              "    box-shadow: none;\n",
              "  }\n",
              "\n",
              "  .colab-df-spinner {\n",
              "    border: 2px solid var(--fill-color);\n",
              "    border-color: transparent;\n",
              "    border-bottom-color: var(--fill-color);\n",
              "    animation:\n",
              "      spin 1s steps(1) infinite;\n",
              "  }\n",
              "\n",
              "  @keyframes spin {\n",
              "    0% {\n",
              "      border-color: transparent;\n",
              "      border-bottom-color: var(--fill-color);\n",
              "      border-left-color: var(--fill-color);\n",
              "    }\n",
              "    20% {\n",
              "      border-color: transparent;\n",
              "      border-left-color: var(--fill-color);\n",
              "      border-top-color: var(--fill-color);\n",
              "    }\n",
              "    30% {\n",
              "      border-color: transparent;\n",
              "      border-left-color: var(--fill-color);\n",
              "      border-top-color: var(--fill-color);\n",
              "      border-right-color: var(--fill-color);\n",
              "    }\n",
              "    40% {\n",
              "      border-color: transparent;\n",
              "      border-right-color: var(--fill-color);\n",
              "      border-top-color: var(--fill-color);\n",
              "    }\n",
              "    60% {\n",
              "      border-color: transparent;\n",
              "      border-right-color: var(--fill-color);\n",
              "    }\n",
              "    80% {\n",
              "      border-color: transparent;\n",
              "      border-right-color: var(--fill-color);\n",
              "      border-bottom-color: var(--fill-color);\n",
              "    }\n",
              "    90% {\n",
              "      border-color: transparent;\n",
              "      border-bottom-color: var(--fill-color);\n",
              "    }\n",
              "  }\n",
              "</style>\n",
              "\n",
              "  <script>\n",
              "    async function quickchart(key) {\n",
              "      const quickchartButtonEl =\n",
              "        document.querySelector('#' + key + ' button');\n",
              "      quickchartButtonEl.disabled = true;  // To prevent multiple clicks.\n",
              "      quickchartButtonEl.classList.add('colab-df-spinner');\n",
              "      try {\n",
              "        const charts = await google.colab.kernel.invokeFunction(\n",
              "            'suggestCharts', [key], {});\n",
              "      } catch (error) {\n",
              "        console.error('Error during call to suggestCharts:', error);\n",
              "      }\n",
              "      quickchartButtonEl.classList.remove('colab-df-spinner');\n",
              "      quickchartButtonEl.classList.add('colab-df-quickchart-complete');\n",
              "    }\n",
              "    (() => {\n",
              "      let quickchartButtonEl =\n",
              "        document.querySelector('#df-7ca5f720-49da-44b6-8187-e63124fbb8ac button');\n",
              "      quickchartButtonEl.style.display =\n",
              "        google.colab.kernel.accessAllowed ? 'block' : 'none';\n",
              "    })();\n",
              "  </script>\n",
              "</div>\n",
              "    </div>\n",
              "  </div>\n"
            ],
            "application/vnd.google.colaboratory.intrinsic+json": {
              "type": "dataframe",
              "variable_name": "df_reversed",
              "summary": "{\n  \"name\": \"df_reversed\",\n  \"rows\": 1547,\n  \"fields\": [\n    {\n      \"column\": \"Date\",\n      \"properties\": {\n        \"dtype\": \"object\",\n        \"num_unique_values\": 1547,\n        \"samples\": [\n          \"4/9/2024\",\n          \"10/8/2021\",\n          \"12/28/2020\"\n        ],\n        \"semantic_type\": \"\",\n        \"description\": \"\"\n      }\n    },\n    {\n      \"column\": \"Close\",\n      \"properties\": {\n        \"dtype\": \"number\",\n        \"std\": 11773,\n        \"min\": 41200,\n        \"max\": 91000,\n        \"num_unique_values\": 459,\n        \"samples\": [\n          65500,\n          80800,\n          54200\n        ],\n        \"semantic_type\": \"\",\n        \"description\": \"\"\n      }\n    },\n    {\n      \"column\": \"Open\",\n      \"properties\": {\n        \"dtype\": \"number\",\n        \"std\": 11799,\n        \"min\": 41300,\n        \"max\": 90500,\n        \"num_unique_values\": 470,\n        \"samples\": [\n          75900,\n          71400,\n          72300\n        ],\n        \"semantic_type\": \"\",\n        \"description\": \"\"\n      }\n    },\n    {\n      \"column\": \"High\",\n      \"properties\": {\n        \"dtype\": \"number\",\n        \"std\": 11845,\n        \"min\": 42050,\n        \"max\": 96700,\n        \"num_unique_values\": 467,\n        \"samples\": [\n          75300,\n          77300,\n          73000\n        ],\n        \"semantic_type\": \"\",\n        \"description\": \"\"\n      }\n    },\n    {\n      \"column\": \"Low\",\n      \"properties\": {\n        \"dtype\": \"number\",\n        \"std\": 11737,\n        \"min\": 40850,\n        \"max\": 90000,\n        \"num_unique_values\": 462,\n        \"samples\": [\n          65900,\n          82000,\n          73600\n        ],\n        \"semantic_type\": \"\",\n        \"description\": \"\"\n      }\n    }\n  ]\n}"
            }
          },
          "metadata": {},
          "execution_count": 3
        }
      ]
    },
    {
      "cell_type": "code",
      "source": [
        "df1"
      ],
      "metadata": {
        "colab": {
          "base_uri": "https://localhost:8080/"
        },
        "id": "ZY8eiDyXTLza",
        "outputId": "11292152-a489-4128-aabf-35eda4900dfa"
      },
      "execution_count": 4,
      "outputs": [
        {
          "output_type": "execute_result",
          "data": {
            "text/plain": [
              "0       44850\n",
              "1       44250\n",
              "2       44000\n",
              "3       44450\n",
              "4       43800\n",
              "        ...  \n",
              "1542    78400\n",
              "1543    77700\n",
              "1544    78300\n",
              "1545    75900\n",
              "1546    77200\n",
              "Name: Close, Length: 1547, dtype: int64"
            ]
          },
          "metadata": {},
          "execution_count": 4
        }
      ]
    },
    {
      "cell_type": "code",
      "source": [
        "scaler=MinMaxScaler(feature_range=(0,1))\n",
        "df1=scaler.fit_transform(np.array(df1).reshape(-1,1))"
      ],
      "metadata": {
        "id": "VbrQFtyZTOny"
      },
      "execution_count": 5,
      "outputs": []
    },
    {
      "cell_type": "code",
      "source": [
        "# 4. Chia train test\n",
        "train_size = int(0.8 * len(df1))\n",
        "test_size = int(0.2 * len(df1))\n",
        "\n",
        "train_data = df1[:train_size]\n",
        "test_data = df1[train_size:]"
      ],
      "metadata": {
        "id": "DahPndU3TRbT"
      },
      "execution_count": 6,
      "outputs": []
    },
    {
      "cell_type": "code",
      "source": [
        "# 5. Hàm Create Dataset\n",
        "import numpy\n",
        "# convert an array of values into a dataset matrix\n",
        "def create_dataset(dataset, time_step=1):\n",
        "\tdataX, dataY = [], []\n",
        "\tfor i in range(len(dataset)-time_step-1):\n",
        "\t\ta = dataset[i:(i+time_step), 0]   ###i=0, X=0,1,2,3-----99   Y=100\n",
        "\t\tdataX.append(a)\n",
        "\t\tdataY.append(dataset[i + time_step, 0])\n",
        "\treturn numpy.array(dataX), numpy.array(dataY)"
      ],
      "metadata": {
        "id": "fvmSA7qXVs3-"
      },
      "execution_count": 7,
      "outputs": []
    },
    {
      "cell_type": "code",
      "source": [
        "#6. Reshape into X=t,t+1,t+2..t+99 and Y=t+100\n",
        "\n",
        "time_step = 100\n",
        "X_train, y_train = create_dataset(train_data, time_step)\n",
        "X_test, ytest = create_dataset(test_data, time_step)"
      ],
      "metadata": {
        "id": "fScdPb0yV6J-"
      },
      "execution_count": 8,
      "outputs": []
    },
    {
      "cell_type": "code",
      "source": [
        "# 7. Reshape input to be [samples, time steps, features] which is required for LSTM\n",
        "X_train =X_train.reshape(X_train.shape[0],X_train.shape[1] , 1)\n",
        "X_test = X_test.reshape(X_test.shape[0],X_test.shape[1] , 1)"
      ],
      "metadata": {
        "id": "55r8MGfeWK2G"
      },
      "execution_count": 9,
      "outputs": []
    },
    {
      "cell_type": "code",
      "source": [
        "# Xây dựng mô hình RNN\n",
        "rnn_model = Sequential()\n",
        "rnn_model.add(LSTM(64, input_shape=(X_train.shape[1], X_train.shape[2])))\n",
        "rnn_model.add(Dense(32, activation='relu'))\n",
        "rnn_model.add(Dense(1))\n"
      ],
      "metadata": {
        "id": "h1Tj5BzFWRc_"
      },
      "execution_count": 10,
      "outputs": []
    },
    {
      "cell_type": "code",
      "source": [
        "# Biên dịch mô hình\n",
        "rnn_model.compile(optimizer='adam', loss='mse')"
      ],
      "metadata": {
        "id": "wqxQzzWlWhgr"
      },
      "execution_count": 11,
      "outputs": []
    },
    {
      "cell_type": "code",
      "source": [
        "# Huấn luyện mô hình RNN\n",
        "rnn_model.fit(X_train, y_train, epochs=10, batch_size=32, validation_split=0.2)\n"
      ],
      "metadata": {
        "colab": {
          "base_uri": "https://localhost:8080/"
        },
        "id": "i_hScTemWkR2",
        "outputId": "9d533682-207c-4616-9a5f-5a8b0cc8ef31"
      },
      "execution_count": 12,
      "outputs": [
        {
          "output_type": "stream",
          "name": "stdout",
          "text": [
            "Epoch 1/10\n",
            "29/29 [==============================] - 10s 119ms/step - loss: 0.0527 - val_loss: 8.5319e-04\n",
            "Epoch 2/10\n",
            "29/29 [==============================] - 2s 84ms/step - loss: 0.0038 - val_loss: 0.0015\n",
            "Epoch 3/10\n",
            "29/29 [==============================] - 3s 89ms/step - loss: 0.0016 - val_loss: 7.4151e-04\n",
            "Epoch 4/10\n",
            "29/29 [==============================] - 4s 138ms/step - loss: 0.0013 - val_loss: 7.2267e-04\n",
            "Epoch 5/10\n",
            "29/29 [==============================] - 3s 99ms/step - loss: 0.0013 - val_loss: 6.8320e-04\n",
            "Epoch 6/10\n",
            "29/29 [==============================] - 2s 78ms/step - loss: 0.0012 - val_loss: 6.4083e-04\n",
            "Epoch 7/10\n",
            "29/29 [==============================] - 2s 70ms/step - loss: 0.0011 - val_loss: 5.8237e-04\n",
            "Epoch 8/10\n",
            "29/29 [==============================] - 1s 39ms/step - loss: 0.0011 - val_loss: 5.9215e-04\n",
            "Epoch 9/10\n",
            "29/29 [==============================] - 1s 39ms/step - loss: 0.0011 - val_loss: 5.2139e-04\n",
            "Epoch 10/10\n",
            "29/29 [==============================] - 1s 42ms/step - loss: 9.9183e-04 - val_loss: 5.1355e-04\n"
          ]
        },
        {
          "output_type": "execute_result",
          "data": {
            "text/plain": [
              "<keras.src.callbacks.History at 0x7c3d691e3cd0>"
            ]
          },
          "metadata": {},
          "execution_count": 12
        }
      ]
    },
    {
      "cell_type": "code",
      "source": [
        "# Trích xuất các đặc trưng từ tầng cuối cùng của RNN\n",
        "train_features_rnn = rnn_model.predict(X_train)\n",
        "test_features_rnn = rnn_model.predict(X_test)"
      ],
      "metadata": {
        "colab": {
          "base_uri": "https://localhost:8080/"
        },
        "id": "DaSUf1SIXdd8",
        "outputId": "94915e2f-d046-429f-9e6d-7c2ae7185f11"
      },
      "execution_count": 13,
      "outputs": [
        {
          "output_type": "stream",
          "name": "stdout",
          "text": [
            "36/36 [==============================] - 1s 13ms/step\n",
            "7/7 [==============================] - 0s 13ms/step\n"
          ]
        }
      ]
    },
    {
      "cell_type": "code",
      "source": [
        "# Kết hợp các đặc trưng từ RNN với các đặc trưng khác (ở đây chỉ dùng các đặc trưng từ RNN)\n",
        "X_train_combined = train_features_rnn\n",
        "X_test_combined = test_features_rnn\n"
      ],
      "metadata": {
        "id": "Dbj6eZwFYJRz"
      },
      "execution_count": 14,
      "outputs": []
    },
    {
      "cell_type": "code",
      "source": [
        "# Tạo dataset cho LightGBM\n",
        "train_data = lgb.Dataset(X_train_combined, label=y_train)\n",
        "test_data = lgb.Dataset(X_test_combined, label=ytest, reference=train_data)\n"
      ],
      "metadata": {
        "id": "cUPFaIBgYNfs"
      },
      "execution_count": 15,
      "outputs": []
    },
    {
      "cell_type": "code",
      "source": [
        "# Thiết lập các tham số cho LightGBM\n",
        "params = {\n",
        "    'objective': 'regression',\n",
        "    'metric': 'rmse',\n",
        "    'boosting_type': 'gbdt',\n",
        "    'num_leaves': 31,\n",
        "    'learning_rate': 0.05,\n",
        "    'feature_fraction': 0.9\n",
        "}"
      ],
      "metadata": {
        "id": "FRfYcbr4YXIl"
      },
      "execution_count": 16,
      "outputs": []
    },
    {
      "cell_type": "code",
      "source": [
        "# Huấn luyện mô hình LightGBM với early stopping\n",
        "evals_result = {}\n",
        "lgb_model = lgb.train(\n",
        "    params,\n",
        "    train_data,\n",
        "    num_boost_round=100,\n",
        "    valid_sets=[train_data, test_data],\n",
        "    valid_names=['train', 'valid'],\n",
        "    callbacks=[lgb.early_stopping(stopping_rounds=10), lgb.record_evaluation(evals_result)]\n",
        ")\n",
        "\n",
        "# Dự đoán và đánh giá\n",
        "y_pred = lgb_model.predict(X_test_combined, num_iteration=lgb_model.best_iteration)\n",
        "mse = mean_squared_error(ytest, y_pred)\n",
        "print(f'Mean Squared Error: {mse}')"
      ],
      "metadata": {
        "colab": {
          "base_uri": "https://localhost:8080/"
        },
        "id": "1sxatfq1YZeN",
        "outputId": "52503191-28f3-4956-b119-3d53e713a64c"
      },
      "execution_count": 17,
      "outputs": [
        {
          "output_type": "stream",
          "name": "stdout",
          "text": [
            "[LightGBM] [Info] Auto-choosing col-wise multi-threading, the overhead of testing was 0.000156 seconds.\n",
            "You can set `force_col_wise=true` to remove the overhead.\n",
            "[LightGBM] [Info] Total Bins 255\n",
            "[LightGBM] [Info] Number of data points in the train set: 1136, number of used features: 1\n",
            "[LightGBM] [Info] Start training from score 0.462029\n",
            "Training until validation scores don't improve for 10 rounds\n",
            "Did not meet early stopping. Best iteration is:\n",
            "[94]\ttrain's rmse: 0.0279359\tvalid's rmse: 0.0349164\n",
            "Mean Squared Error: 0.0012191581406383184\n"
          ]
        }
      ]
    },
    {
      "cell_type": "code",
      "source": [
        "# 10. Hàm dự đoán 30 ngày tiếp theo\n",
        "def predict_next_30_days(rnn_model, lgb_model, initial_data, time_step=100):\n",
        "    predictions = []\n",
        "    current_sequence = initial_data[-time_step:]  # Lấy chuỗi dữ liệu cuối cùng làm dữ liệu khởi đầu\n",
        "\n",
        "    for _ in range(30):\n",
        "        # Reshape data for prediction\n",
        "        current_sequence_reshaped = np.expand_dims(current_sequence, axis=0)\n",
        "\n",
        "        # Predict features using RNN\n",
        "        rnn_features = rnn_model.predict(current_sequence_reshaped)\n",
        "\n",
        "        # Predict the next day's closing price using LightGBM\n",
        "        next_close = lgb_model.predict(rnn_features)\n",
        "\n",
        "        # Append the prediction\n",
        "        predictions.append(next_close[0])\n",
        "\n",
        "        # Update the sequence with the new prediction\n",
        "        next_day = np.array([[next_close[0]]])\n",
        "        current_sequence = np.vstack((current_sequence[1:], next_day))\n",
        "\n",
        "    return predictions\n",
        "\n",
        "# Chuẩn bị dữ liệu ban đầu cho dự đoán 30 ngày tiếp theo\n",
        "initial_data = features[-time_step:].reshape(-1, 1)\n",
        "\n",
        "# Dự đoán 30 ngày tiếp theo\n",
        "next_30_days_predictions = predict_next_30_days(rnn_model, lgb_model, initial_data)\n",
        "print(\"Dự đoán giá đóng cửa cho 30 ngày tiếp theo:\", next_30_days_predictions)"
      ],
      "metadata": {
        "colab": {
          "base_uri": "https://localhost:8080/"
        },
        "id": "Stgknid0Y_Ku",
        "outputId": "8740cb46-7a83-4d47-b565-11e4884b83fb"
      },
      "execution_count": 18,
      "outputs": [
        {
          "output_type": "stream",
          "name": "stdout",
          "text": [
            "1/1 [==============================] - 0s 424ms/step\n",
            "1/1 [==============================] - 0s 24ms/step\n",
            "1/1 [==============================] - 0s 23ms/step\n",
            "1/1 [==============================] - 0s 23ms/step\n",
            "1/1 [==============================] - 0s 23ms/step\n",
            "1/1 [==============================] - 0s 23ms/step\n",
            "1/1 [==============================] - 0s 23ms/step\n",
            "1/1 [==============================] - 0s 23ms/step\n",
            "1/1 [==============================] - 0s 24ms/step\n",
            "1/1 [==============================] - 0s 26ms/step\n",
            "1/1 [==============================] - 0s 24ms/step\n",
            "1/1 [==============================] - 0s 24ms/step\n",
            "1/1 [==============================] - 0s 23ms/step\n",
            "1/1 [==============================] - 0s 24ms/step\n",
            "1/1 [==============================] - 0s 23ms/step\n",
            "1/1 [==============================] - 0s 28ms/step\n",
            "1/1 [==============================] - 0s 24ms/step\n",
            "1/1 [==============================] - 0s 23ms/step\n",
            "1/1 [==============================] - 0s 36ms/step\n",
            "1/1 [==============================] - 0s 28ms/step\n",
            "1/1 [==============================] - 0s 23ms/step\n",
            "1/1 [==============================] - 0s 26ms/step\n",
            "1/1 [==============================] - 0s 24ms/step\n",
            "1/1 [==============================] - 0s 26ms/step\n",
            "1/1 [==============================] - 0s 26ms/step\n",
            "1/1 [==============================] - 0s 24ms/step\n",
            "1/1 [==============================] - 0s 26ms/step\n",
            "1/1 [==============================] - 0s 24ms/step\n",
            "1/1 [==============================] - 0s 24ms/step\n",
            "1/1 [==============================] - 0s 23ms/step\n",
            "Dự đoán giá đóng cửa cho 30 ngày tiếp theo: [0.9088940358466518, 0.9088940358466518, 0.9088940358466518, 0.9088940358466518, 0.9088940358466518, 0.9088940358466518, 0.9088940358466518, 0.9088940358466518, 0.9088940358466518, 0.9088940358466518, 0.9088940358466518, 0.9088940358466518, 0.9088940358466518, 0.9088940358466518, 0.9088940358466518, 0.9088940358466518, 0.9088940358466518, 0.9088940358466518, 0.9088940358466518, 0.9088940358466518, 0.9088940358466518, 0.9088940358466518, 0.9088940358466518, 0.9088940358466518, 0.9088940358466518, 0.9088940358466518, 0.8334850467900006, 0.7895361103547616, 0.760408931487658, 0.7358151559671501]\n"
          ]
        }
      ]
    },
    {
      "cell_type": "code",
      "source": [
        "import matplotlib.pyplot as plt\n",
        "\n",
        "# 14. Vẽ hình\n",
        "\n",
        "# Plotting train data\n",
        "train_data_index = pd.RangeIndex(start=0, stop=len(train_features_rnn), step=1)\n",
        "plt.plot(train_data_index, scaler.inverse_transform(train_features_rnn), label='Train')\n",
        "\n",
        "# Plotting test data\n",
        "test_data_index = pd.RangeIndex(start=len(train_features_rnn), stop=len(train_features_rnn) + len(test_features_rnn), step=1)\n",
        "plt.plot(test_data_index, scaler.inverse_transform(test_features_rnn), label='Test')\n",
        "\n",
        "# Adjusting y_pred to have correct shape and length\n",
        "test_data_index_pred = pd.RangeIndex(start=len(train_features_rnn), stop=len(train_features_rnn) + len(y_pred), step=1)\n",
        "plt.plot(test_data_index_pred, scaler.inverse_transform(np.array(y_pred).reshape(-1, 1)), label='Predict')\n",
        "\n",
        "# Adjusting next_30_days_predictions to have correct shape and length\n",
        "predict_data_index = pd.RangeIndex(start=len(df), stop=len(df) + len(next_30_days_predictions), step=1)\n",
        "plt.plot(predict_data_index, scaler.inverse_transform(np.array(next_30_days_predictions).reshape(-1, 1)), label='Predict30days')\n",
        "\n",
        "plt.legend(['Train', 'Test', 'Predict', 'Predict30days'])\n",
        "plt.show()\n",
        "\n",
        "\n"
      ],
      "metadata": {
        "colab": {
          "base_uri": "https://localhost:8080/",
          "height": 430
        },
        "id": "auUAdUFgR-D2",
        "outputId": "a274384c-1101-42d0-a370-010ba4a28700"
      },
      "execution_count": 19,
      "outputs": [
        {
          "output_type": "display_data",
          "data": {
            "text/plain": [
              "<Figure size 640x480 with 1 Axes>"
            ],
            "image/png": "[encoded data removed]"
          },
          "metadata": {}
        }
      ]
    },
    {
      "cell_type": "markdown",
      "source": [
        "# Dự báo 60 ngày tiếp theo"
      ],
      "metadata": {
        "id": "yFzVkNS1aIxd"
      }
    },
    {
      "cell_type": "code",
      "source": [
        "def predict_next_days(rnn_model, lgb_model, initial_data, time_step=100, days_to_predict=60):\n",
        "    predictions = []\n",
        "    current_sequence = initial_data[-time_step:]  # Lấy chuỗi dữ liệu cuối cùng làm dữ liệu khởi đầu\n",
        "\n",
        "    for _ in range(days_to_predict):\n",
        "        # Reshape data for prediction\n",
        "        current_sequence_reshaped = np.expand_dims(current_sequence, axis=0)\n",
        "\n",
        "        # Predict features using RNN\n",
        "        rnn_features = rnn_model.predict(current_sequence_reshaped)\n",
        "\n",
        "        # Predict the next day's closing price using LightGBM\n",
        "        next_close = lgb_model.predict(rnn_features)\n",
        "\n",
        "        # Append the prediction\n",
        "        predictions.append(next_close[0])\n",
        "\n",
        "        # Update the sequence with the new prediction\n",
        "        next_day = np.array([[next_close[0]]])\n",
        "        current_sequence = np.vstack((current_sequence[1:], next_day))\n",
        "\n",
        "    return predictions\n",
        "\n",
        "# Chuẩn bị dữ liệu ban đầu cho dự đoán 60 ngày tiếp theo\n",
        "initial_data = features[-time_step:].reshape(-1, 1)\n",
        "\n",
        "# Dự đoán 60 ngày tiếp theo\n",
        "days_to_predict = 60\n",
        "next_60_days_predictions = predict_next_days(rnn_model, lgb_model, initial_data, time_step, days_to_predict)\n",
        "print(\"Dự đoán giá đóng cửa cho 60 ngày tiếp theo:\", next_60_days_predictions)\n",
        "\n"
      ],
      "metadata": {
        "colab": {
          "base_uri": "https://localhost:8080/"
        },
        "id": "KbHY4rXyaHMy",
        "outputId": "24378c21-6536-4c2c-d9c1-3f98bce4f4c2"
      },
      "execution_count": 20,
      "outputs": [
        {
          "output_type": "stream",
          "name": "stdout",
          "text": [
            "1/1 [==============================] - 0s 27ms/step\n",
            "1/1 [==============================] - 0s 23ms/step\n",
            "1/1 [==============================] - 0s 23ms/step\n",
            "1/1 [==============================] - 0s 26ms/step\n",
            "1/1 [==============================] - 0s 23ms/step\n",
            "1/1 [==============================] - 0s 24ms/step\n",
            "1/1 [==============================] - 0s 23ms/step\n",
            "1/1 [==============================] - 0s 24ms/step\n",
            "1/1 [==============================] - 0s 22ms/step\n",
            "1/1 [==============================] - 0s 24ms/step\n",
            "1/1 [==============================] - 0s 23ms/step\n",
            "1/1 [==============================] - 0s 27ms/step\n",
            "1/1 [==============================] - 0s 25ms/step\n",
            "1/1 [==============================] - 0s 27ms/step\n",
            "1/1 [==============================] - 0s 24ms/step\n",
            "1/1 [==============================] - 0s 28ms/step\n",
            "1/1 [==============================] - 0s 26ms/step\n",
            "1/1 [==============================] - 0s 25ms/step\n",
            "1/1 [==============================] - 0s 24ms/step\n",
            "1/1 [==============================] - 0s 36ms/step\n",
            "1/1 [==============================] - 0s 38ms/step\n",
            "1/1 [==============================] - 0s 48ms/step\n",
            "1/1 [==============================] - 0s 44ms/step\n",
            "1/1 [==============================] - 0s 41ms/step\n",
            "1/1 [==============================] - 0s 36ms/step\n",
            "1/1 [==============================] - 0s 39ms/step\n",
            "1/1 [==============================] - 0s 42ms/step\n",
            "1/1 [==============================] - 0s 34ms/step\n",
            "1/1 [==============================] - 0s 34ms/step\n",
            "1/1 [==============================] - 0s 61ms/step\n",
            "1/1 [==============================] - 0s 36ms/step\n",
            "1/1 [==============================] - 0s 36ms/step\n",
            "1/1 [==============================] - 0s 39ms/step\n",
            "1/1 [==============================] - 0s 35ms/step\n",
            "1/1 [==============================] - 0s 40ms/step\n",
            "1/1 [==============================] - 0s 41ms/step\n",
            "1/1 [==============================] - 0s 37ms/step\n",
            "1/1 [==============================] - 0s 41ms/step\n",
            "1/1 [==============================] - 0s 34ms/step\n",
            "1/1 [==============================] - 0s 43ms/step\n",
            "1/1 [==============================] - 0s 36ms/step\n",
            "1/1 [==============================] - 0s 38ms/step\n",
            "1/1 [==============================] - 0s 38ms/step\n",
            "1/1 [==============================] - 0s 40ms/step\n",
            "1/1 [==============================] - 0s 36ms/step\n",
            "1/1 [==============================] - 0s 29ms/step\n",
            "1/1 [==============================] - 0s 24ms/step\n",
            "1/1 [==============================] - 0s 24ms/step\n",
            "1/1 [==============================] - 0s 25ms/step\n",
            "1/1 [==============================] - 0s 31ms/step\n",
            "1/1 [==============================] - 0s 26ms/step\n",
            "1/1 [==============================] - 0s 24ms/step\n",
            "1/1 [==============================] - 0s 23ms/step\n",
            "1/1 [==============================] - 0s 25ms/step\n",
            "1/1 [==============================] - 0s 25ms/step\n",
            "1/1 [==============================] - 0s 23ms/step\n",
            "1/1 [==============================] - 0s 26ms/step\n",
            "1/1 [==============================] - 0s 24ms/step\n",
            "1/1 [==============================] - 0s 26ms/step\n",
            "1/1 [==============================] - 0s 25ms/step\n",
            "Dự đoán giá đóng cửa cho 60 ngày tiếp theo: [0.9088940358466518, 0.9088940358466518, 0.9088940358466518, 0.9088940358466518, 0.9088940358466518, 0.9088940358466518, 0.9088940358466518, 0.9088940358466518, 0.9088940358466518, 0.9088940358466518, 0.9088940358466518, 0.9088940358466518, 0.9088940358466518, 0.9088940358466518, 0.9088940358466518, 0.9088940358466518, 0.9088940358466518, 0.9088940358466518, 0.9088940358466518, 0.9088940358466518, 0.9088940358466518, 0.9088940358466518, 0.9088940358466518, 0.9088940358466518, 0.9088940358466518, 0.9088940358466518, 0.8334850467900006, 0.7895361103547616, 0.760408931487658, 0.7358151559671501, 0.7087653040873609, 0.6917986817885687, 0.6722277689273779, 0.6530660021019434, 0.6575750218376859, 0.6398108818390361, 0.6398108818390361, 0.6282900285596646, 0.6282900285596646, 0.6091435443099305, 0.6095914018754801, 0.6095914018754801, 0.6095914018754801, 0.6095914018754801, 0.6100891365028642, 0.6100891365028642, 0.6100891365028642, 0.6100891365028642, 0.6100891365028642, 0.6100891365028642, 0.6100891365028642, 0.6095914018754801, 0.6095914018754801, 0.6095914018754801, 0.6095914018754801, 0.6095914018754801, 0.6095914018754801, 0.6095914018754801, 0.6095914018754801, 0.6095914018754801]\n"
          ]
        }
      ]
    },
    {
      "cell_type": "code",
      "source": [
        "import matplotlib.pyplot as plt\n",
        "\n",
        "# Chuyển đổi lại train_data và test_data từ LightGBM Dataset sang mảng numpy\n",
        "train_data_array = train_features_rnn\n",
        "test_data_array = test_features_rnn\n",
        "\n",
        "# Vẽ đồ thị\n",
        "train_data_index = pd.RangeIndex(start=0, stop=len(train_data_array), step=1)\n",
        "plt.plot(train_data_index, scaler.inverse_transform(train_data_array), label='Train')\n",
        "\n",
        "test_data_index = pd.RangeIndex(start=len(train_data_array), stop=len(train_data_array) + len(test_data_array), step=1)\n",
        "plt.plot(test_data_index, scaler.inverse_transform(test_data_array), label='Test')\n",
        "\n",
        "# Điều chỉnh y_pred để có đúng hình dạng và chiều dài\n",
        "test_data_index_pred = pd.RangeIndex(start=len(train_data_array), stop=len(train_data_array) + len(y_pred), step=1)\n",
        "plt.plot(test_data_index_pred, scaler.inverse_transform(np.array(y_pred).reshape(-1, 1)), label='Predict')\n",
        "\n",
        "# Điều chỉnh next_60_days_predictions để có đúng hình dạng và chiều dài\n",
        "predict_data_index = pd.RangeIndex(start=len(df_reversed), stop=len(df_reversed) + len(next_60_days_predictions), step=1)\n",
        "plt.plot(predict_data_index, scaler.inverse_transform(np.array(next_60_days_predictions).reshape(-1, 1)), label='Predict60days')\n",
        "\n",
        "plt.legend(['Train', 'Test', 'Predict', 'Predict60days'])\n",
        "plt.show()\n",
        "\n"
      ],
      "metadata": {
        "colab": {
          "base_uri": "https://localhost:8080/",
          "height": 430
        },
        "id": "nZFR-LSubIOO",
        "outputId": "c30752cc-2283-422a-bb6f-025ebf086793"
      },
      "execution_count": 21,
      "outputs": [
        {
          "output_type": "display_data",
          "data": {
            "text/plain": [
              "<Figure size 640x480 with 1 Axes>"
            ],
            "image/png": "[encoded data removed]"
          },
          "metadata": {}
        }
      ]
    },
    {
      "cell_type": "code",
      "source": [
        "def predict_next_days(rnn_model, lgb_model, initial_data, time_step=100, days_to_predict=90):\n",
        "    predictions = []\n",
        "    current_sequence = initial_data[-time_step:]  # Lấy chuỗi dữ liệu cuối cùng làm dữ liệu khởi đầu\n",
        "\n",
        "    for _ in range(days_to_predict):\n",
        "        # Reshape data for prediction\n",
        "        current_sequence_reshaped = np.expand_dims(current_sequence, axis=0)\n",
        "\n",
        "        # Predict features using RNN\n",
        "        rnn_features = rnn_model.predict(current_sequence_reshaped)\n",
        "\n",
        "        # Predict the next day's closing price using LightGBM\n",
        "        next_close = lgb_model.predict(rnn_features)\n",
        "\n",
        "        # Append the prediction\n",
        "        predictions.append(next_close[0])\n",
        "\n",
        "        # Update the sequence with the new prediction\n",
        "        next_day = np.array([[next_close[0]]])\n",
        "        current_sequence = np.vstack((current_sequence[1:], next_day))\n",
        "\n",
        "    return predictions\n",
        "\n",
        "# Chuẩn bị dữ liệu ban đầu cho dự đoán 90 ngày tiếp theo\n",
        "initial_data = features[-time_step:].reshape(-1, 1)\n",
        "\n",
        "# Dự đoán 90 ngày tiếp theo\n",
        "days_to_predict = 90\n",
        "next_90_days_predictions = predict_next_days(rnn_model, lgb_model, initial_data, time_step, days_to_predict)\n",
        "print(\"Dự đoán giá đóng cửa cho 90 ngày tiếp theo:\", next_90_days_predictions)\n",
        "\n"
      ],
      "metadata": {
        "colab": {
          "base_uri": "https://localhost:8080/"
        },
        "id": "MF4il59M-F5h",
        "outputId": "98a7447f-6380-49c9-8616-fd20a8ac5ce8"
      },
      "execution_count": 22,
      "outputs": [
        {
          "output_type": "stream",
          "name": "stdout",
          "text": [
            "1/1 [==============================] - 0s 25ms/step\n",
            "1/1 [==============================] - 0s 27ms/step\n",
            "1/1 [==============================] - 0s 24ms/step\n",
            "1/1 [==============================] - 0s 31ms/step\n",
            "1/1 [==============================] - 0s 23ms/step\n",
            "1/1 [==============================] - 0s 24ms/step\n",
            "1/1 [==============================] - 0s 24ms/step\n",
            "1/1 [==============================] - 0s 24ms/step\n",
            "1/1 [==============================] - 0s 26ms/step\n",
            "1/1 [==============================] - 0s 27ms/step\n",
            "1/1 [==============================] - 0s 24ms/step\n",
            "1/1 [==============================] - 0s 26ms/step\n",
            "1/1 [==============================] - 0s 27ms/step\n",
            "1/1 [==============================] - 0s 26ms/step\n",
            "1/1 [==============================] - 0s 26ms/step\n",
            "1/1 [==============================] - 0s 28ms/step\n",
            "1/1 [==============================] - 0s 24ms/step\n",
            "1/1 [==============================] - 0s 30ms/step\n",
            "1/1 [==============================] - 0s 26ms/step\n",
            "1/1 [==============================] - 0s 29ms/step\n",
            "1/1 [==============================] - 0s 25ms/step\n",
            "1/1 [==============================] - 0s 23ms/step\n",
            "1/1 [==============================] - 0s 23ms/step\n",
            "1/1 [==============================] - 0s 23ms/step\n",
            "1/1 [==============================] - 0s 23ms/step\n",
            "1/1 [==============================] - 0s 23ms/step\n",
            "1/1 [==============================] - 0s 23ms/step\n",
            "1/1 [==============================] - 0s 23ms/step\n",
            "1/1 [==============================] - 0s 33ms/step\n",
            "1/1 [==============================] - 0s 25ms/step\n",
            "1/1 [==============================] - 0s 23ms/step\n",
            "1/1 [==============================] - 0s 23ms/step\n",
            "1/1 [==============================] - 0s 25ms/step\n",
            "1/1 [==============================] - 0s 23ms/step\n",
            "1/1 [==============================] - 0s 24ms/step\n",
            "1/1 [==============================] - 0s 24ms/step\n",
            "1/1 [==============================] - 0s 24ms/step\n",
            "1/1 [==============================] - 0s 23ms/step\n",
            "1/1 [==============================] - 0s 23ms/step\n",
            "1/1 [==============================] - 0s 23ms/step\n",
            "1/1 [==============================] - 0s 24ms/step\n",
            "1/1 [==============================] - 0s 31ms/step\n",
            "1/1 [==============================] - 0s 24ms/step\n",
            "1/1 [==============================] - 0s 26ms/step\n",
            "1/1 [==============================] - 0s 26ms/step\n",
            "1/1 [==============================] - 0s 24ms/step\n",
            "1/1 [==============================] - 0s 23ms/step\n",
            "1/1 [==============================] - 0s 23ms/step\n",
            "1/1 [==============================] - 0s 26ms/step\n",
            "1/1 [==============================] - 0s 24ms/step\n",
            "1/1 [==============================] - 0s 24ms/step\n",
            "1/1 [==============================] - 0s 23ms/step\n",
            "1/1 [==============================] - 0s 25ms/step\n",
            "1/1 [==============================] - 0s 25ms/step\n",
            "1/1 [==============================] - 0s 24ms/step\n",
            "1/1 [==============================] - 0s 23ms/step\n",
            "1/1 [==============================] - 0s 25ms/step\n",
            "1/1 [==============================] - 0s 25ms/step\n",
            "1/1 [==============================] - 0s 24ms/step\n",
            "1/1 [==============================] - 0s 22ms/step\n",
            "1/1 [==============================] - 0s 28ms/step\n",
            "1/1 [==============================] - 0s 24ms/step\n",
            "1/1 [==============================] - 0s 24ms/step\n",
            "1/1 [==============================] - 0s 23ms/step\n",
            "1/1 [==============================] - 0s 25ms/step\n",
            "1/1 [==============================] - 0s 27ms/step\n",
            "1/1 [==============================] - 0s 24ms/step\n",
            "1/1 [==============================] - 0s 24ms/step\n",
            "1/1 [==============================] - 0s 24ms/step\n",
            "1/1 [==============================] - 0s 22ms/step\n",
            "1/1 [==============================] - 0s 25ms/step\n",
            "1/1 [==============================] - 0s 24ms/step\n",
            "1/1 [==============================] - 0s 23ms/step\n",
            "1/1 [==============================] - 0s 25ms/step\n",
            "1/1 [==============================] - 0s 27ms/step\n",
            "1/1 [==============================] - 0s 23ms/step\n",
            "1/1 [==============================] - 0s 26ms/step\n",
            "1/1 [==============================] - 0s 24ms/step\n",
            "1/1 [==============================] - 0s 27ms/step\n",
            "1/1 [==============================] - 0s 28ms/step\n",
            "1/1 [==============================] - 0s 23ms/step\n",
            "1/1 [==============================] - 0s 25ms/step\n",
            "1/1 [==============================] - 0s 28ms/step\n",
            "1/1 [==============================] - 0s 23ms/step\n",
            "1/1 [==============================] - 0s 24ms/step\n",
            "1/1 [==============================] - 0s 23ms/step\n",
            "1/1 [==============================] - 0s 28ms/step\n",
            "1/1 [==============================] - 0s 25ms/step\n",
            "1/1 [==============================] - 0s 25ms/step\n",
            "1/1 [==============================] - 0s 23ms/step\n",
            "Dự đoán giá đóng cửa cho 90 ngày tiếp theo: [0.9088940358466518, 0.9088940358466518, 0.9088940358466518, 0.9088940358466518, 0.9088940358466518, 0.9088940358466518, 0.9088940358466518, 0.9088940358466518, 0.9088940358466518, 0.9088940358466518, 0.9088940358466518, 0.9088940358466518, 0.9088940358466518, 0.9088940358466518, 0.9088940358466518, 0.9088940358466518, 0.9088940358466518, 0.9088940358466518, 0.9088940358466518, 0.9088940358466518, 0.9088940358466518, 0.9088940358466518, 0.9088940358466518, 0.9088940358466518, 0.9088940358466518, 0.9088940358466518, 0.8334850467900006, 0.7895361103547616, 0.760408931487658, 0.7358151559671501, 0.7087653040873609, 0.6917986817885687, 0.6722277689273779, 0.6530660021019434, 0.6575750218376859, 0.6398108818390361, 0.6398108818390361, 0.6282900285596646, 0.6282900285596646, 0.6091435443099305, 0.6095914018754801, 0.6095914018754801, 0.6095914018754801, 0.6095914018754801, 0.6100891365028642, 0.6100891365028642, 0.6100891365028642, 0.6100891365028642, 0.6100891365028642, 0.6100891365028642, 0.6100891365028642, 0.6095914018754801, 0.6095914018754801, 0.6095914018754801, 0.6095914018754801, 0.6095914018754801, 0.6095914018754801, 0.6095914018754801, 0.6095914018754801, 0.6095914018754801, 0.6095914018754801, 0.6095914018754801, 0.6095914018754801, 0.6095914018754801, 0.6095914018754801, 0.6095914018754801, 0.6095914018754801, 0.6095914018754801, 0.6095914018754801, 0.6095914018754801, 0.6095914018754801, 0.6095914018754801, 0.6095914018754801, 0.6095914018754801, 0.6095914018754801, 0.6095914018754801, 0.6095914018754801, 0.6095914018754801, 0.6095914018754801, 0.6095914018754801, 0.6095914018754801, 0.6095914018754801, 0.6095914018754801, 0.6095914018754801, 0.6095914018754801, 0.6095914018754801, 0.6095914018754801, 0.6095914018754801, 0.6095914018754801, 0.6095914018754801]\n"
          ]
        }
      ]
    },
    {
      "cell_type": "code",
      "source": [
        "import matplotlib.pyplot as plt\n",
        "\n",
        "# Chuyển đổi lại train_data và test_data từ LightGBM Dataset sang mảng numpy\n",
        "train_data_array = X_train[:, -1].reshape(-1, 1)\n",
        "test_data_array = X_test[:, -1].reshape(-1, 1)\n",
        "\n",
        "# Vẽ đồ thị\n",
        "train_data_index = pd.RangeIndex(start=0, stop=len(train_data_array), step=1)\n",
        "plt.plot(train_data_index, scaler.inverse_transform(train_data_array), label='Train')\n",
        "\n",
        "test_data_index = pd.RangeIndex(start=len(train_data_array), stop=len(train_data_array) + len(test_data_array), step=1)\n",
        "plt.plot(test_data_index, scaler.inverse_transform(test_data_array), label='Test')\n",
        "\n",
        "# Điều chỉnh y_pred để có đúng hình dạng và chiều dài\n",
        "test_data_index_pred = pd.RangeIndex(start=len(train_data_array), stop=len(train_data_array) + len(y_pred), step=1)\n",
        "plt.plot(test_data_index_pred, scaler.inverse_transform(np.array(y_pred).reshape(-1, 1)), label='Predict')\n",
        "\n",
        "# Điều chỉnh next_90_days_predictions để có đúng hình dạng và chiều dài\n",
        "predict_data_index = pd.RangeIndex(start=len(df_reversed), stop=len(df_reversed) + len(next_90_days_predictions), step=1)\n",
        "plt.plot(predict_data_index, scaler.inverse_transform(np.array(next_90_days_predictions).reshape(-1, 1)), label='Predict90days')\n",
        "\n",
        "plt.legend(['Train', 'Test', 'Predict', 'Predict90days'])\n",
        "plt.show()\n"
      ],
      "metadata": {
        "colab": {
          "base_uri": "https://localhost:8080/",
          "height": 430
        },
        "id": "VeQ2ElFG-Izb",
        "outputId": "2aab6323-3d64-4e5b-8878-e59c8004a550"
      },
      "execution_count": 23,
      "outputs": [
        {
          "output_type": "display_data",
          "data": {
            "text/plain": [
              "<Figure size 640x480 with 1 Axes>"
            ],
            "image/png": "[encoded data removed]"
          },
          "metadata": {}
        }
      ]
    }
  ]
}