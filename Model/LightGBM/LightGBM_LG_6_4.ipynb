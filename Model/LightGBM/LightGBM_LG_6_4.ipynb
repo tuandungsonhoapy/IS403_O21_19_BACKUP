{
  "nbformat": 4,
  "nbformat_minor": 0,
  "metadata": {
    "colab": {
      "provenance": []
    },
    "kernelspec": {
      "name": "python3",
      "display_name": "Python 3"
    },
    "language_info": {
      "name": "python"
    }
  },
  "cells": [
    {
      "cell_type": "code",
      "execution_count": 4,
      "metadata": {
        "id": "WfNuabwGO_0g"
      },
      "outputs": [],
      "source": [
        "import numpy as np\n",
        "import pandas as pd\n",
        "from sklearn.model_selection import train_test_split\n",
        "from sklearn.preprocessing import MinMaxScaler\n",
        "import tensorflow as tf\n",
        "from tensorflow.keras.models import Sequential\n",
        "from tensorflow.keras.layers import LSTM, Dense\n",
        "import lightgbm as lgb\n",
        "from sklearn.metrics import mean_squared_error"
      ]
    },
    {
      "cell_type": "code",
      "source": [
        "df = pd.read_csv('/content/LG.csv')\n",
        "df_reversed = df.loc[::-1].reset_index(drop=True)\n",
        "df1=df.reset_index()['Close']\n",
        "features = df_reversed[['Open', 'High', 'Low', 'Close']].values"
      ],
      "metadata": {
        "id": "ZBAkGTnmTJuv"
      },
      "execution_count": 6,
      "outputs": []
    },
    {
      "cell_type": "code",
      "source": [
        "df_reversed"
      ],
      "metadata": {
        "colab": {
          "base_uri": "https://localhost:8080/",
          "height": 423
        },
        "id": "ORlib5j8XsTH",
        "outputId": "3d66bb7a-0985-4b12-97c1-f663d465a115"
      },
      "execution_count": 7,
      "outputs": [
        {
          "output_type": "execute_result",
          "data": {
            "text/plain": [
              "           Date  Close   Open   High    Low\n",
              "0     5/27/2024  96400  95500  97400  94700\n",
              "1     5/24/2024  94100  94500  94800  93800\n",
              "2     5/23/2024  95400  96000  97300  95400\n",
              "3     5/22/2024  95300  96700  96900  95100\n",
              "4     5/21/2024  96500  97000  97800  96000\n",
              "...         ...    ...    ...    ...    ...\n",
              "1502   3/8/2019  73700  75000  76100  73300\n",
              "1503   3/7/2019  75100  75200  76700  74200\n",
              "1504   3/6/2019  74400  72300  74600  72300\n",
              "1505   3/5/2019  71300  70900  72000  70300\n",
              "1506   3/4/2019  71200  70800  71800  70800\n",
              "\n",
              "[1507 rows x 5 columns]"
            ],
            "text/html": [
              "\n",
              "  <div id=\"df-aa244a5b-43fd-4ae4-9118-8c2de15fd94e\" class=\"colab-df-container\">\n",
              "    <div>\n",
              "<style scoped>\n",
              "    .dataframe tbody tr th:only-of-type {\n",
              "        vertical-align: middle;\n",
              "    }\n",
              "\n",
              "    .dataframe tbody tr th {\n",
              "        vertical-align: top;\n",
              "    }\n",
              "\n",
              "    .dataframe thead th {\n",
              "        text-align: right;\n",
              "    }\n",
              "</style>\n",
              "<table border=\"1\" class=\"dataframe\">\n",
              "  <thead>\n",
              "    <tr style=\"text-align: right;\">\n",
              "      <th></th>\n",
              "      <th>Date</th>\n",
              "      <th>Close</th>\n",
              "      <th>Open</th>\n",
              "      <th>High</th>\n",
              "      <th>Low</th>\n",
              "    </tr>\n",
              "  </thead>\n",
              "  <tbody>\n",
              "    <tr>\n",
              "      <th>0</th>\n",
              "      <td>5/27/2024</td>\n",
              "      <td>96400</td>\n",
              "      <td>95500</td>\n",
              "      <td>97400</td>\n",
              "      <td>94700</td>\n",
              "    </tr>\n",
              "    <tr>\n",
              "      <th>1</th>\n",
              "      <td>5/24/2024</td>\n",
              "      <td>94100</td>\n",
              "      <td>94500</td>\n",
              "      <td>94800</td>\n",
              "      <td>93800</td>\n",
              "    </tr>\n",
              "    <tr>\n",
              "      <th>2</th>\n",
              "      <td>5/23/2024</td>\n",
              "      <td>95400</td>\n",
              "      <td>96000</td>\n",
              "      <td>97300</td>\n",
              "      <td>95400</td>\n",
              "    </tr>\n",
              "    <tr>\n",
              "      <th>3</th>\n",
              "      <td>5/22/2024</td>\n",
              "      <td>95300</td>\n",
              "      <td>96700</td>\n",
              "      <td>96900</td>\n",
              "      <td>95100</td>\n",
              "    </tr>\n",
              "    <tr>\n",
              "      <th>4</th>\n",
              "      <td>5/21/2024</td>\n",
              "      <td>96500</td>\n",
              "      <td>97000</td>\n",
              "      <td>97800</td>\n",
              "      <td>96000</td>\n",
              "    </tr>\n",
              "    <tr>\n",
              "      <th>...</th>\n",
              "      <td>...</td>\n",
              "      <td>...</td>\n",
              "      <td>...</td>\n",
              "      <td>...</td>\n",
              "      <td>...</td>\n",
              "    </tr>\n",
              "    <tr>\n",
              "      <th>1502</th>\n",
              "      <td>3/8/2019</td>\n",
              "      <td>73700</td>\n",
              "      <td>75000</td>\n",
              "      <td>76100</td>\n",
              "      <td>73300</td>\n",
              "    </tr>\n",
              "    <tr>\n",
              "      <th>1503</th>\n",
              "      <td>3/7/2019</td>\n",
              "      <td>75100</td>\n",
              "      <td>75200</td>\n",
              "      <td>76700</td>\n",
              "      <td>74200</td>\n",
              "    </tr>\n",
              "    <tr>\n",
              "      <th>1504</th>\n",
              "      <td>3/6/2019</td>\n",
              "      <td>74400</td>\n",
              "      <td>72300</td>\n",
              "      <td>74600</td>\n",
              "      <td>72300</td>\n",
              "    </tr>\n",
              "    <tr>\n",
              "      <th>1505</th>\n",
              "      <td>3/5/2019</td>\n",
              "      <td>71300</td>\n",
              "      <td>70900</td>\n",
              "      <td>72000</td>\n",
              "      <td>70300</td>\n",
              "    </tr>\n",
              "    <tr>\n",
              "      <th>1506</th>\n",
              "      <td>3/4/2019</td>\n",
              "      <td>71200</td>\n",
              "      <td>70800</td>\n",
              "      <td>71800</td>\n",
              "      <td>70800</td>\n",
              "    </tr>\n",
              "  </tbody>\n",
              "</table>\n",
              "<p>1507 rows × 5 columns</p>\n",
              "</div>\n",
              "    <div class=\"colab-df-buttons\">\n",
              "\n",
              "  <div class=\"colab-df-container\">\n",
              "    <button class=\"colab-df-convert\" onclick=\"convertToInteractive('df-aa244a5b-43fd-4ae4-9118-8c2de15fd94e')\"\n",
              "            title=\"Convert this dataframe to an interactive table.\"\n",
              "            style=\"display:none;\">\n",
              "\n",
              "  <svg xmlns=\"http://www.w3.org/2000/svg\" height=\"24px\" viewBox=\"0 -960 960 960\">\n",
              "    <path d=\"M120-120v-720h720v720H120Zm60-500h600v-160H180v160Zm220 220h160v-160H400v160Zm0 220h160v-160H400v160ZM180-400h160v-160H180v160Zm440 0h160v-160H620v160ZM180-180h160v-160H180v160Zm440 0h160v-160H620v160Z\"/>\n",
              "  </svg>\n",
              "    </button>\n",
              "\n",
              "  <style>\n",
              "    .colab-df-container {\n",
              "      display:flex;\n",
              "      gap: 12px;\n",
              "    }\n",
              "\n",
              "    .colab-df-convert {\n",
              "      background-color: #E8F0FE;\n",
              "      border: none;\n",
              "      border-radius: 50%;\n",
              "      cursor: pointer;\n",
              "      display: none;\n",
              "      fill: #1967D2;\n",
              "      height: 32px;\n",
              "      padding: 0 0 0 0;\n",
              "      width: 32px;\n",
              "    }\n",
              "\n",
              "    .colab-df-convert:hover {\n",
              "      background-color: #E2EBFA;\n",
              "      box-shadow: 0px 1px 2px rgba(60, 64, 67, 0.3), 0px 1px 3px 1px rgba(60, 64, 67, 0.15);\n",
              "      fill: #174EA6;\n",
              "    }\n",
              "\n",
              "    .colab-df-buttons div {\n",
              "      margin-bottom: 4px;\n",
              "    }\n",
              "\n",
              "    [theme=dark] .colab-df-convert {\n",
              "      background-color: #3B4455;\n",
              "      fill: #D2E3FC;\n",
              "    }\n",
              "\n",
              "    [theme=dark] .colab-df-convert:hover {\n",
              "      background-color: #434B5C;\n",
              "      box-shadow: 0px 1px 3px 1px rgba(0, 0, 0, 0.15);\n",
              "      filter: drop-shadow(0px 1px 2px rgba(0, 0, 0, 0.3));\n",
              "      fill: #FFFFFF;\n",
              "    }\n",
              "  </style>\n",
              "\n",
              "    <script>\n",
              "      const buttonEl =\n",
              "        document.querySelector('#df-aa244a5b-43fd-4ae4-9118-8c2de15fd94e button.colab-df-convert');\n",
              "      buttonEl.style.display =\n",
              "        google.colab.kernel.accessAllowed ? 'block' : 'none';\n",
              "\n",
              "      async function convertToInteractive(key) {\n",
              "        const element = document.querySelector('#df-aa244a5b-43fd-4ae4-9118-8c2de15fd94e');\n",
              "        const dataTable =\n",
              "          await google.colab.kernel.invokeFunction('convertToInteractive',\n",
              "                                                    [key], {});\n",
              "        if (!dataTable) return;\n",
              "\n",
              "        const docLinkHtml = 'Like what you see? Visit the ' +\n",
              "          '<a target=\"_blank\" href=https://colab.research.google.com/notebooks/data_table.ipynb>data table notebook</a>'\n",
              "          + ' to learn more about interactive tables.';\n",
              "        element.innerHTML = '';\n",
              "        dataTable['output_type'] = 'display_data';\n",
              "        await google.colab.output.renderOutput(dataTable, element);\n",
              "        const docLink = document.createElement('div');\n",
              "        docLink.innerHTML = docLinkHtml;\n",
              "        element.appendChild(docLink);\n",
              "      }\n",
              "    </script>\n",
              "  </div>\n",
              "\n",
              "\n",
              "<div id=\"df-fa64988e-fd37-4172-b929-8684a5a711cd\">\n",
              "  <button class=\"colab-df-quickchart\" onclick=\"quickchart('df-fa64988e-fd37-4172-b929-8684a5a711cd')\"\n",
              "            title=\"Suggest charts\"\n",
              "            style=\"display:none;\">\n",
              "\n",
              "<svg xmlns=\"http://www.w3.org/2000/svg\" height=\"24px\"viewBox=\"0 0 24 24\"\n",
              "     width=\"24px\">\n",
              "    <g>\n",
              "        <path d=\"M19 3H5c-1.1 0-2 .9-2 2v14c0 1.1.9 2 2 2h14c1.1 0 2-.9 2-2V5c0-1.1-.9-2-2-2zM9 17H7v-7h2v7zm4 0h-2V7h2v10zm4 0h-2v-4h2v4z\"/>\n",
              "    </g>\n",
              "</svg>\n",
              "  </button>\n",
              "\n",
              "<style>\n",
              "  .colab-df-quickchart {\n",
              "      --bg-color: #E8F0FE;\n",
              "      --fill-color: #1967D2;\n",
              "      --hover-bg-color: #E2EBFA;\n",
              "      --hover-fill-color: #174EA6;\n",
              "      --disabled-fill-color: #AAA;\n",
              "      --disabled-bg-color: #DDD;\n",
              "  }\n",
              "\n",
              "  [theme=dark] .colab-df-quickchart {\n",
              "      --bg-color: #3B4455;\n",
              "      --fill-color: #D2E3FC;\n",
              "      --hover-bg-color: #434B5C;\n",
              "      --hover-fill-color: #FFFFFF;\n",
              "      --disabled-bg-color: #3B4455;\n",
              "      --disabled-fill-color: #666;\n",
              "  }\n",
              "\n",
              "  .colab-df-quickchart {\n",
              "    background-color: var(--bg-color);\n",
              "    border: none;\n",
              "    border-radius: 50%;\n",
              "    cursor: pointer;\n",
              "    display: none;\n",
              "    fill: var(--fill-color);\n",
              "    height: 32px;\n",
              "    padding: 0;\n",
              "    width: 32px;\n",
              "  }\n",
              "\n",
              "  .colab-df-quickchart:hover {\n",
              "    background-color: var(--hover-bg-color);\n",
              "    box-shadow: 0 1px 2px rgba(60, 64, 67, 0.3), 0 1px 3px 1px rgba(60, 64, 67, 0.15);\n",
              "    fill: var(--button-hover-fill-color);\n",
              "  }\n",
              "\n",
              "  .colab-df-quickchart-complete:disabled,\n",
              "  .colab-df-quickchart-complete:disabled:hover {\n",
              "    background-color: var(--disabled-bg-color);\n",
              "    fill: var(--disabled-fill-color);\n",
              "    box-shadow: none;\n",
              "  }\n",
              "\n",
              "  .colab-df-spinner {\n",
              "    border: 2px solid var(--fill-color);\n",
              "    border-color: transparent;\n",
              "    border-bottom-color: var(--fill-color);\n",
              "    animation:\n",
              "      spin 1s steps(1) infinite;\n",
              "  }\n",
              "\n",
              "  @keyframes spin {\n",
              "    0% {\n",
              "      border-color: transparent;\n",
              "      border-bottom-color: var(--fill-color);\n",
              "      border-left-color: var(--fill-color);\n",
              "    }\n",
              "    20% {\n",
              "      border-color: transparent;\n",
              "      border-left-color: var(--fill-color);\n",
              "      border-top-color: var(--fill-color);\n",
              "    }\n",
              "    30% {\n",
              "      border-color: transparent;\n",
              "      border-left-color: var(--fill-color);\n",
              "      border-top-color: var(--fill-color);\n",
              "      border-right-color: var(--fill-color);\n",
              "    }\n",
              "    40% {\n",
              "      border-color: transparent;\n",
              "      border-right-color: var(--fill-color);\n",
              "      border-top-color: var(--fill-color);\n",
              "    }\n",
              "    60% {\n",
              "      border-color: transparent;\n",
              "      border-right-color: var(--fill-color);\n",
              "    }\n",
              "    80% {\n",
              "      border-color: transparent;\n",
              "      border-right-color: var(--fill-color);\n",
              "      border-bottom-color: var(--fill-color);\n",
              "    }\n",
              "    90% {\n",
              "      border-color: transparent;\n",
              "      border-bottom-color: var(--fill-color);\n",
              "    }\n",
              "  }\n",
              "</style>\n",
              "\n",
              "  <script>\n",
              "    async function quickchart(key) {\n",
              "      const quickchartButtonEl =\n",
              "        document.querySelector('#' + key + ' button');\n",
              "      quickchartButtonEl.disabled = true;  // To prevent multiple clicks.\n",
              "      quickchartButtonEl.classList.add('colab-df-spinner');\n",
              "      try {\n",
              "        const charts = await google.colab.kernel.invokeFunction(\n",
              "            'suggestCharts', [key], {});\n",
              "      } catch (error) {\n",
              "        console.error('Error during call to suggestCharts:', error);\n",
              "      }\n",
              "      quickchartButtonEl.classList.remove('colab-df-spinner');\n",
              "      quickchartButtonEl.classList.add('colab-df-quickchart-complete');\n",
              "    }\n",
              "    (() => {\n",
              "      let quickchartButtonEl =\n",
              "        document.querySelector('#df-fa64988e-fd37-4172-b929-8684a5a711cd button');\n",
              "      quickchartButtonEl.style.display =\n",
              "        google.colab.kernel.accessAllowed ? 'block' : 'none';\n",
              "    })();\n",
              "  </script>\n",
              "</div>\n",
              "    </div>\n",
              "  </div>\n"
            ],
            "application/vnd.google.colaboratory.intrinsic+json": {
              "type": "dataframe",
              "variable_name": "df_reversed",
              "summary": "{\n  \"name\": \"df_reversed\",\n  \"rows\": 1507,\n  \"fields\": [\n    {\n      \"column\": \"Date\",\n      \"properties\": {\n        \"dtype\": \"object\",\n        \"num_unique_values\": 1507,\n        \"samples\": [\n          \"5/22/2022\",\n          \"6/17/2020\",\n          \"1/25/2023\"\n        ],\n        \"semantic_type\": \"\",\n        \"description\": \"\"\n      }\n    },\n    {\n      \"column\": \"Close\",\n      \"properties\": {\n        \"dtype\": \"number\",\n        \"std\": 30020,\n        \"min\": 41850,\n        \"max\": 185000,\n        \"num_unique_values\": 589,\n        \"samples\": [\n          71500,\n          125500,\n          71900\n        ],\n        \"semantic_type\": \"\",\n        \"description\": \"\"\n      }\n    },\n    {\n      \"column\": \"Open\",\n      \"properties\": {\n        \"dtype\": \"number\",\n        \"std\": 30109,\n        \"min\": 42350,\n        \"max\": 183000,\n        \"num_unique_values\": 643,\n        \"samples\": [\n          74600,\n          168000,\n          57200\n        ],\n        \"semantic_type\": \"\",\n        \"description\": \"\"\n      }\n    },\n    {\n      \"column\": \"High\",\n      \"properties\": {\n        \"dtype\": \"number\",\n        \"std\": 30623,\n        \"min\": 42850,\n        \"max\": 193000,\n        \"num_unique_values\": 629,\n        \"samples\": [\n          53900,\n          90300,\n          72600\n        ],\n        \"semantic_type\": \"\",\n        \"description\": \"\"\n      }\n    },\n    {\n      \"column\": \"Low\",\n      \"properties\": {\n        \"dtype\": \"number\",\n        \"std\": 29567,\n        \"min\": 41600,\n        \"max\": 177500,\n        \"num_unique_values\": 619,\n        \"samples\": [\n          99300,\n          59100,\n          103800\n        ],\n        \"semantic_type\": \"\",\n        \"description\": \"\"\n      }\n    }\n  ]\n}"
            }
          },
          "metadata": {},
          "execution_count": 7
        }
      ]
    },
    {
      "cell_type": "code",
      "source": [
        "df1"
      ],
      "metadata": {
        "colab": {
          "base_uri": "https://localhost:8080/"
        },
        "id": "ZY8eiDyXTLza",
        "outputId": "39633ec2-ebd2-49c2-a359-059962f689ef"
      },
      "execution_count": 8,
      "outputs": [
        {
          "output_type": "execute_result",
          "data": {
            "text/plain": [
              "0       71200\n",
              "1       71300\n",
              "2       74400\n",
              "3       75100\n",
              "4       73700\n",
              "        ...  \n",
              "1502    96500\n",
              "1503    95300\n",
              "1504    95400\n",
              "1505    94100\n",
              "1506    96400\n",
              "Name: Close, Length: 1507, dtype: int64"
            ]
          },
          "metadata": {},
          "execution_count": 8
        }
      ]
    },
    {
      "cell_type": "code",
      "source": [
        "scaler=MinMaxScaler(feature_range=(0,1))\n",
        "df1=scaler.fit_transform(np.array(df1).reshape(-1,1))"
      ],
      "metadata": {
        "id": "VbrQFtyZTOny"
      },
      "execution_count": 9,
      "outputs": []
    },
    {
      "cell_type": "code",
      "source": [
        "# 4. Chia train test\n",
        "train_size = int(0.6 * len(df1))\n",
        "test_size = int(0.4 * len(df1))\n",
        "\n",
        "train_data = df1[:train_size]\n",
        "test_data = df1[train_size:]"
      ],
      "metadata": {
        "id": "DahPndU3TRbT"
      },
      "execution_count": 10,
      "outputs": []
    },
    {
      "cell_type": "code",
      "source": [
        "# 5. Hàm Create Dataset\n",
        "import numpy\n",
        "# convert an array of values into a dataset matrix\n",
        "def create_dataset(dataset, time_step=1):\n",
        "\tdataX, dataY = [], []\n",
        "\tfor i in range(len(dataset)-time_step-1):\n",
        "\t\ta = dataset[i:(i+time_step), 0]   ###i=0, X=0,1,2,3-----99   Y=100\n",
        "\t\tdataX.append(a)\n",
        "\t\tdataY.append(dataset[i + time_step, 0])\n",
        "\treturn numpy.array(dataX), numpy.array(dataY)"
      ],
      "metadata": {
        "id": "fvmSA7qXVs3-"
      },
      "execution_count": 11,
      "outputs": []
    },
    {
      "cell_type": "code",
      "source": [
        "#6. Reshape into X=t,t+1,t+2..t+99 and Y=t+100\n",
        "\n",
        "time_step = 100\n",
        "X_train, y_train = create_dataset(train_data, time_step)\n",
        "X_test, ytest = create_dataset(test_data, time_step)"
      ],
      "metadata": {
        "id": "fScdPb0yV6J-"
      },
      "execution_count": 12,
      "outputs": []
    },
    {
      "cell_type": "code",
      "source": [
        "# 7. Reshape input to be [samples, time steps, features] which is required for LSTM\n",
        "X_train =X_train.reshape(X_train.shape[0],X_train.shape[1] , 1)\n",
        "X_test = X_test.reshape(X_test.shape[0],X_test.shape[1] , 1)"
      ],
      "metadata": {
        "id": "55r8MGfeWK2G"
      },
      "execution_count": 13,
      "outputs": []
    },
    {
      "cell_type": "code",
      "source": [
        "# Xây dựng mô hình RNN\n",
        "rnn_model = Sequential()\n",
        "rnn_model.add(LSTM(64, input_shape=(X_train.shape[1], X_train.shape[2])))\n",
        "rnn_model.add(Dense(32, activation='relu'))\n",
        "rnn_model.add(Dense(1))\n"
      ],
      "metadata": {
        "id": "h1Tj5BzFWRc_"
      },
      "execution_count": 14,
      "outputs": []
    },
    {
      "cell_type": "code",
      "source": [
        "# Biên dịch mô hình\n",
        "rnn_model.compile(optimizer='adam', loss='mse')"
      ],
      "metadata": {
        "id": "wqxQzzWlWhgr"
      },
      "execution_count": 15,
      "outputs": []
    },
    {
      "cell_type": "code",
      "source": [
        "# Huấn luyện mô hình RNN\n",
        "rnn_model.fit(X_train, y_train, epochs=10, batch_size=32, validation_split=0.2)\n"
      ],
      "metadata": {
        "colab": {
          "base_uri": "https://localhost:8080/"
        },
        "id": "i_hScTemWkR2",
        "outputId": "5c386f22-9332-4b3b-8ed1-339963846457"
      },
      "execution_count": 16,
      "outputs": [
        {
          "output_type": "stream",
          "name": "stdout",
          "text": [
            "Epoch 1/10\n",
            "21/21 [==============================] - 3s 60ms/step - loss: 0.0621 - val_loss: 0.0036\n",
            "Epoch 2/10\n",
            "21/21 [==============================] - 1s 37ms/step - loss: 0.0061 - val_loss: 0.0015\n",
            "Epoch 3/10\n",
            "21/21 [==============================] - 1s 36ms/step - loss: 0.0023 - val_loss: 0.0014\n",
            "Epoch 4/10\n",
            "21/21 [==============================] - 1s 36ms/step - loss: 0.0018 - val_loss: 0.0012\n",
            "Epoch 5/10\n",
            "21/21 [==============================] - 1s 37ms/step - loss: 0.0016 - val_loss: 0.0012\n",
            "Epoch 6/10\n",
            "21/21 [==============================] - 1s 37ms/step - loss: 0.0016 - val_loss: 0.0024\n",
            "Epoch 7/10\n",
            "21/21 [==============================] - 1s 54ms/step - loss: 0.0020 - val_loss: 0.0016\n",
            "Epoch 8/10\n",
            "21/21 [==============================] - 2s 104ms/step - loss: 0.0016 - val_loss: 0.0012\n",
            "Epoch 9/10\n",
            "21/21 [==============================] - 2s 113ms/step - loss: 0.0015 - val_loss: 0.0011\n",
            "Epoch 10/10\n",
            "21/21 [==============================] - 1s 65ms/step - loss: 0.0014 - val_loss: 9.9395e-04\n"
          ]
        },
        {
          "output_type": "execute_result",
          "data": {
            "text/plain": [
              "<keras.src.callbacks.History at 0x7b4b9f4f1c00>"
            ]
          },
          "metadata": {},
          "execution_count": 16
        }
      ]
    },
    {
      "cell_type": "code",
      "source": [
        "# Trích xuất các đặc trưng từ tầng cuối cùng của RNN\n",
        "train_features_rnn = rnn_model.predict(X_train)\n",
        "test_features_rnn = rnn_model.predict(X_test)"
      ],
      "metadata": {
        "colab": {
          "base_uri": "https://localhost:8080/"
        },
        "id": "DaSUf1SIXdd8",
        "outputId": "5e36b597-923d-4ee3-ff99-2d961c28c0b8"
      },
      "execution_count": 17,
      "outputs": [
        {
          "output_type": "stream",
          "name": "stdout",
          "text": [
            "26/26 [==============================] - 1s 11ms/step\n",
            "16/16 [==============================] - 0s 11ms/step\n"
          ]
        }
      ]
    },
    {
      "cell_type": "code",
      "source": [
        "# Kết hợp các đặc trưng từ RNN với các đặc trưng khác (ở đây chỉ dùng các đặc trưng từ RNN)\n",
        "X_train_combined = train_features_rnn\n",
        "X_test_combined = test_features_rnn\n"
      ],
      "metadata": {
        "id": "Dbj6eZwFYJRz"
      },
      "execution_count": 18,
      "outputs": []
    },
    {
      "cell_type": "code",
      "source": [
        "# Tạo dataset cho LightGBM\n",
        "train_data = lgb.Dataset(X_train_combined, label=y_train)\n",
        "test_data = lgb.Dataset(X_test_combined, label=ytest, reference=train_data)\n"
      ],
      "metadata": {
        "id": "cUPFaIBgYNfs"
      },
      "execution_count": 19,
      "outputs": []
    },
    {
      "cell_type": "code",
      "source": [
        "# Thiết lập các tham số cho LightGBM\n",
        "params = {\n",
        "    'objective': 'regression',\n",
        "    'metric': 'rmse',\n",
        "    'boosting_type': 'gbdt',\n",
        "    'num_leaves': 31,\n",
        "    'learning_rate': 0.05,\n",
        "    'feature_fraction': 0.9\n",
        "}"
      ],
      "metadata": {
        "id": "FRfYcbr4YXIl"
      },
      "execution_count": 20,
      "outputs": []
    },
    {
      "cell_type": "code",
      "source": [
        "# Huấn luyện mô hình LightGBM với early stopping\n",
        "evals_result = {}\n",
        "lgb_model = lgb.train(\n",
        "    params,\n",
        "    train_data,\n",
        "    num_boost_round=100,\n",
        "    valid_sets=[train_data, test_data],\n",
        "    valid_names=['train', 'valid'],\n",
        "    callbacks=[lgb.early_stopping(stopping_rounds=10), lgb.record_evaluation(evals_result)]\n",
        ")\n",
        "\n",
        "# Dự đoán và đánh giá\n",
        "y_pred = lgb_model.predict(X_test_combined, num_iteration=lgb_model.best_iteration)\n",
        "mse = mean_squared_error(ytest, y_pred)\n",
        "print(f'Mean Squared Error: {mse}')"
      ],
      "metadata": {
        "colab": {
          "base_uri": "https://localhost:8080/"
        },
        "id": "1sxatfq1YZeN",
        "outputId": "c072eeaf-9f29-4e5d-ebf4-b3487193fb44"
      },
      "execution_count": 21,
      "outputs": [
        {
          "output_type": "stream",
          "name": "stdout",
          "text": [
            "[LightGBM] [Info] Auto-choosing col-wise multi-threading, the overhead of testing was 0.000187 seconds.\n",
            "You can set `force_col_wise=true` to remove the overhead.\n",
            "[LightGBM] [Info] Total Bins 255\n",
            "[LightGBM] [Info] Number of data points in the train set: 803, number of used features: 1\n",
            "[LightGBM] [Info] Start training from score 0.444572\n",
            "[LightGBM] [Warning] No further splits with positive gain, best gain: -inf\n",
            "Training until validation scores don't improve for 10 rounds\n",
            "[LightGBM] [Warning] No further splits with positive gain, best gain: -inf\n",
            "[LightGBM] [Warning] No further splits with positive gain, best gain: -inf\n",
            "[LightGBM] [Warning] No further splits with positive gain, best gain: -inf\n",
            "[LightGBM] [Warning] No further splits with positive gain, best gain: -inf\n",
            "[LightGBM] [Warning] No further splits with positive gain, best gain: -inf\n",
            "[LightGBM] [Warning] No further splits with positive gain, best gain: -inf\n",
            "[LightGBM] [Warning] No further splits with positive gain, best gain: -inf\n",
            "[LightGBM] [Warning] No further splits with positive gain, best gain: -inf\n",
            "[LightGBM] [Warning] No further splits with positive gain, best gain: -inf\n",
            "[LightGBM] [Warning] No further splits with positive gain, best gain: -inf\n",
            "[LightGBM] [Warning] No further splits with positive gain, best gain: -inf\n",
            "[LightGBM] [Warning] No further splits with positive gain, best gain: -inf\n",
            "[LightGBM] [Warning] No further splits with positive gain, best gain: -inf\n",
            "[LightGBM] [Warning] No further splits with positive gain, best gain: -inf\n",
            "[LightGBM] [Warning] No further splits with positive gain, best gain: -inf\n",
            "Early stopping, best iteration is:\n",
            "[13]\ttrain's rmse: 0.141448\tvalid's rmse: 0.061564\n",
            "Mean Squared Error: 0.0037901214658971893\n"
          ]
        }
      ]
    },
    {
      "cell_type": "code",
      "source": [
        "# 10. Hàm dự đoán 30 ngày tiếp theo\n",
        "def predict_next_30_days(rnn_model, lgb_model, initial_data, time_step=100):\n",
        "    predictions = []\n",
        "    current_sequence = initial_data[-time_step:]  # Lấy chuỗi dữ liệu cuối cùng làm dữ liệu khởi đầu\n",
        "\n",
        "    for _ in range(30):\n",
        "        # Reshape data for prediction\n",
        "        current_sequence_reshaped = np.expand_dims(current_sequence, axis=0)\n",
        "\n",
        "        # Predict features using RNN\n",
        "        rnn_features = rnn_model.predict(current_sequence_reshaped)\n",
        "\n",
        "        # Predict the next day's closing price using LightGBM\n",
        "        next_close = lgb_model.predict(rnn_features)\n",
        "\n",
        "        # Append the prediction\n",
        "        predictions.append(next_close[0])\n",
        "\n",
        "        # Update the sequence with the new prediction\n",
        "        next_day = np.array([[next_close[0]]])\n",
        "        current_sequence = np.vstack((current_sequence[1:], next_day))\n",
        "\n",
        "    return predictions\n",
        "\n",
        "# Chuẩn bị dữ liệu ban đầu cho dự đoán 30 ngày tiếp theo\n",
        "initial_data = features[-time_step:].reshape(-1, 1)\n",
        "\n",
        "# Dự đoán 30 ngày tiếp theo\n",
        "next_30_days_predictions = predict_next_30_days(rnn_model, lgb_model, initial_data)\n",
        "print(\"Dự đoán giá đóng cửa cho 30 ngày tiếp theo:\", next_30_days_predictions)"
      ],
      "metadata": {
        "colab": {
          "base_uri": "https://localhost:8080/"
        },
        "id": "Stgknid0Y_Ku",
        "outputId": "b3a80a9b-df7e-46a6-b4d0-d791ca10307f"
      },
      "execution_count": 22,
      "outputs": [
        {
          "output_type": "stream",
          "name": "stdout",
          "text": [
            "1/1 [==============================] - 0s 393ms/step\n",
            "1/1 [==============================] - 0s 23ms/step\n",
            "1/1 [==============================] - 0s 22ms/step\n",
            "1/1 [==============================] - 0s 22ms/step\n",
            "1/1 [==============================] - 0s 22ms/step\n",
            "1/1 [==============================] - 0s 30ms/step\n",
            "1/1 [==============================] - 0s 25ms/step\n",
            "1/1 [==============================] - 0s 23ms/step\n",
            "1/1 [==============================] - 0s 22ms/step\n",
            "1/1 [==============================] - 0s 22ms/step\n",
            "1/1 [==============================] - 0s 25ms/step\n",
            "1/1 [==============================] - 0s 22ms/step\n",
            "1/1 [==============================] - 0s 22ms/step\n",
            "1/1 [==============================] - 0s 21ms/step\n",
            "1/1 [==============================] - 0s 22ms/step\n",
            "1/1 [==============================] - 0s 21ms/step\n",
            "1/1 [==============================] - 0s 21ms/step\n",
            "1/1 [==============================] - 0s 25ms/step\n",
            "1/1 [==============================] - 0s 23ms/step\n",
            "1/1 [==============================] - 0s 22ms/step\n",
            "1/1 [==============================] - 0s 22ms/step\n",
            "1/1 [==============================] - 0s 21ms/step\n",
            "1/1 [==============================] - 0s 21ms/step\n",
            "1/1 [==============================] - 0s 21ms/step\n",
            "1/1 [==============================] - 0s 22ms/step\n",
            "1/1 [==============================] - 0s 25ms/step\n",
            "1/1 [==============================] - 0s 21ms/step\n",
            "1/1 [==============================] - 0s 23ms/step\n",
            "1/1 [==============================] - 0s 21ms/step\n",
            "1/1 [==============================] - 0s 21ms/step\n",
            "Dự đoán giá đóng cửa cho 30 ngày tiếp theo: [0.6369420369219261, 0.6369420369219261, 0.6369420369219261, 0.6369420369219261, 0.6369420369219261, 0.6369420369219261, 0.6369420369219261, 0.6369420369219261, 0.6369420369219261, 0.6369420369219261, 0.6369420369219261, 0.6369420369219261, 0.6369420369219261, 0.6369420369219261, 0.6369420369219261, 0.6369420369219261, 0.6369420369219261, 0.6369420369219261, 0.6369420369219261, 0.6369420369219261, 0.6369420369219261, 0.6369420369219261, 0.6369420369219261, 0.6369420369219261, 0.6369420369219261, 0.6369420369219261, 0.6369420369219261, 0.6369420369219261, 0.6264620651428486, 0.5945665404115522]\n"
          ]
        }
      ]
    },
    {
      "cell_type": "code",
      "source": [
        "import matplotlib.pyplot as plt\n",
        "\n",
        "# 14. Vẽ hình\n",
        "\n",
        "# Plotting train data\n",
        "train_data_index = pd.RangeIndex(start=0, stop=len(train_features_rnn), step=1)\n",
        "plt.plot(train_data_index, scaler.inverse_transform(train_features_rnn), label='Train')\n",
        "\n",
        "# Plotting test data\n",
        "test_data_index = pd.RangeIndex(start=len(train_features_rnn), stop=len(train_features_rnn) + len(test_features_rnn), step=1)\n",
        "plt.plot(test_data_index, scaler.inverse_transform(test_features_rnn), label='Test')\n",
        "\n",
        "# Adjusting y_pred to have correct shape and length\n",
        "test_data_index_pred = pd.RangeIndex(start=len(train_features_rnn), stop=len(train_features_rnn) + len(y_pred), step=1)\n",
        "plt.plot(test_data_index_pred, scaler.inverse_transform(np.array(y_pred).reshape(-1, 1)), label='Predict')\n",
        "\n",
        "# Adjusting next_30_days_predictions to have correct shape and length\n",
        "predict_data_index = pd.RangeIndex(start=len(df), stop=len(df) + len(next_30_days_predictions), step=1)\n",
        "plt.plot(predict_data_index, scaler.inverse_transform(np.array(next_30_days_predictions).reshape(-1, 1)), label='Predict30days')\n",
        "\n",
        "plt.legend(['Train', 'Test', 'Predict', 'Predict30days'])\n",
        "plt.show()\n",
        "\n",
        "\n"
      ],
      "metadata": {
        "colab": {
          "base_uri": "https://localhost:8080/",
          "height": 430
        },
        "id": "auUAdUFgR-D2",
        "outputId": "fce06083-d21f-4f63-edde-92bdf739f427"
      },
      "execution_count": 23,
      "outputs": [
        {
          "output_type": "display_data",
          "data": {
            "text/plain": [
              "<Figure size 640x480 with 1 Axes>"
            ],
            "image/png": "[encoded data removed]"
          },
          "metadata": {}
        }
      ]
    },
    {
      "cell_type": "markdown",
      "source": [
        "# Dự báo 60 ngày tiếp theo"
      ],
      "metadata": {
        "id": "yFzVkNS1aIxd"
      }
    },
    {
      "cell_type": "code",
      "source": [
        "def predict_next_days(rnn_model, lgb_model, initial_data, time_step=100, days_to_predict=60):\n",
        "    predictions = []\n",
        "    current_sequence = initial_data[-time_step:]  # Lấy chuỗi dữ liệu cuối cùng làm dữ liệu khởi đầu\n",
        "\n",
        "    for _ in range(days_to_predict):\n",
        "        # Reshape data for prediction\n",
        "        current_sequence_reshaped = np.expand_dims(current_sequence, axis=0)\n",
        "\n",
        "        # Predict features using RNN\n",
        "        rnn_features = rnn_model.predict(current_sequence_reshaped)\n",
        "\n",
        "        # Predict the next day's closing price using LightGBM\n",
        "        next_close = lgb_model.predict(rnn_features)\n",
        "\n",
        "        # Append the prediction\n",
        "        predictions.append(next_close[0])\n",
        "\n",
        "        # Update the sequence with the new prediction\n",
        "        next_day = np.array([[next_close[0]]])\n",
        "        current_sequence = np.vstack((current_sequence[1:], next_day))\n",
        "\n",
        "    return predictions\n",
        "\n",
        "# Chuẩn bị dữ liệu ban đầu cho dự đoán 60 ngày tiếp theo\n",
        "initial_data = features[-time_step:].reshape(-1, 1)\n",
        "\n",
        "# Dự đoán 60 ngày tiếp theo\n",
        "days_to_predict = 60\n",
        "next_60_days_predictions = predict_next_days(rnn_model, lgb_model, initial_data, time_step, days_to_predict)\n",
        "print(\"Dự đoán giá đóng cửa cho 60 ngày tiếp theo:\", next_60_days_predictions)\n",
        "\n"
      ],
      "metadata": {
        "colab": {
          "base_uri": "https://localhost:8080/"
        },
        "id": "KbHY4rXyaHMy",
        "outputId": "577bddc8-999e-4b58-d131-cc28c21eb7cb"
      },
      "execution_count": 24,
      "outputs": [
        {
          "output_type": "stream",
          "name": "stdout",
          "text": [
            "1/1 [==============================] - 0s 24ms/step\n",
            "1/1 [==============================] - 0s 21ms/step\n",
            "1/1 [==============================] - 0s 21ms/step\n",
            "1/1 [==============================] - 0s 21ms/step\n",
            "1/1 [==============================] - 0s 21ms/step\n",
            "1/1 [==============================] - 0s 22ms/step\n",
            "1/1 [==============================] - 0s 22ms/step\n",
            "1/1 [==============================] - 0s 23ms/step\n",
            "1/1 [==============================] - 0s 22ms/step\n",
            "1/1 [==============================] - 0s 22ms/step\n",
            "1/1 [==============================] - 0s 22ms/step\n",
            "1/1 [==============================] - 0s 22ms/step\n",
            "1/1 [==============================] - 0s 22ms/step\n",
            "1/1 [==============================] - 0s 22ms/step\n",
            "1/1 [==============================] - 0s 26ms/step\n",
            "1/1 [==============================] - 0s 21ms/step\n",
            "1/1 [==============================] - 0s 22ms/step\n",
            "1/1 [==============================] - 0s 23ms/step\n",
            "1/1 [==============================] - 0s 22ms/step\n",
            "1/1 [==============================] - 0s 21ms/step\n",
            "1/1 [==============================] - 0s 23ms/step\n",
            "1/1 [==============================] - 0s 22ms/step\n",
            "1/1 [==============================] - 0s 22ms/step\n",
            "1/1 [==============================] - 0s 25ms/step\n",
            "1/1 [==============================] - 0s 21ms/step\n",
            "1/1 [==============================] - 0s 21ms/step\n",
            "1/1 [==============================] - 0s 22ms/step\n",
            "1/1 [==============================] - 0s 22ms/step\n",
            "1/1 [==============================] - 0s 26ms/step\n",
            "1/1 [==============================] - 0s 21ms/step\n",
            "1/1 [==============================] - 0s 21ms/step\n",
            "1/1 [==============================] - 0s 21ms/step\n",
            "1/1 [==============================] - 0s 22ms/step\n",
            "1/1 [==============================] - 0s 21ms/step\n",
            "1/1 [==============================] - 0s 23ms/step\n",
            "1/1 [==============================] - 0s 22ms/step\n",
            "1/1 [==============================] - 0s 23ms/step\n",
            "1/1 [==============================] - 0s 22ms/step\n",
            "1/1 [==============================] - 0s 25ms/step\n",
            "1/1 [==============================] - 0s 23ms/step\n",
            "1/1 [==============================] - 0s 23ms/step\n",
            "1/1 [==============================] - 0s 21ms/step\n",
            "1/1 [==============================] - 0s 31ms/step\n",
            "1/1 [==============================] - 0s 21ms/step\n",
            "1/1 [==============================] - 0s 21ms/step\n",
            "1/1 [==============================] - 0s 21ms/step\n",
            "1/1 [==============================] - 0s 21ms/step\n",
            "1/1 [==============================] - 0s 23ms/step\n",
            "1/1 [==============================] - 0s 22ms/step\n",
            "1/1 [==============================] - 0s 21ms/step\n",
            "1/1 [==============================] - 0s 21ms/step\n",
            "1/1 [==============================] - 0s 22ms/step\n",
            "1/1 [==============================] - 0s 22ms/step\n",
            "1/1 [==============================] - 0s 21ms/step\n",
            "1/1 [==============================] - 0s 22ms/step\n",
            "1/1 [==============================] - 0s 22ms/step\n",
            "1/1 [==============================] - 0s 27ms/step\n",
            "1/1 [==============================] - 0s 21ms/step\n",
            "1/1 [==============================] - 0s 25ms/step\n",
            "1/1 [==============================] - 0s 21ms/step\n",
            "Dự đoán giá đóng cửa cho 60 ngày tiếp theo: [0.6369420369219261, 0.6369420369219261, 0.6369420369219261, 0.6369420369219261, 0.6369420369219261, 0.6369420369219261, 0.6369420369219261, 0.6369420369219261, 0.6369420369219261, 0.6369420369219261, 0.6369420369219261, 0.6369420369219261, 0.6369420369219261, 0.6369420369219261, 0.6369420369219261, 0.6369420369219261, 0.6369420369219261, 0.6369420369219261, 0.6369420369219261, 0.6369420369219261, 0.6369420369219261, 0.6369420369219261, 0.6369420369219261, 0.6369420369219261, 0.6369420369219261, 0.6369420369219261, 0.6369420369219261, 0.6369420369219261, 0.6264620651428486, 0.5945665404115522, 0.5727736313962924, 0.5459771527216404, 0.5365483819909886, 0.5198691903890063, 0.5041763402449961, 0.5054964361729266, 0.5054964361729266, 0.5054964361729266, 0.5054964361729266, 0.5054964361729266, 0.5054964361729266, 0.5054964361729266, 0.5054964361729266, 0.5054964361729266, 0.5054964361729266, 0.5054964361729266, 0.5054964361729266, 0.5054964361729266, 0.5054964361729266, 0.5054964361729266, 0.5054964361729266, 0.5054964361729266, 0.5054964361729266, 0.5054964361729266, 0.5054964361729266, 0.5054964361729266, 0.5054964361729266, 0.5054964361729266, 0.5054964361729266, 0.5054964361729266]\n"
          ]
        }
      ]
    },
    {
      "cell_type": "code",
      "source": [
        "import matplotlib.pyplot as plt\n",
        "\n",
        "# Chuyển đổi lại train_data và test_data từ LightGBM Dataset sang mảng numpy\n",
        "train_data_array = train_features_rnn\n",
        "test_data_array = test_features_rnn\n",
        "\n",
        "# Vẽ đồ thị\n",
        "train_data_index = pd.RangeIndex(start=0, stop=len(train_data_array), step=1)\n",
        "plt.plot(train_data_index, scaler.inverse_transform(train_data_array), label='Train')\n",
        "\n",
        "test_data_index = pd.RangeIndex(start=len(train_data_array), stop=len(train_data_array) + len(test_data_array), step=1)\n",
        "plt.plot(test_data_index, scaler.inverse_transform(test_data_array), label='Test')\n",
        "\n",
        "# Điều chỉnh y_pred để có đúng hình dạng và chiều dài\n",
        "test_data_index_pred = pd.RangeIndex(start=len(train_data_array), stop=len(train_data_array) + len(y_pred), step=1)\n",
        "plt.plot(test_data_index_pred, scaler.inverse_transform(np.array(y_pred).reshape(-1, 1)), label='Predict')\n",
        "\n",
        "# Điều chỉnh next_60_days_predictions để có đúng hình dạng và chiều dài\n",
        "predict_data_index = pd.RangeIndex(start=len(df_reversed), stop=len(df_reversed) + len(next_60_days_predictions), step=1)\n",
        "plt.plot(predict_data_index, scaler.inverse_transform(np.array(next_60_days_predictions).reshape(-1, 1)), label='Predict60days')\n",
        "\n",
        "plt.legend(['Train', 'Test', 'Predict', 'Predict60days'])\n",
        "plt.show()\n",
        "\n"
      ],
      "metadata": {
        "colab": {
          "base_uri": "https://localhost:8080/",
          "height": 430
        },
        "id": "nZFR-LSubIOO",
        "outputId": "63f468c1-35e9-45cf-9df0-2b0dac5a6182"
      },
      "execution_count": 25,
      "outputs": [
        {
          "output_type": "display_data",
          "data": {
            "text/plain": [
              "<Figure size 640x480 with 1 Axes>"
            ],
            "image/png": "[encoded data removed]"
          },
          "metadata": {}
        }
      ]
    },
    {
      "cell_type": "code",
      "source": [
        "def predict_next_days(rnn_model, lgb_model, initial_data, time_step=100, days_to_predict=90):\n",
        "    predictions = []\n",
        "    current_sequence = initial_data[-time_step:]  # Lấy chuỗi dữ liệu cuối cùng làm dữ liệu khởi đầu\n",
        "\n",
        "    for _ in range(days_to_predict):\n",
        "        # Reshape data for prediction\n",
        "        current_sequence_reshaped = np.expand_dims(current_sequence, axis=0)\n",
        "\n",
        "        # Predict features using RNN\n",
        "        rnn_features = rnn_model.predict(current_sequence_reshaped)\n",
        "\n",
        "        # Predict the next day's closing price using LightGBM\n",
        "        next_close = lgb_model.predict(rnn_features)\n",
        "\n",
        "        # Append the prediction\n",
        "        predictions.append(next_close[0])\n",
        "\n",
        "        # Update the sequence with the new prediction\n",
        "        next_day = np.array([[next_close[0]]])\n",
        "        current_sequence = np.vstack((current_sequence[1:], next_day))\n",
        "\n",
        "    return predictions\n",
        "\n",
        "# Chuẩn bị dữ liệu ban đầu cho dự đoán 90 ngày tiếp theo\n",
        "initial_data = features[-time_step:].reshape(-1, 1)\n",
        "\n",
        "# Dự đoán 90 ngày tiếp theo\n",
        "days_to_predict = 90\n",
        "next_90_days_predictions = predict_next_days(rnn_model, lgb_model, initial_data, time_step, days_to_predict)\n",
        "print(\"Dự đoán giá đóng cửa cho 90 ngày tiếp theo:\", next_90_days_predictions)\n",
        "\n"
      ],
      "metadata": {
        "colab": {
          "base_uri": "https://localhost:8080/"
        },
        "id": "MF4il59M-F5h",
        "outputId": "4090cd5a-b3e3-4895-d3f2-83f31db665f9"
      },
      "execution_count": 26,
      "outputs": [
        {
          "output_type": "stream",
          "name": "stdout",
          "text": [
            "1/1 [==============================] - 0s 27ms/step\n",
            "1/1 [==============================] - 0s 23ms/step\n",
            "1/1 [==============================] - 0s 33ms/step\n",
            "1/1 [==============================] - 0s 22ms/step\n",
            "1/1 [==============================] - 0s 22ms/step\n",
            "1/1 [==============================] - 0s 36ms/step\n",
            "1/1 [==============================] - 0s 40ms/step\n",
            "1/1 [==============================] - 0s 33ms/step\n",
            "1/1 [==============================] - 0s 32ms/step\n",
            "1/1 [==============================] - 0s 34ms/step\n",
            "1/1 [==============================] - 0s 32ms/step\n",
            "1/1 [==============================] - 0s 45ms/step\n",
            "1/1 [==============================] - 0s 37ms/step\n",
            "1/1 [==============================] - 0s 33ms/step\n",
            "1/1 [==============================] - 0s 36ms/step\n",
            "1/1 [==============================] - 0s 33ms/step\n",
            "1/1 [==============================] - 0s 33ms/step\n",
            "1/1 [==============================] - 0s 33ms/step\n",
            "1/1 [==============================] - 0s 35ms/step\n",
            "1/1 [==============================] - 0s 36ms/step\n",
            "1/1 [==============================] - 0s 41ms/step\n",
            "1/1 [==============================] - 0s 34ms/step\n",
            "1/1 [==============================] - 0s 32ms/step\n",
            "1/1 [==============================] - 0s 45ms/step\n",
            "1/1 [==============================] - 0s 35ms/step\n",
            "1/1 [==============================] - 0s 39ms/step\n",
            "1/1 [==============================] - 0s 44ms/step\n",
            "1/1 [==============================] - 0s 32ms/step\n",
            "1/1 [==============================] - 0s 38ms/step\n",
            "1/1 [==============================] - 0s 37ms/step\n",
            "1/1 [==============================] - 0s 36ms/step\n",
            "1/1 [==============================] - 0s 42ms/step\n",
            "1/1 [==============================] - 0s 37ms/step\n",
            "1/1 [==============================] - 0s 38ms/step\n",
            "1/1 [==============================] - 0s 30ms/step\n",
            "1/1 [==============================] - 0s 22ms/step\n",
            "1/1 [==============================] - 0s 33ms/step\n",
            "1/1 [==============================] - 0s 22ms/step\n",
            "1/1 [==============================] - 0s 22ms/step\n",
            "1/1 [==============================] - 0s 23ms/step\n",
            "1/1 [==============================] - 0s 22ms/step\n",
            "1/1 [==============================] - 0s 23ms/step\n",
            "1/1 [==============================] - 0s 22ms/step\n",
            "1/1 [==============================] - 0s 22ms/step\n",
            "1/1 [==============================] - 0s 22ms/step\n",
            "1/1 [==============================] - 0s 22ms/step\n",
            "1/1 [==============================] - 0s 21ms/step\n",
            "1/1 [==============================] - 0s 22ms/step\n",
            "1/1 [==============================] - 0s 22ms/step\n",
            "1/1 [==============================] - 0s 23ms/step\n",
            "1/1 [==============================] - 0s 23ms/step\n",
            "1/1 [==============================] - 0s 22ms/step\n",
            "1/1 [==============================] - 0s 22ms/step\n",
            "1/1 [==============================] - 0s 22ms/step\n",
            "1/1 [==============================] - 0s 24ms/step\n",
            "1/1 [==============================] - 0s 22ms/step\n",
            "1/1 [==============================] - 0s 23ms/step\n",
            "1/1 [==============================] - 0s 22ms/step\n",
            "1/1 [==============================] - 0s 21ms/step\n",
            "1/1 [==============================] - 0s 22ms/step\n",
            "1/1 [==============================] - 0s 22ms/step\n",
            "1/1 [==============================] - 0s 23ms/step\n",
            "1/1 [==============================] - 0s 22ms/step\n",
            "1/1 [==============================] - 0s 22ms/step\n",
            "1/1 [==============================] - 0s 22ms/step\n",
            "1/1 [==============================] - 0s 22ms/step\n",
            "1/1 [==============================] - 0s 23ms/step\n",
            "1/1 [==============================] - 0s 23ms/step\n",
            "1/1 [==============================] - 0s 21ms/step\n",
            "1/1 [==============================] - 0s 22ms/step\n",
            "1/1 [==============================] - 0s 23ms/step\n",
            "1/1 [==============================] - 0s 22ms/step\n",
            "1/1 [==============================] - 0s 22ms/step\n",
            "1/1 [==============================] - 0s 24ms/step\n",
            "1/1 [==============================] - 0s 22ms/step\n",
            "1/1 [==============================] - 0s 24ms/step\n",
            "1/1 [==============================] - 0s 22ms/step\n",
            "1/1 [==============================] - 0s 23ms/step\n",
            "1/1 [==============================] - 0s 23ms/step\n",
            "1/1 [==============================] - 0s 22ms/step\n",
            "1/1 [==============================] - 0s 22ms/step\n",
            "1/1 [==============================] - 0s 24ms/step\n",
            "1/1 [==============================] - 0s 22ms/step\n",
            "1/1 [==============================] - 0s 23ms/step\n",
            "1/1 [==============================] - 0s 33ms/step\n",
            "1/1 [==============================] - 0s 24ms/step\n",
            "1/1 [==============================] - 0s 25ms/step\n",
            "1/1 [==============================] - 0s 22ms/step\n",
            "1/1 [==============================] - 0s 22ms/step\n",
            "1/1 [==============================] - 0s 22ms/step\n",
            "Dự đoán giá đóng cửa cho 90 ngày tiếp theo: [0.6369420369219261, 0.6369420369219261, 0.6369420369219261, 0.6369420369219261, 0.6369420369219261, 0.6369420369219261, 0.6369420369219261, 0.6369420369219261, 0.6369420369219261, 0.6369420369219261, 0.6369420369219261, 0.6369420369219261, 0.6369420369219261, 0.6369420369219261, 0.6369420369219261, 0.6369420369219261, 0.6369420369219261, 0.6369420369219261, 0.6369420369219261, 0.6369420369219261, 0.6369420369219261, 0.6369420369219261, 0.6369420369219261, 0.6369420369219261, 0.6369420369219261, 0.6369420369219261, 0.6369420369219261, 0.6369420369219261, 0.6264620651428486, 0.5945665404115522, 0.5727736313962924, 0.5459771527216404, 0.5365483819909886, 0.5198691903890063, 0.5041763402449961, 0.5054964361729266, 0.5054964361729266, 0.5054964361729266, 0.5054964361729266, 0.5054964361729266, 0.5054964361729266, 0.5054964361729266, 0.5054964361729266, 0.5054964361729266, 0.5054964361729266, 0.5054964361729266, 0.5054964361729266, 0.5054964361729266, 0.5054964361729266, 0.5054964361729266, 0.5054964361729266, 0.5054964361729266, 0.5054964361729266, 0.5054964361729266, 0.5054964361729266, 0.5054964361729266, 0.5054964361729266, 0.5054964361729266, 0.5054964361729266, 0.5054964361729266, 0.5054964361729266, 0.5054964361729266, 0.5054964361729266, 0.5054964361729266, 0.5054964361729266, 0.5054964361729266, 0.5054964361729266, 0.5054964361729266, 0.5054964361729266, 0.5054964361729266, 0.5054964361729266, 0.5054964361729266, 0.5054964361729266, 0.5054964361729266, 0.5054964361729266, 0.5054964361729266, 0.5054964361729266, 0.5054964361729266, 0.5054964361729266, 0.5054964361729266, 0.5054964361729266, 0.5054964361729266, 0.5054964361729266, 0.5054964361729266, 0.5054964361729266, 0.5054964361729266, 0.5054964361729266, 0.5054964361729266, 0.5054964361729266, 0.5054964361729266]\n"
          ]
        }
      ]
    },
    {
      "cell_type": "code",
      "source": [
        "import matplotlib.pyplot as plt\n",
        "\n",
        "# Chuyển đổi lại train_data và test_data từ LightGBM Dataset sang mảng numpy\n",
        "train_data_array = X_train[:, -1].reshape(-1, 1)\n",
        "test_data_array = X_test[:, -1].reshape(-1, 1)\n",
        "\n",
        "# Vẽ đồ thị\n",
        "train_data_index = pd.RangeIndex(start=0, stop=len(train_data_array), step=1)\n",
        "plt.plot(train_data_index, scaler.inverse_transform(train_data_array), label='Train')\n",
        "\n",
        "test_data_index = pd.RangeIndex(start=len(train_data_array), stop=len(train_data_array) + len(test_data_array), step=1)\n",
        "plt.plot(test_data_index, scaler.inverse_transform(test_data_array), label='Test')\n",
        "\n",
        "# Điều chỉnh y_pred để có đúng hình dạng và chiều dài\n",
        "test_data_index_pred = pd.RangeIndex(start=len(train_data_array), stop=len(train_data_array) + len(y_pred), step=1)\n",
        "plt.plot(test_data_index_pred, scaler.inverse_transform(np.array(y_pred).reshape(-1, 1)), label='Predict')\n",
        "\n",
        "# Điều chỉnh next_90_days_predictions để có đúng hình dạng và chiều dài\n",
        "predict_data_index = pd.RangeIndex(start=len(df_reversed), stop=len(df_reversed) + len(next_90_days_predictions), step=1)\n",
        "plt.plot(predict_data_index, scaler.inverse_transform(np.array(next_90_days_predictions).reshape(-1, 1)), label='Predict90days')\n",
        "\n",
        "plt.legend(['Train', 'Test', 'Predict', 'Predict90days'])\n",
        "plt.show()\n"
      ],
      "metadata": {
        "colab": {
          "base_uri": "https://localhost:8080/",
          "height": 430
        },
        "id": "VeQ2ElFG-Izb",
        "outputId": "051e98d5-8bea-4944-a527-63a2de648595"
      },
      "execution_count": 27,
      "outputs": [
        {
          "output_type": "display_data",
          "data": {
            "text/plain": [
              "<Figure size 640x480 with 1 Axes>"
            ],
            "image/png": "[encoded data removed]"
          },
          "metadata": {}
        }
      ]
    }
  ]
}